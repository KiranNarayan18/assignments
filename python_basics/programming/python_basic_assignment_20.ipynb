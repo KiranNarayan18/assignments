{
 "cells": [
  {
   "cell_type": "code",
   "execution_count": 1,
   "metadata": {},
   "outputs": [
    {
     "data": {
      "text/plain": [
       "[1, 2]"
      ]
     },
     "execution_count": 1,
     "metadata": {},
     "output_type": "execute_result"
    }
   ],
   "source": [
    "# Question1\n",
    "# Create a function that takes a list of strings and integers, and filters out the list so that it returns a list of integers only.\n",
    "\n",
    "def filter_list(lst:list) -> list:\n",
    "    try:\n",
    "        new_lilst = [i for i in input_str if isinstance(i, int)]\n",
    "        return new_lilst\n",
    "        \n",
    "    except Exception as e:\n",
    "        print(e)\n",
    "\n",
    "\n",
    "\n",
    "input_str = [1, 2, \"a\", \"b\"]\n",
    "\n",
    "new_lilst = filter_list(input_str)\n",
    "new_lilst"
   ]
  },
  {
   "cell_type": "code",
   "execution_count": 3,
   "metadata": {},
   "outputs": [
    {
     "name": "stdout",
     "output_type": "stream",
     "text": [
      "[1, 3, 5, 7]\n"
     ]
    }
   ],
   "source": [
    "# Question2\n",
    "# Given a list of numbers, create a function which returns the list but with each element's index in the list added to itself. \n",
    "\n",
    "def question2(nums:list) -> list:\n",
    "    try:\n",
    "        \n",
    "        new_lilst = [i+j for i,j in enumerate(input_str)]\n",
    "        return new_lilst\n",
    "        \n",
    "    except Exception as e:\n",
    "        print(e)\n",
    "\n",
    "input_str = [1, 2, 3, 4]\n",
    "\n",
    "print(question2(input_str))\n"
   ]
  },
  {
   "cell_type": "code",
   "execution_count": 4,
   "metadata": {},
   "outputs": [
    {
     "data": {
      "text/plain": [
       "12.57"
      ]
     },
     "execution_count": 4,
     "metadata": {},
     "output_type": "execute_result"
    }
   ],
   "source": [
    "# question 3\n",
    "# Create a function that takes the height and radius of a cone as arguments and returns the volume of the cone rounded to the nearest hundredth. \n",
    "\n",
    "def find_volume_of_cone(height, radius):\n",
    "    try:\n",
    "        vol = (1/3) * (height * 3.142 * radius ** 2) \n",
    "        \n",
    "        return round(vol, 2)        \n",
    "        \n",
    "    except Exception as e:\n",
    "        print(e)\n",
    "\n",
    "find_volume_of_cone(3, 2)"
   ]
  },
  {
   "cell_type": "code",
   "execution_count": 22,
   "metadata": {},
   "outputs": [
    {
     "data": {
      "text/plain": [
       "23220"
      ]
     },
     "execution_count": 22,
     "metadata": {},
     "output_type": "execute_result"
    }
   ],
   "source": [
    "\n",
    "\n",
    "def number_series(n):\n",
    "    try:\n",
    "        list1 = [i for i in range(1,n+1)]\n",
    "        list2 = [i for i in range(2, n+2)]\n",
    "\n",
    "        for i in range(len(list1)-1):\n",
    "            list1[i+1] = list1[i] + list2[i]\n",
    "\n",
    "        return list1[n-1]\n",
    "\n",
    "    except Exception as e:\n",
    "        print(e)\n",
    "\n",
    "n = int(input(\"Enter the number: \"))\n",
    "\n",
    "number_series(n)      \n"
   ]
  },
  {
   "cell_type": "code",
   "execution_count": 28,
   "metadata": {},
   "outputs": [
    {
     "data": {
      "text/plain": [
       "10"
      ]
     },
     "execution_count": 28,
     "metadata": {},
     "output_type": "execute_result"
    }
   ],
   "source": [
    "# Question5\n",
    "# Create a function that takes a list of numbers between 1 and 10 (excluding one number) and returns the missing number.\n",
    "\n",
    "def missing_num(nums):\n",
    "    try:\n",
    "        std_list = [i for i in range(1, 11)]\n",
    "\n",
    "        for num in nums:\n",
    "            if num in std_list and num >= 1 and num <= 10:\n",
    "                std_list.remove(num)\n",
    "                \n",
    "        return std_list[0]\n",
    "\n",
    "    except Exception as e:\n",
    "        print(e)\n",
    "\n",
    "\n",
    "missing_num([7, 2, 3, 6, 5, 9, 1, 4, 8]) \n"
   ]
  },
  {
   "cell_type": "code",
   "execution_count": null,
   "metadata": {},
   "outputs": [],
   "source": []
  }
 ],
 "metadata": {
  "kernelspec": {
   "display_name": "base",
   "language": "python",
   "name": "python3"
  },
  "language_info": {
   "codemirror_mode": {
    "name": "ipython",
    "version": 3
   },
   "file_extension": ".py",
   "mimetype": "text/x-python",
   "name": "python",
   "nbconvert_exporter": "python",
   "pygments_lexer": "ipython3",
   "version": "3.9.13"
  },
  "orig_nbformat": 4,
  "vscode": {
   "interpreter": {
    "hash": "d56d7ac4ee4883c35c50b079d388610bdf13d54aa1c1112da169cfd5d54eb276"
   }
  }
 },
 "nbformat": 4,
 "nbformat_minor": 2
}
