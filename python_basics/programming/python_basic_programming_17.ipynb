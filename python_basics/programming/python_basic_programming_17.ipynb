{
 "cells": [
  {
   "cell_type": "code",
   "execution_count": 2,
   "metadata": {},
   "outputs": [
    {
     "name": "stdout",
     "output_type": "stream",
     "text": [
      "0\n"
     ]
    }
   ],
   "source": [
    "# Question 1 \n",
    "# Create a function that takes three arguments a, b, c and returns the sum of the numbers that are evenly divided by c from the range a, b inclusive.\n",
    "\n",
    "def getNumbers(a:int, b:int,c:int) -> int:\n",
    "    try:\n",
    "        return sum([i for i in range(a,b) if i // c])\n",
    "                \n",
    "    except Exception as e:\n",
    "        print(e)\n",
    "        \n",
    "getNumbers(1, 10, 20)        "
   ]
  },
  {
   "cell_type": "code",
   "execution_count": 5,
   "metadata": {},
   "outputs": [
    {
     "name": "stdout",
     "output_type": "stream",
     "text": [
      "the input string is 3 < 7 < 11\n",
      "True\n"
     ]
    }
   ],
   "source": [
    "# Question 2\n",
    "# Create a function that returns True if a given inequality expression is correct and False otherwise.\n",
    "\n",
    "def checkInequality(input_str:str) -> bool:\n",
    "    try:\n",
    "        print(f\"the input string is {input_str}\")\n",
    "        result = eval(input_str)\n",
    "        if result:\n",
    "            return True\n",
    "        return False \n",
    "    \n",
    "    except Exception as e:\n",
    "        print(e)\n",
    "\n",
    "\n",
    "input_str = input(\"Enter input: \")\n",
    "\n",
    "print(checkInequality(input_str))"
   ]
  },
  {
   "cell_type": "code",
   "execution_count": 8,
   "metadata": {},
   "outputs": [
    {
     "name": "stdout",
     "output_type": "stream",
     "text": [
      "the input string is the aardvark\n",
      "th# ##rdv#rk\n"
     ]
    }
   ],
   "source": [
    "# Question 3 \n",
    "# Create a function that replaces all the vowels in a string with a specified character.\n",
    "\n",
    "def replaceVowles(input_str:str, specific_char:str ) -> str:\n",
    "    try:       \n",
    "        input_str = input_str.lower()\n",
    "        print(f\"the input string is {input_str}\")\n",
    "        for i in ['a', 'e', 'i', 'o', 'u']:\n",
    "            input_str = input_str.replace(i, specific_char)\n",
    "        return input_str\n",
    "    except Exception as e:\n",
    "        print(e)\n",
    "        \n",
    "input_str = input(\"enter a string\")\n",
    "sp_char = input(\"enter a char to replace with\")\n",
    "print(replaceVowles(input_str, sp_char ))"
   ]
  },
  {
   "cell_type": "code",
   "execution_count": 11,
   "metadata": {},
   "outputs": [
    {
     "name": "stdout",
     "output_type": "stream",
     "text": [
      "entered number is 5\n"
     ]
    },
    {
     "data": {
      "text/plain": [
       "120"
      ]
     },
     "execution_count": 11,
     "metadata": {},
     "output_type": "execute_result"
    }
   ],
   "source": [
    "# Question 4. \n",
    "# Write a function that calculates the factorial of a number recursively.\n",
    "\n",
    "def getFactorial(num:int) -> int:\n",
    "    try:\n",
    "        \n",
    "        if num < 1:\n",
    "            return 1\n",
    "        return num * getFactorial(num - 1)\n",
    "    \n",
    "    except Exception as e:\n",
    "        print(e)\n",
    "        \n",
    "num = int(input(\"enter a number: \"))\n",
    "print(f\"entered number is {num}\")\n",
    "getFactorial(num)"
   ]
  },
  {
   "cell_type": "code",
   "execution_count": 17,
   "metadata": {},
   "outputs": [
    {
     "name": "stdout",
     "output_type": "stream",
     "text": [
      "the input strings are abcbba and abcbda\n"
     ]
    },
    {
     "data": {
      "text/plain": [
       "1"
      ]
     },
     "execution_count": 17,
     "metadata": {},
     "output_type": "execute_result"
    }
   ],
   "source": [
    "#question 5\n",
    "# Hamming distance is the number of characters that differ between two strings.\n",
    "\n",
    "def hammingDistance(input_str1:str, input_str2:str) -> int:\n",
    "    try:\n",
    "        print(f\"the input strings are {input_str1} and {input_str2}\")\n",
    "        counter = 0\n",
    "        for i, j in zip(input_str1, input_str2):\n",
    "            if i != j:\n",
    "                counter = counter + 1\n",
    "        \n",
    "        return counter    \n",
    "    except Exception as e:\n",
    "        print(e)\n",
    "        \n",
    "        \n",
    "input_str1 = input(\"enter a string\")      \n",
    "input_str2 = input(\"enter a string\")\n",
    "\n",
    "hammingDistance(input_str1, input_str2)\n",
    "\n"
   ]
  },
  {
   "cell_type": "code",
   "execution_count": null,
   "metadata": {},
   "outputs": [],
   "source": []
  },
  {
   "cell_type": "code",
   "execution_count": null,
   "metadata": {},
   "outputs": [],
   "source": []
  }
 ],
 "metadata": {
  "kernelspec": {
   "display_name": "Python 3",
   "language": "python",
   "name": "python3"
  },
  "language_info": {
   "codemirror_mode": {
    "name": "ipython",
    "version": 3
   },
   "file_extension": ".py",
   "mimetype": "text/x-python",
   "name": "python",
   "nbconvert_exporter": "python",
   "pygments_lexer": "ipython3",
   "version": "3.10.0"
  },
  "orig_nbformat": 4,
  "vscode": {
   "interpreter": {
    "hash": "369f2c481f4da34e4445cda3fffd2e751bd1c4d706f27375911949ba6bb62e1c"
   }
  }
 },
 "nbformat": 4,
 "nbformat_minor": 2
}
