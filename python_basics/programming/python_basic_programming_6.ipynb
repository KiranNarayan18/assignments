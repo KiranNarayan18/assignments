{
 "cells": [
  {
   "cell_type": "code",
   "execution_count": 5,
   "metadata": {},
   "outputs": [
    {
     "name": "stdout",
     "output_type": "stream",
     "text": [
      "0\n",
      "1\n",
      "1\n",
      "2\n",
      "3\n",
      "5\n",
      "8\n",
      "13\n",
      "21\n",
      "34\n"
     ]
    }
   ],
   "source": [
    "# question 1 Write a Python Program to Display Fibonacci Sequence Using Recursion?\n",
    "\n",
    "def fibonaci_series(n):  \n",
    "    if n <= 1:  \n",
    "       return n  \n",
    "   \n",
    "    return(fibonaci_series(n-1) + fibonaci_series(n-2))  \n",
    "\n",
    "num = int(input(\"Hey User, Enter a number \"))  \n",
    "\n",
    "for i in range(num):  \n",
    "    print(fibonaci_series(i))  "
   ]
  },
  {
   "cell_type": "code",
   "execution_count": 1,
   "metadata": {},
   "outputs": [
    {
     "data": {
      "text/plain": [
       "120"
      ]
     },
     "execution_count": 1,
     "metadata": {},
     "output_type": "execute_result"
    }
   ],
   "source": [
    "#question 2\tWrite a Python Program to Find Factorial of Number Using Recursion?\n",
    "def factorial(x):\n",
    "    if x <= 1:\n",
    "        return x\n",
    "    return x*factorial(x-1)\n",
    "factorial(5)\n",
    "        "
   ]
  },
  {
   "cell_type": "code",
   "execution_count": 8,
   "metadata": {},
   "outputs": [
    {
     "data": {
      "text/plain": [
       "21.513858510523864"
      ]
     },
     "execution_count": 8,
     "metadata": {},
     "output_type": "execute_result"
    }
   ],
   "source": [
    "# question 3 Write a Python Program to calculate your Body Mass Index?\n",
    "def checkBMI(weight, height):\n",
    "    \"\"\"takes weight and height as input and return Body Mass Index \n",
    "\n",
    "    Args:\n",
    "        weight (float): units kg\n",
    "        height (float): units m\n",
    "    \"\"\"\n",
    "    BMI = (weight /(height ** 2))\n",
    "    \n",
    "    return BMI\n",
    "\n",
    "checkBMI(60,1.67)"
   ]
  },
  {
   "cell_type": "code",
   "execution_count": 9,
   "metadata": {},
   "outputs": [
    {
     "name": "stdout",
     "output_type": "stream",
     "text": [
      "the natural logarithm of 5 is 1.6094379124341003\n"
     ]
    }
   ],
   "source": [
    "# question 4.\tWrite a Python Program to calculate the natural logarithm of any number?\n",
    "import math\n",
    "number = 5\n",
    "print(f\"the natural logarithm of {number} is {math.log(number)}\")"
   ]
  },
  {
   "cell_type": "code",
   "execution_count": 17,
   "metadata": {},
   "outputs": [
    {
     "data": {
      "text/plain": [
       "3375"
      ]
     },
     "execution_count": 17,
     "metadata": {},
     "output_type": "execute_result"
    }
   ],
   "source": [
    "# question 5.\tWrite a Python Program for cube sum of first n natural numbers?\n",
    "from functools import reduce\n",
    "num = 5\n",
    "print(reduce(lambda x, y: x+y, range(num+1)) ** 3)"
   ]
  },
  {
   "cell_type": "code",
   "execution_count": null,
   "metadata": {},
   "outputs": [],
   "source": []
  },
  {
   "cell_type": "code",
   "execution_count": null,
   "metadata": {},
   "outputs": [],
   "source": []
  },
  {
   "cell_type": "code",
   "execution_count": null,
   "metadata": {},
   "outputs": [],
   "source": []
  }
 ],
 "metadata": {
  "kernelspec": {
   "display_name": "Python 3.10.0 64-bit",
   "language": "python",
   "name": "python3"
  },
  "language_info": {
   "codemirror_mode": {
    "name": "ipython",
    "version": 3
   },
   "file_extension": ".py",
   "mimetype": "text/x-python",
   "name": "python",
   "nbconvert_exporter": "python",
   "pygments_lexer": "ipython3",
   "version": "3.10.0 (tags/v3.10.0:b494f59, Oct  4 2021, 19:00:18) [MSC v.1929 64 bit (AMD64)]"
  },
  "orig_nbformat": 4,
  "vscode": {
   "interpreter": {
    "hash": "369f2c481f4da34e4445cda3fffd2e751bd1c4d706f27375911949ba6bb62e1c"
   }
  }
 },
 "nbformat": 4,
 "nbformat_minor": 2
}
