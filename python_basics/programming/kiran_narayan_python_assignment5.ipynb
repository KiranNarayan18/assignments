{
 "cells": [
  {
   "cell_type": "code",
   "execution_count": 26,
   "metadata": {},
   "outputs": [
    {
     "name": "stdout",
     "output_type": "stream",
     "text": [
      "24\n"
     ]
    }
   ],
   "source": [
    "#question 1 Write a Python Program to Find LCM?\n",
    "from functools import reduce\n",
    "\n",
    "def test(a,b):\n",
    "    if a != b:\n",
    "        return a * b\n",
    "    greater = a if a > b else b\n",
    "    \n",
    "    while True:\n",
    "       if((greater % a == 0) and (greater % b == 0)):\n",
    "           lcm = greater\n",
    "           break\n",
    "       greater += 1\n",
    "\n",
    "    return lcm\n",
    "\n",
    "    \n",
    "def findLCM(*args): \n",
    "    \"\"\"takes two integers as input and returns the LCM of same\"\"\"\n",
    "    lis  = list(args)\n",
    "    print(reduce(test, lis))\n",
    "\n",
    "findLCM(2,3,4)"
   ]
  },
  {
   "cell_type": "code",
   "execution_count": 29,
   "metadata": {},
   "outputs": [
    {
     "name": "stdout",
     "output_type": "stream",
     "text": [
      "2\n"
     ]
    }
   ],
   "source": [
    "#question 2 Write a Python Program to Find HCF?\n",
    "def test(a, b):\n",
    "    if(b == 0):\n",
    "        return abs(a)\n",
    "    else:\n",
    "        return test(b, a % b)\n",
    "\n",
    "def findHCF(*args): \n",
    "    \"\"\"takes two integers as input and returns the HCF of same\"\"\"\n",
    "    lis  = list(args)\n",
    "    print(reduce(test, lis))\n",
    "\n",
    "findHCF(2,6,4)\n",
    "\n"
   ]
  },
  {
   "cell_type": "code",
   "execution_count": 32,
   "metadata": {},
   "outputs": [
    {
     "name": "stdout",
     "output_type": "stream",
     "text": [
      "5 is represented as binary - 0b101, octal - 0o5, Hexadecimal - 0x5\n"
     ]
    }
   ],
   "source": [
    "# question 3 Write a Python Program to Convert Decimal to Binary, Octal and Hexadecimal?\n",
    "\n",
    "num = int(input('enter a number'))\n",
    "    \n",
    "print(f'{num} is represented as binary - {bin(num)}, octal - {oct(num)}, Hexadecimal - {hex(num)}')\n"
   ]
  },
  {
   "cell_type": "code",
   "execution_count": 48,
   "metadata": {},
   "outputs": [
    {
     "name": "stdout",
     "output_type": "stream",
     "text": [
      "The ASCII value of A is 65\n"
     ]
    }
   ],
   "source": [
    "# question 4.\tWrite a Python Program To Find ASCII value of a character?\n",
    "\n",
    "c = input('enter a character')\n",
    "print(f\"The ASCII value of {c} is {ord(c)}\")\n"
   ]
  },
  {
   "cell_type": "code",
   "execution_count": 49,
   "metadata": {},
   "outputs": [
    {
     "name": "stdout",
     "output_type": "stream",
     "text": [
      "8\n"
     ]
    }
   ],
   "source": [
    "#question 5\tWrite a Python Program to Make a Simple Calculator with 4 basic mathematical operations?\n",
    "def add(a,b):\n",
    "    print(a + b)\n",
    "\n",
    "def sub(a,b):\n",
    "    print(a - b)\n",
    "\n",
    "def mul(a,b):\n",
    "    print(a * b)\n",
    "    \n",
    "def div(a,b):\n",
    "    print(a / b)\n",
    "\n",
    "def test(func, a,b):\n",
    "    func(a,b)\n",
    "    \n",
    "test(mul, 2,4)"
   ]
  },
  {
   "cell_type": "code",
   "execution_count": null,
   "metadata": {},
   "outputs": [],
   "source": []
  }
 ],
 "metadata": {
  "kernelspec": {
   "display_name": "Python 3.10.0 64-bit",
   "language": "python",
   "name": "python3"
  },
  "language_info": {
   "codemirror_mode": {
    "name": "ipython",
    "version": 3
   },
   "file_extension": ".py",
   "mimetype": "text/x-python",
   "name": "python",
   "nbconvert_exporter": "python",
   "pygments_lexer": "ipython3",
   "version": "3.10.0 (tags/v3.10.0:b494f59, Oct  4 2021, 19:00:18) [MSC v.1929 64 bit (AMD64)]"
  },
  "orig_nbformat": 4,
  "vscode": {
   "interpreter": {
    "hash": "369f2c481f4da34e4445cda3fffd2e751bd1c4d706f27375911949ba6bb62e1c"
   }
  }
 },
 "nbformat": 4,
 "nbformat_minor": 2
}
