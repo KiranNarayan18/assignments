{
 "cells": [
  {
   "cell_type": "code",
   "execution_count": 15,
   "metadata": {},
   "outputs": [
    {
     "name": "stdout",
     "output_type": "stream",
     "text": [
      "the number 175 is Disarium number\n"
     ]
    }
   ],
   "source": [
    "# 1.\tWrite a Python program to check if the given number is a Disarium Number?\n",
    "\n",
    "# A number is said to be the Disarium number when the sum of its digit raised to the power of their respective positions is equal to the number itself.\n",
    "\n",
    "user_input = str(int(input(\"Hey User, Enter a number\")))\n",
    "\n",
    "total = sum([int(user_input[i]) ** (i + 1) for i in range(len(user_input))])\n",
    "if int(user_input) == total:\n",
    "    print(f\"the number {user_input} is Disarium number\")\n",
    "else:\n",
    "    print(f\"the number {user_input} is not Disarium number\")\n"
   ]
  },
  {
   "cell_type": "code",
   "execution_count": 23,
   "metadata": {},
   "outputs": [
    {
     "name": "stdout",
     "output_type": "stream",
     "text": [
      "[0, 1, 2, 3, 4, 5, 6, 7, 8, 9, 89]\n"
     ]
    }
   ],
   "source": [
    "# 2.\tWrite a Python program to print all disarium numbers between 1 to 100?\n",
    "\n",
    "def check_disarium_num(number:int) -> bool:\n",
    "    \n",
    "    try:\n",
    "        total = sum([int(number[i]) ** (i + 1) for i in range(len(number))])\n",
    "        if int(number) == total:\n",
    "            return True\n",
    "        return False\n",
    "    except Exception as e:\n",
    "        print('error found', e)\n",
    "\n",
    "user_input = int(input(\"Hey User, Enter a number\"))\n",
    "\n",
    "print([i for i in range(user_input) if check_disarium_num(str(i))])"
   ]
  },
  {
   "cell_type": "code",
   "execution_count": 28,
   "metadata": {},
   "outputs": [
    {
     "name": "stdout",
     "output_type": "stream",
     "text": [
      "17 is not happy number\n"
     ]
    }
   ],
   "source": [
    "# 3.\tWrite a Python program to check if the given number is Happy Number?\n",
    "\n",
    "def checkHappyNum(num:int) -> bool:\n",
    "    try:\n",
    "        square_list = list()\n",
    "        \n",
    "        while num != 1:\n",
    "            num = sum([int(i) ** 2 for i in str(num)])\n",
    "                \n",
    "            if num in square_list:\n",
    "                return False\n",
    "            \n",
    "            square_list.append(num)\n",
    "            \n",
    "        return True\n",
    "    \n",
    "    except Exception as e:\n",
    "        print('error found', e)\n",
    "        \n",
    "num = input('hey user enter a number')\n",
    "result = checkHappyNum(num)\n",
    "\n",
    "print(f'{num} is happy number ' if result else f'{num} is not happy number' )    "
   ]
  },
  {
   "cell_type": "code",
   "execution_count": 27,
   "metadata": {},
   "outputs": [
    {
     "name": "stdout",
     "output_type": "stream",
     "text": [
      "[1, 7, 10, 13, 19, 23, 28, 31, 32, 44, 49, 68, 70, 79, 82, 86, 91, 94, 97, 100]\n"
     ]
    }
   ],
   "source": [
    "# 4.\tWrite a Python program to print all happy numbers between 1 and 100?\n",
    "\n",
    "def checkHappyNum(num:int) -> bool:\n",
    "    try:\n",
    "        square_list = list()\n",
    "        \n",
    "        while num != 1:\n",
    "            num = sum([int(i) ** 2 for i in str(num)])\n",
    "                \n",
    "            if num in square_list:\n",
    "                return False\n",
    "            \n",
    "            square_list.append(num)\n",
    "            \n",
    "        return True\n",
    "    \n",
    "    except Exception as e:\n",
    "        print('error found', e)\n",
    "        \n",
    "\n",
    "print([num for num in range(101) if checkHappyNum(num)])\n"
   ]
  },
  {
   "cell_type": "code",
   "execution_count": 33,
   "metadata": {},
   "outputs": [
    {
     "name": "stdout",
     "output_type": "stream",
     "text": [
      "156 is a Harshad Number\n"
     ]
    }
   ],
   "source": [
    "# 5.\tWrite a Python program to determine whether the given number is a Harshad Number?\n",
    "def isHarshadNum(num:int) -> bool:\n",
    "    try:\n",
    "        #if a num is divisble by its sum\n",
    "        num_sum = sum([int(i) for i in str(num)])\n",
    "        \n",
    "        if num % num_sum == 0:\n",
    "            return True\n",
    "        \n",
    "        return False\n",
    "        \n",
    "    except Exception as e:\n",
    "        print(e)\n",
    "\n",
    "num = 156\n",
    "print(f'{num} is a Harshad Number' if isHarshadNum(num) else f'{num} is a not Harshad Number' )"
   ]
  },
  {
   "cell_type": "code",
   "execution_count": 50,
   "metadata": {},
   "outputs": [
    {
     "name": "stdout",
     "output_type": "stream",
     "text": [
      "[2, 6, 12, 20, 30, 42, 56, 72, 90]\n"
     ]
    }
   ],
   "source": [
    "# 6.\tWrite a Python program to print all pronic numbers between 1 and 100?\n",
    "\n",
    "def isPronicNum(num:int) -> bool:\n",
    "    try:\n",
    "        for i in range(1,num):\n",
    "            \n",
    "            if i * (i + 1) == num:                \n",
    "                return True\n",
    "        return False\n",
    "    except Exception as e:\n",
    "        print(e)\n",
    "x = 100        \n",
    "print([num for num in range(x+1) if isPronicNum(num)])"
   ]
  },
  {
   "cell_type": "code",
   "execution_count": null,
   "metadata": {},
   "outputs": [],
   "source": []
  }
 ],
 "metadata": {
  "kernelspec": {
   "display_name": "Python 3",
   "language": "python",
   "name": "python3"
  },
  "language_info": {
   "codemirror_mode": {
    "name": "ipython",
    "version": 3
   },
   "file_extension": ".py",
   "mimetype": "text/x-python",
   "name": "python",
   "nbconvert_exporter": "python",
   "pygments_lexer": "ipython3",
   "version": "3.10.0 (tags/v3.10.0:b494f59, Oct  4 2021, 19:00:18) [MSC v.1929 64 bit (AMD64)]"
  },
  "orig_nbformat": 4,
  "vscode": {
   "interpreter": {
    "hash": "369f2c481f4da34e4445cda3fffd2e751bd1c4d706f27375911949ba6bb62e1c"
   }
  }
 },
 "nbformat": 4,
 "nbformat_minor": 2
}
