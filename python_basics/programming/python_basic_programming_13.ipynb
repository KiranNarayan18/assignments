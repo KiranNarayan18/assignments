{
 "cells": [
  {
   "cell_type": "code",
   "execution_count": 4,
   "metadata": {},
   "outputs": [
    {
     "data": {
      "text/plain": [
       "[18, 22, 24]"
      ]
     },
     "execution_count": 4,
     "metadata": {},
     "output_type": "execute_result"
    }
   ],
   "source": [
    "\"\"\"Question 1:\n",
    "\n",
    "Write a program that calculates and prints the value according to the given formula:\n",
    "\n",
    "Q = Square root of [(2 * C * D)/H]\n",
    "\n",
    "Following are the fixed values of C and H:\n",
    "\n",
    "C is 50. H is 30.\n",
    "\n",
    "D is the variable whose values should be input to your program in a comma-separated sequence.\n",
    "\n",
    "Example\n",
    "\n",
    "Let us assume the following comma separated input sequence is given to the program:\n",
    "\n",
    "100,150,180\n",
    "\n",
    "The output of the program should be:\n",
    "\n",
    "18,22,24\n",
    "\"\"\"\n",
    "\n",
    "\n",
    "def sol_problem1(user_input:list) -> list:\n",
    "    \n",
    "    try:\n",
    "        c,h = 50,30          \n",
    "        \n",
    "        q = [int(((2 * c * d)/h) ** (0.5)) for d in user_input]\n",
    "        \n",
    "        return q\n",
    "    \n",
    "    except Exception as e:\n",
    "        print(\"error\", e)\n",
    "    \n",
    "\n",
    "user_input = input().split(',')\n",
    "user_input = [int(i) for i in user_input]\n",
    "\n",
    "sol_problem1(user_input)\n"
   ]
  },
  {
   "cell_type": "code",
   "execution_count": 8,
   "metadata": {},
   "outputs": [
    {
     "name": "stdout",
     "output_type": "stream",
     "text": [
      "[[0, 0, 0, 0, 0], [0, 1, 2, 3, 4], [0, 2, 4, 6, 8]]\n"
     ]
    }
   ],
   "source": [
    "\"\"\"Question 2:\n",
    "Write a program which takes 2 digits, X,Y as input and generates a 2-dimensional array. The element value in the i-th row and j-th column of the array should be i*j.\n",
    "\n",
    "Note: i=0,1.., X-1; j=0,1,¡¬Y-1.\n",
    "\n",
    "Example\n",
    "\n",
    "Suppose the following inputs are given to the program:\n",
    "\n",
    "3,5\n",
    "\n",
    "Then, the output of the program should be:\n",
    "\n",
    "[[0, 0, 0, 0, 0], [0, 1, 2, 3, 4], [0, 2, 4, 6, 8]] \"\"\"\n",
    "\n",
    "\n",
    "def soln_prb2(x:int, y:int) -> list:\n",
    "    \n",
    "    try:\n",
    "        \n",
    "        main_list = list()\n",
    "        for i in range(x):\n",
    "            nested_list = list()\n",
    "            for j in range(y):\n",
    "                nested_list.append(i*j)\n",
    "            main_list.append(nested_list)            \n",
    "        return main_list\n",
    "    \n",
    "    except Exception as e:\n",
    "        print(\"error\", e)\n",
    "\n",
    "user_inputx = int(input(\"hey user enter a number\"))\n",
    "user_inputy = int(input(\"hey user enter a number\"))\n",
    "\n",
    "result = soln_prb2(user_inputx, user_inputy)\n",
    "print(result)"
   ]
  },
  {
   "cell_type": "code",
   "execution_count": 10,
   "metadata": {},
   "outputs": [
    {
     "data": {
      "text/plain": [
       "'bag,hello,without,world'"
      ]
     },
     "execution_count": 10,
     "metadata": {},
     "output_type": "execute_result"
    }
   ],
   "source": [
    "\"\"\"Question 3:\n",
    "Write a program that accepts a comma separated sequence of words as input and prints the words in a comma-separated sequence after sorting them alphabetically.\n",
    "\n",
    "Suppose the following input is supplied to the program:\n",
    "\n",
    "without,hello,bag,world\n",
    "\n",
    "Then, the output should be:\n",
    "\n",
    "bag,hello,without,world\"\"\"\n",
    "\n",
    "\n",
    "def soln_prb3(user_input:list) -> str:\n",
    "    \n",
    "    try:\n",
    "        user_input.sort()\n",
    "        user_input = ','.join(user_input)\n",
    "        return user_input\n",
    "    \n",
    "    except Exception as e:\n",
    "        print(\"error\", e)\n",
    "\n",
    "\n",
    "user_input = input(\"hey user enter the some words\").split(',')\n",
    "\n",
    "soln_prb3(user_input)"
   ]
  },
  {
   "cell_type": "code",
   "execution_count": 17,
   "metadata": {},
   "outputs": [
    {
     "data": {
      "text/plain": [
       "'again and hello makes perfect practice world'"
      ]
     },
     "execution_count": 17,
     "metadata": {},
     "output_type": "execute_result"
    }
   ],
   "source": [
    "\"\"\"Question 4:\n",
    "Write a program that accepts a sequence of whitespace separated words as input and prints the words after removing all duplicate words and sorting them alphanumerically.\n",
    "\n",
    "Suppose the following input is supplied to the program:\n",
    "\n",
    "hello world and practice makes perfect and hello world again\n",
    "\n",
    "Then, the output should be:\n",
    "\n",
    "again and hello makes perfect practice world\"\"\"\n",
    "\n",
    "\n",
    "def soln_prb4(user_input:list) -> str:\n",
    "    \n",
    "    try:        \n",
    "        user_input = sorted(set(user_input))\n",
    "        user_input = ' '.join(user_input)\n",
    "        return user_input\n",
    "    \n",
    "    except Exception as e:\n",
    "        print(\"error\", e)\n",
    "        \n",
    "        \n",
    "user_input = input(\"hey user enter the some words\").split(' ')\n",
    "# user_input = \"hello world and practice makes perfect and hello world again\".split(' ')\n",
    "soln_prb4(user_input)"
   ]
  },
  {
   "cell_type": "code",
   "execution_count": 22,
   "metadata": {},
   "outputs": [
    {
     "name": "stdout",
     "output_type": "stream",
     "text": [
      "user input  hello world! 123\n",
      "LETTERS  10\n",
      "DIGITS  3\n"
     ]
    }
   ],
   "source": [
    "\"\"\"Question 5:\n",
    "Write a program that accepts a sentence and calculate the number of letters and digits.\n",
    "\n",
    "Suppose the following input is supplied to the program:\n",
    "\n",
    "hello world! 123\n",
    "\n",
    "Then, the output should be:\n",
    "\n",
    "LETTERS 10\n",
    "\n",
    "DIGITS 3\"\"\"\n",
    "\n",
    "\n",
    "\n",
    "def soln_prb5(user_input:list) -> None:\n",
    "    \n",
    "    try:      \n",
    "        digits = sum([i.isdigit() for i in user_input])\n",
    "        letters = sum([i.isalpha() for i in user_input])\n",
    "\n",
    "        print(\"LETTERS \", letters)\n",
    "        \n",
    "        print(\"DIGITS \", digits)\n",
    "    except Exception as e:\n",
    "        print(\"error\", e)\n",
    "        \n",
    "        \n",
    "user_input = input(\"hey user enter alpha-numeric sentence\")\n",
    "print(\"user input \",user_input)\n",
    "soln_prb5(user_input)"
   ]
  },
  {
   "cell_type": "code",
   "execution_count": 23,
   "metadata": {},
   "outputs": [
    {
     "name": "stdout",
     "output_type": "stream",
     "text": [
      "ABd1234@1\n"
     ]
    }
   ],
   "source": [
    "\"\"\"Question 6:\n",
    "A website requires the users to input username and password to register. Write a program to check the validity of password input by users.\n",
    "\n",
    "Following are the criteria for checking the password:\n",
    "\n",
    "1. At least 1 letter between [a-z]\n",
    "\n",
    "2. At least 1 number between [0-9]\n",
    "\n",
    "1. At least 1 letter between [A-Z]\n",
    "\n",
    "3. At least 1 character from [$#@]\n",
    "\n",
    "4. Minimum length of transaction password: 6\n",
    "\n",
    "5. Maximum length of transaction password: 12\n",
    "\n",
    "Your program should accept a sequence of comma separated passwords and will check them according to the above criteria. Passwords that match the criteria are to be printed, each separated by a comma.\n",
    "\n",
    "Example\n",
    "\n",
    "If the following passwords are given as input to the program:\n",
    "\n",
    "ABd1234@1,a F1#,2w3E*,2We3345\n",
    "\n",
    "Then, the output of the program should be:\n",
    "\n",
    "ABd1234@1\n",
    "\"\"\"\n",
    "\n",
    "user_input = [\"ABd1234@1\",\"a F1#\",\"2w3E*\",\"2We3345\"]\n",
    "import re\n",
    "\n",
    "verified_passwords = list()\n",
    "\n",
    "for passwords in user_input:\n",
    "    if len(passwords) > 6 and len(passwords) < 12:\n",
    "        \n",
    "        if re.search(\"([a-z])+\", passwords) and re.search(\"([A-Z])+\", passwords) :\n",
    "            \n",
    "            if re.search(\"([0-9])+\", passwords) and re.search(\"([!@$%^&])+\", passwords):\n",
    "                \n",
    "                verified_passwords.append(passwords)\n",
    "            \n",
    "print(', '.join(verified_passwords))\n",
    "    "
   ]
  }
 ],
 "metadata": {
  "kernelspec": {
   "display_name": "Python 3",
   "language": "python",
   "name": "python3"
  },
  "language_info": {
   "codemirror_mode": {
    "name": "ipython",
    "version": 3
   },
   "file_extension": ".py",
   "mimetype": "text/x-python",
   "name": "python",
   "nbconvert_exporter": "python",
   "pygments_lexer": "ipython3",
   "version": "3.10.0"
  },
  "orig_nbformat": 4,
  "vscode": {
   "interpreter": {
    "hash": "369f2c481f4da34e4445cda3fffd2e751bd1c4d706f27375911949ba6bb62e1c"
   }
  }
 },
 "nbformat": 4,
 "nbformat_minor": 2
}
