{
 "cells": [
  {
   "cell_type": "code",
   "execution_count": null,
   "metadata": {},
   "outputs": [],
   "source": [
    "# Question1\n",
    "# Create a function that takes an integer and returns a list from 1 to the given number, where:\n",
    "# 1.\tIf the number can be divided evenly by 4, amplify it by 10 (i.e. return 10 times the number).\n",
    "# 2.\tIf the number cannot be divided evenly by 4, simply return the number.\n",
    "\n",
    "def amplify():\n",
    "    try:\n",
    "        number = int(input(\"Enter the number: \"))\n",
    "        \n",
    "    except Exception as e:\n",
    "        print(e)"
   ]
  },
  {
   "cell_type": "code",
   "execution_count": 7,
   "metadata": {},
   "outputs": [
    {
     "data": {
      "text/plain": [
       "7"
      ]
     },
     "execution_count": 7,
     "metadata": {},
     "output_type": "execute_result"
    }
   ],
   "source": [
    "# Question2\n",
    "# Create a function that takes a list of numbers and return the number that's unique.\n",
    "\n",
    "def unique(num_list:list) -> int:\n",
    "    try:\n",
    "        set_list = set(num_list)\n",
    "\n",
    "        num_dict = dict({i: num_list.count(i) for i in set_list})\n",
    "\n",
    "        num_dict = sorted(num_dict)\n",
    "\n",
    "        return num_dict[-1]\n",
    "\n",
    "\n",
    "    except Exception as e:\n",
    "        print(e)\n",
    "\n",
    "\n",
    "unique([3, 3, 3, 7, 3, 3]) "
   ]
  },
  {
   "cell_type": "code",
   "execution_count": 3,
   "metadata": {},
   "outputs": [
    {
     "name": "stdout",
     "output_type": "stream",
     "text": [
      "380.182\n",
      "69.124\n"
     ]
    }
   ],
   "source": [
    "class Circle:\n",
    "    def __init__(self, radius:float) -> None:\n",
    "        self.radius = radius\n",
    "\n",
    "    def getArea(self) -> float:\n",
    "        try:\n",
    "            area = 3.142 * self.radius ** 2\n",
    "            return int(area)\n",
    "        except Exception as e:\n",
    "            print(e)\n",
    "\n",
    "\n",
    "    def getPerimeter(self) -> float:\n",
    "        try:\n",
    "            perimeter = 2 * 3.142 * self.radius \n",
    "            return int(perimeter)\n",
    "        except Exception as e:\n",
    "            print(e)\n",
    "\n",
    "\n",
    "circy = Circle(11)\n",
    "print(circy.getArea())\n",
    "print(circy.getPerimeter())\n"
   ]
  },
  {
   "cell_type": "code",
   "execution_count": 4,
   "metadata": {},
   "outputs": [
    {
     "name": "stdout",
     "output_type": "stream",
     "text": [
      "['Apple', 'Google', 'Microsoft']\n",
      "['Donatello', 'Leonardo', 'Michelangelo', 'Raphael']\n",
      "['Einstein', 'Jung', 'Turing']\n"
     ]
    }
   ],
   "source": [
    "# Question4\n",
    "# Create a function that takes a list of strings and return a list, sorted from shortest to longest.\n",
    "\n",
    "def sort_by_length(lst:list) -> list:\n",
    "    try:\n",
    "        \n",
    "        return sorted(lst)\n",
    "    except Exception as e:\n",
    "        print(e)\n",
    "\n",
    "\n",
    "print(sort_by_length([\"Google\", \"Apple\", \"Microsoft\"]))\n",
    "\n",
    "print(sort_by_length([\"Leonardo\", \"Michelangelo\", \"Raphael\", \"Donatello\"]))\n",
    "\n",
    "print(sort_by_length([\"Turing\", \"Einstein\", \"Jung\"]))\n",
    "\n"
   ]
  },
  {
   "cell_type": "code",
   "execution_count": 7,
   "metadata": {},
   "outputs": [
    {
     "data": {
      "text/plain": [
       "True"
      ]
     },
     "execution_count": 7,
     "metadata": {},
     "output_type": "execute_result"
    }
   ],
   "source": [
    "# question 5\n",
    "# Create a function that validates whether three given integers form a  . The sum of the squares of the two smallest integers must equal the square of the largest number to be validated.\n",
    "\n",
    "def is_triplet(a:int, b:int, c:int) -> bool:\n",
    "    try:\n",
    "        \n",
    "        if a > b:\n",
    "            if a > c:\n",
    "                if a ** 2 == b ** 2 + c ** 2:\n",
    "                    return True\n",
    "\n",
    "            else:\n",
    "                if c ** 2 == a ** 2 + b ** 2:\n",
    "                    return True\n",
    "\n",
    "        elif b > a:\n",
    "            if b > c:\n",
    "                if b ** 2 == a ** 2 + c ** 2:\n",
    "                    return True\n",
    "\n",
    "            else:\n",
    "                if c ** 2 == a ** 2 + b ** 2:\n",
    "                    return True\n",
    "\n",
    "    except Exception as e:\n",
    "        print(e)\n",
    "\n",
    "is_triplet(3, 4, 5) "
   ]
  },
  {
   "cell_type": "code",
   "execution_count": null,
   "metadata": {},
   "outputs": [],
   "source": []
  }
 ],
 "metadata": {
  "kernelspec": {
   "display_name": "base",
   "language": "python",
   "name": "python3"
  },
  "language_info": {
   "codemirror_mode": {
    "name": "ipython",
    "version": 3
   },
   "file_extension": ".py",
   "mimetype": "text/x-python",
   "name": "python",
   "nbconvert_exporter": "python",
   "pygments_lexer": "ipython3",
   "version": "3.9.13"
  },
  "orig_nbformat": 4,
  "vscode": {
   "interpreter": {
    "hash": "d56d7ac4ee4883c35c50b079d388610bdf13d54aa1c1112da169cfd5d54eb276"
   }
  }
 },
 "nbformat": 4,
 "nbformat_minor": 2
}
