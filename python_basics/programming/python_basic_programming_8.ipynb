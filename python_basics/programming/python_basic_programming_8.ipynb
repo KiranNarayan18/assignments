{
 "cells": [
  {
   "cell_type": "code",
   "execution_count": 7,
   "metadata": {},
   "outputs": [
    {
     "name": "stdout",
     "output_type": "stream",
     "text": [
      "[[2, 3, 4], [5, 6, 7], [8, 9, 10]]\n"
     ]
    }
   ],
   "source": [
    "# 1.\tWrite a Python Program to Add Two Matrices?\n",
    "\n",
    "# Two matrices may be added or subtracted only if they have the same dimension; that is, they must have the same number of rows and columns.\n",
    "matrixA = [[1,2,3],\n",
    "           [4,5,6],\n",
    "           [7,8,9]]\n",
    "\n",
    "matrixB = [[1,1,1],\n",
    "           [1,1,1],\n",
    "           [1,1,1]]\n",
    "\n",
    "result = []\n",
    "\n",
    "if (len(matrixA) == len(matrixB)) and (len(matrixA[0]) == len(matrixB[0])):\n",
    "    for i in range(len(matrixA)):\n",
    "        row = []\n",
    "        for j in range(len(matrixA[i])):\n",
    "            res = matrixA[i][j] + matrixB[i][j]\n",
    "            row.append(res)\n",
    "        result.append(row)\n",
    "\n",
    "print(result)"
   ]
  },
  {
   "cell_type": "code",
   "execution_count": 31,
   "metadata": {},
   "outputs": [
    {
     "name": "stdout",
     "output_type": "stream",
     "text": [
      "[[30, 36, 42], [66, 81, 96], [102, 126, 150]]\n"
     ]
    }
   ],
   "source": [
    "# 2.\tWrite a Python Program to Multiply Two Matrices?\n",
    "\n",
    "# To perform matrix multiplication, the first matrix must have the same number of columns as the second matrix has rows.\n",
    "\n",
    "matrixA = [[1,2,3],\n",
    "           [4,5,6],\n",
    "           [7,8,9]]\n",
    "\n",
    "matrixB = [[1,2,3],\n",
    "           [4,5,6],\n",
    "           [7,8,9]]\n",
    "\n",
    "result = []\n",
    "if len(matrixA[0]) == len(matrixB):\n",
    "    for rowA in range(len(matrixA)): #iterating through rows        \n",
    "        res = []\n",
    "        for colB in range(len(matrixB[0])): #iterating through columns\n",
    "            val = 0\n",
    "            for rowB in range(len(matrixB)):\n",
    "                val = val + matrixA[rowA][rowB] * matrixB[rowB][colB]\n",
    "            res.append(val)\n",
    "        result.append(res)\n",
    "print(result)"
   ]
  },
  {
   "cell_type": "code",
   "execution_count": 1,
   "metadata": {},
   "outputs": [
    {
     "name": "stdout",
     "output_type": "stream",
     "text": [
      "[[1, 4, 7], [2, 5, 8], [3, 6, 9]]\n"
     ]
    }
   ],
   "source": [
    "# 3.\tWrite a Python Program to Transpose a Matrix?\n",
    "\n",
    "matrixA = [[1,2,3],\n",
    "           [4,5,6],\n",
    "           [7,8,9]]\n",
    "\n",
    "res = []\n",
    "for col in range(len(matrixA[0])):\n",
    "    val = []\n",
    "    for row in range(len(matrixA)):\n",
    "        val.append(matrixA[row][col]) \n",
    "    res.append(val)\n",
    "\n",
    "print(res)"
   ]
  },
  {
   "cell_type": "code",
   "execution_count": 33,
   "metadata": {},
   "outputs": [
    {
     "name": "stdout",
     "output_type": "stream",
     "text": [
      "['Dog', 'Quick', 'brown', 'fox', 'jumPs', 'lazY', 'over', 'the']\n"
     ]
    },
    {
     "data": {
      "text/plain": [
       "'sentence = \"the Quick brown fox jumPs over the lazY Dog\"\\n\\nwordsList = sentence.split(\\' \\')\\nwordList = list(set(wordsList))\\nwordList.sort()\\nwordList'"
      ]
     },
     "execution_count": 33,
     "metadata": {},
     "output_type": "execute_result"
    }
   ],
   "source": [
    "# 4. Write a Python Program to Sort Words in Alphabetic Order?\n",
    "sentence = \"the Quick brown fox jumPs over the lazY Dog\"\n",
    "\n",
    "wordsList = sentence.split(' ')\n",
    "wordsList = list(set(wordsList))\n",
    "new_list = []\n",
    "\n",
    "for i in range(len(wordsList)):\n",
    "    minWord = wordsList[0] \n",
    "    for x in wordsList: \n",
    "        if x < minWord:\n",
    "            minWord = x\n",
    "    new_list.append(minWord)\n",
    "    wordsList.remove(minWord)    \n",
    "\n",
    "print(new_list)\n",
    "\n",
    "\n",
    "\"\"\"sentence = \"the Quick brown fox jumPs over the lazY Dog\"\n",
    "\n",
    "wordsList = sentence.split(' ')\n",
    "wordList = list(set(wordsList))\n",
    "wordList.sort()\n",
    "wordList\"\"\""
   ]
  },
  {
   "cell_type": "code",
   "execution_count": 38,
   "metadata": {},
   "outputs": [
    {
     "name": "stdout",
     "output_type": "stream",
     "text": [
      "the Quick brown fox jumPs over the lazY Dog\n"
     ]
    }
   ],
   "source": [
    "# 5.\tWrite a Python Program to Remove Punctuation From a String?\n",
    "punctuations = '''!()-[]{};:'\"\\,<>./?@#$%^&*_~'''\n",
    "\n",
    "sentence = \"the Quick brown fox, jumPs over the lazY Dog!?@#$%^\"\n",
    "\n",
    "for i in punctuations:\n",
    "    if i in sentence:        \n",
    "        sentence = sentence.replace(i, \"\")\n",
    "        \n",
    "print(sentence)"
   ]
  },
  {
   "cell_type": "code",
   "execution_count": null,
   "metadata": {},
   "outputs": [],
   "source": []
  }
 ],
 "metadata": {
  "kernelspec": {
   "display_name": "Python 3",
   "language": "python",
   "name": "python3"
  },
  "language_info": {
   "codemirror_mode": {
    "name": "ipython",
    "version": 3
   },
   "file_extension": ".py",
   "mimetype": "text/x-python",
   "name": "python",
   "nbconvert_exporter": "python",
   "pygments_lexer": "ipython3",
   "version": "3.10.0 (tags/v3.10.0:b494f59, Oct  4 2021, 19:00:18) [MSC v.1929 64 bit (AMD64)]"
  },
  "orig_nbformat": 4,
  "vscode": {
   "interpreter": {
    "hash": "369f2c481f4da34e4445cda3fffd2e751bd1c4d706f27375911949ba6bb62e1c"
   }
  }
 },
 "nbformat": 4,
 "nbformat_minor": 2
}
