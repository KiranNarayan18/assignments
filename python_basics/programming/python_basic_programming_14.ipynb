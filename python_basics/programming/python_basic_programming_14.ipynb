{
 "cells": [
  {
   "cell_type": "code",
   "execution_count": 18,
   "metadata": {},
   "outputs": [
    {
     "name": "stdout",
     "output_type": "stream",
     "text": [
      "0\n",
      "7\n",
      "14\n",
      "21\n",
      "28\n",
      "35\n",
      "42\n",
      "49\n",
      "56\n",
      "63\n",
      "70\n",
      "77\n",
      "84\n",
      "91\n",
      "98\n",
      "105\n",
      "112\n",
      "119\n",
      "126\n",
      "133\n",
      "140\n",
      "147\n",
      "154\n",
      "161\n",
      "168\n",
      "175\n",
      "182\n",
      "189\n",
      "196\n",
      "203\n",
      "210\n",
      "217\n",
      "224\n",
      "231\n",
      "238\n",
      "245\n",
      "252\n",
      "259\n",
      "266\n",
      "273\n",
      "280\n",
      "287\n",
      "294\n",
      "301\n",
      "308\n",
      "315\n",
      "322\n",
      "329\n",
      "336\n",
      "343\n",
      "350\n",
      "357\n",
      "364\n",
      "371\n",
      "378\n",
      "385\n",
      "392\n",
      "399\n",
      "406\n",
      "413\n",
      "420\n",
      "427\n",
      "434\n",
      "441\n",
      "448\n",
      "455\n",
      "462\n",
      "469\n",
      "476\n",
      "483\n",
      "490\n",
      "497\n"
     ]
    }
   ],
   "source": [
    "# Define a class with a generator which can iterate the numbers, which are divisible by 7, between a given range 0 and n.\n",
    "\n",
    "class Solution:\n",
    "\n",
    "    def __init__(self, num) -> None:\n",
    "        self.num = num\n",
    "\n",
    "    def divisible_by_7(self) -> int:\n",
    "        try:\n",
    "            for i in range(self.num) :\n",
    "                if i % 7 == 0 :\n",
    "                    yield i\n",
    "        except Exception as e:\n",
    "            print(e)\n",
    "\n",
    "\n",
    "\n",
    "\n",
    "n = int(input())\n",
    "\n",
    "\n",
    "obj1 = Solution(n)\n",
    "for i in obj1.divisible_by_7():\n",
    "    print(i)\n",
    "\n"
   ]
  },
  {
   "cell_type": "code",
   "execution_count": 29,
   "metadata": {},
   "outputs": [
    {
     "name": "stdout",
     "output_type": "stream",
     "text": [
      "{'2': 2, '3.': 1, '3?': 1, 'New': 1, 'Python': 5, 'Read': 1, 'and': 1, 'between': 1, 'choosing': 1, 'or': 2, 'to': 1}\n"
     ]
    }
   ],
   "source": [
    "#question 2\n",
    "# Write a program to compute the frequency of the words from the input. The output should output after sorting the key alphanumerically\n",
    "\n",
    "class solution:\n",
    "    def __init__(self, words):\n",
    "        self.words = words\n",
    "\n",
    "    def frequency(self) -> dict:\n",
    "        try:\n",
    "            self.words = self.words.split(' ')\n",
    "\n",
    "            words_set = set(self.words)\n",
    "\n",
    "            freq_dict = {w: self.words.count(w) for w in words_set}\n",
    "            freq_dict = dict(sorted(freq_dict.items()))\n",
    "            return freq_dict\n",
    "\n",
    "        except Exception as e:\n",
    "            print(e)\n",
    "\n",
    "\n",
    "words = \"New to Python or choosing between Python 2 and Python 3? Read Python 2 or Python 3.\"\n",
    "obj1 = solution(words)\n",
    "print(obj1.frequency())"
   ]
  },
  {
   "cell_type": "code",
   "execution_count": 32,
   "metadata": {},
   "outputs": [
    {
     "data": {
      "text/plain": [
       "'female'"
      ]
     },
     "execution_count": 32,
     "metadata": {},
     "output_type": "execute_result"
    }
   ],
   "source": [
    "#question 3\n",
    "# Define a class Person and its two child classes: Male and Female. All classes have a method \"getGender\" which can print \"Male\" for Male class and \"Female\" for Female class.\n",
    "\n",
    "class Person:\n",
    "    #parent class\n",
    "    def getGender(self, gender):\n",
    "        return gender\n",
    "\n",
    "class Male(Person):\n",
    "    #child class\n",
    "    def getGender(self):\n",
    "        return super().getGender(\"male\")\n",
    "\n",
    "class Female(Person):\n",
    "    #child class\n",
    "    def getGender(self):\n",
    "        return super().getGender(\"female\")\n",
    "\n",
    "obj1 = Male()\n",
    "obj1.getGender()\n",
    "\n",
    "obj2 = Female()\n",
    "obj2.getGender()"
   ]
  },
  {
   "cell_type": "code",
   "execution_count": 53,
   "metadata": {},
   "outputs": [
    {
     "name": "stdout",
     "output_type": "stream",
     "text": [
      "I Play Hockey\n",
      "I Play Football\n",
      "I Love Hockey\n",
      "I Love Football\n",
      "You Play Hockey\n",
      "You Play Football\n",
      "You Love Hockey\n",
      "You Love Football\n"
     ]
    }
   ],
   "source": [
    "#question 4\n",
    "# Please write a program to generate all sentences where subject is in [\"I\", \"You\"] and verb is in [\"Play\", \"Love\"] and the object is in [\"Hockey\",\"Football\"].\n",
    "import itertools\n",
    "\n",
    "class Sentence:\n",
    "    def __init__(self, subject, verb, object):\n",
    "        self.subject = subject\n",
    "        self.verb = verb\n",
    "        self.object = object\n",
    "\n",
    "    def print_sentences(self):  \n",
    "        try:\n",
    "            sen = [self.subject, self.verb, self.object]        \n",
    "            sen = list(itertools.product(*sen))\n",
    "            for i in sen:\n",
    "                print(' '.join(i))\n",
    "        except Exception as e:\n",
    "            print(e)    \n",
    "\n",
    "\n",
    "subject = [\"I\", \"You\"]\n",
    "verb = [\"Play\", \"Love\"]\n",
    "objects = [\"Hockey\",\"Football\"]\n",
    "\n",
    "obj1 = Sentence(subject, verb, objects)\n",
    "obj1.print_sentences()\n",
    "\n"
   ]
  },
  {
   "cell_type": "code",
   "execution_count": 58,
   "metadata": {},
   "outputs": [
    {
     "name": "stdout",
     "output_type": "stream",
     "text": [
      "b'x\\x9c\\xcbH\\xcd\\xc9\\xc9W(\\xcf/\\xcaIQ\\xcc \\x82\\r\\x00\\xbd[\\x11\\xf5'\n",
      "b'hello world!hello world!hello world!hello world!'\n"
     ]
    }
   ],
   "source": [
    "#question 5\n",
    "\n",
    "# Please write a program to compress and decompress the string \"hello world!hello world!hello world!hello world!\".\n",
    "import zlib\n",
    "s = 'hello world!hello world!hello world!hello world!'\n",
    "y = bytes(s, 'utf-8')\n",
    "x = zlib.compress(y)\n",
    "print(x)\n",
    "print(zlib.decompress(x))\n"
   ]
  },
  {
   "cell_type": "code",
   "execution_count": 5,
   "metadata": {},
   "outputs": [
    {
     "name": "stdout",
     "output_type": "stream",
     "text": [
      "Last occurrence of 4 is present at 3\n"
     ]
    }
   ],
   "source": [
    "#question 6\n",
    "# Please write a binary search function which searches an item in a sorted list. The function should return the index of element to be searched in the list.\n",
    "\n",
    "from bisect import bisect_right\n",
    "\n",
    "def BinarySearch(a, x):\n",
    "\ti = bisect_right(a, x)\n",
    "\tif i != 0 and a[i-1] == x:\n",
    "\t\treturn (i-1)\n",
    "\telse:\n",
    "\t\treturn -1\n",
    "\n",
    "a = [1, 2, 4, 4, 5]\n",
    "x = int(4)\n",
    "res = BinarySearch(a, x)\n",
    "if res == -1:\n",
    "\tprint(x, \"is absent\")\n",
    "else:\n",
    "\tprint(\"Last occurrence of\", x, \"is present at\", res)\n",
    "\n"
   ]
  }
 ],
 "metadata": {
  "kernelspec": {
   "display_name": "base",
   "language": "python",
   "name": "python3"
  },
  "language_info": {
   "codemirror_mode": {
    "name": "ipython",
    "version": 3
   },
   "file_extension": ".py",
   "mimetype": "text/x-python",
   "name": "python",
   "nbconvert_exporter": "python",
   "pygments_lexer": "ipython3",
   "version": "3.9.13"
  },
  "orig_nbformat": 4,
  "vscode": {
   "interpreter": {
    "hash": "d56d7ac4ee4883c35c50b079d388610bdf13d54aa1c1112da169cfd5d54eb276"
   }
  }
 },
 "nbformat": 4,
 "nbformat_minor": 2
}
