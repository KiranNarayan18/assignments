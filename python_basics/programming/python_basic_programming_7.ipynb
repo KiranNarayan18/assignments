{
 "cells": [
  {
   "cell_type": "code",
   "execution_count": 32,
   "metadata": {},
   "outputs": [
    {
     "name": "stdout",
     "output_type": "stream",
     "text": [
      "the sum of the list/array is 55\n",
      "the sum of the list/array is 55\n"
     ]
    }
   ],
   "source": [
    "# question 1.\tWrite a Python Program to find sum of array?\n",
    "from functools import reduce\n",
    "new_array = list(range(11))\n",
    "print(f\"the sum of the list/array is {sum(new_array)}\")\n",
    "print(f\"the sum of the list/array is {reduce(lambda x,y:x+y, new_array)}\")"
   ]
  },
  {
   "cell_type": "code",
   "execution_count": 43,
   "metadata": {},
   "outputs": [
    {
     "name": "stdout",
     "output_type": "stream",
     "text": [
      "the largest number in the array is 10\n",
      "the largest number in the array is 10\n"
     ]
    }
   ],
   "source": [
    "# question 2.\tWrite a Python Program to find largest element in an array?\n",
    "new_array = list(range(11))\n",
    "from functools import reduce\n",
    "largest_ele = reduce(lambda x, y: x if x > y else y, new_array)\n",
    "print(f\"the largest number in the array is {largest_ele}\")\n",
    "print(f\"the largest number in the array is {max(new_array)}\")"
   ]
  },
  {
   "cell_type": "code",
   "execution_count": 9,
   "metadata": {},
   "outputs": [
    {
     "name": "stdout",
     "output_type": "stream",
     "text": [
      "the array before rotation [0, 1, 2, 3, 4, 5, 6, 7, 8, 9, 10]\n",
      "the array after rotation [1, 2, 3, 4, 5, 6, 7, 8, 9, 10, 0]\n"
     ]
    }
   ],
   "source": [
    "#question 3.\tWrite a Python Program for array rotation?\n",
    "new_array = list(range(11))\n",
    "print(f\"the array before rotation {new_array}\")\n",
    "new_array.append(new_array[0])\n",
    "new_array = new_array[1:]\n",
    "print(f\"the array after rotation {new_array}\")"
   ]
  },
  {
   "cell_type": "code",
   "execution_count": 14,
   "metadata": {},
   "outputs": [
    {
     "name": "stdout",
     "output_type": "stream",
     "text": [
      "the array before rotation [0, 1, 2, 3, 4, 5, 6, 7, 8, 9, 10]\n",
      "the array after rotation [3, 4, 5, 6, 7, 8, 9, 10, 0, 1, 2]\n"
     ]
    }
   ],
   "source": [
    "# question 4.\tWrite a Python Program to Split the array and add the first part to the end?\n",
    "\n",
    "new_array = list(range(11))\n",
    "split_position = 2\n",
    "\n",
    "print(f\"the array before rotation {new_array}\")\n",
    "[new_array.append(i) for i in new_array[:split_position+1]]\n",
    "new_array = new_array[split_position+1:]\n",
    "print(f\"the array after rotation {new_array}\")"
   ]
  },
  {
   "cell_type": "code",
   "execution_count": 30,
   "metadata": {},
   "outputs": [
    {
     "name": "stdout",
     "output_type": "stream",
     "text": [
      "the given list/array is [31, 44, 36, 12, 17]\n",
      "the given list/array is Monotonic\n"
     ]
    }
   ],
   "source": [
    "# question 5.\tWrite a Python Program to check if given array is Monotonic?\n",
    "\n",
    "import random\n",
    "new_array = [random.randrange(1,50) for _ in range(5)]\n",
    "\n",
    "print(f\"the given list/array is {new_array}\")\n",
    "sorted_arr = new_array\n",
    "sorted_rev = new_array\n",
    "sorted_arr.sort()\n",
    "sorted_rev.sort(reverse=True)\n",
    "if (new_array == sorted_arr) or( new_array == sorted_rev):\n",
    "    print(\"the given list/array is Monotonic\")\n",
    "else:\n",
    "    print(\"the given list/array is not Monotonic\")\n"
   ]
  },
  {
   "cell_type": "code",
   "execution_count": null,
   "metadata": {},
   "outputs": [],
   "source": []
  }
 ],
 "metadata": {
  "kernelspec": {
   "display_name": "Python 3.10.0 64-bit",
   "language": "python",
   "name": "python3"
  },
  "language_info": {
   "codemirror_mode": {
    "name": "ipython",
    "version": 3
   },
   "file_extension": ".py",
   "mimetype": "text/x-python",
   "name": "python",
   "nbconvert_exporter": "python",
   "pygments_lexer": "ipython3",
   "version": "3.10.0 (tags/v3.10.0:b494f59, Oct  4 2021, 19:00:18) [MSC v.1929 64 bit (AMD64)]"
  },
  "orig_nbformat": 4,
  "vscode": {
   "interpreter": {
    "hash": "369f2c481f4da34e4445cda3fffd2e751bd1c4d706f27375911949ba6bb62e1c"
   }
  }
 },
 "nbformat": 4,
 "nbformat_minor": 2
}
