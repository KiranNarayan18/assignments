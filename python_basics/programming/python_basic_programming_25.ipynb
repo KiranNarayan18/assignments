{
 "cells": [
  {
   "cell_type": "code",
   "execution_count": 3,
   "metadata": {},
   "outputs": [
    {
     "name": "stdout",
     "output_type": "stream",
     "text": [
      "2\n",
      "3\n",
      "0\n"
     ]
    }
   ],
   "source": [
    "# Question1\n",
    "# Create a function that takes three integer arguments (a, b, c) and returns the amount of integers which are of equal value.\n",
    "\n",
    "def equal(a:int,b:int,c:int) -> int:\n",
    "    try:\n",
    "        if a == b and a == c :\n",
    "            return 3\n",
    "        elif a == b or a == c :\n",
    "            return 2\n",
    "        return 0\n",
    "  \n",
    "    except Exception as e:\n",
    "        print(e)\n",
    "\n",
    "\n",
    "print(equal(3, 4, 3))\n",
    "\n",
    "print(equal(1, 1, 1))\n",
    "\n",
    "print(equal(3, 4, 1))\n"
   ]
  },
  {
   "cell_type": "code",
   "execution_count": 11,
   "metadata": {},
   "outputs": [
    {
     "data": {
      "text/plain": [
       "[('D', 1), ('B', 2), ('C', 3)]"
      ]
     },
     "execution_count": 11,
     "metadata": {},
     "output_type": "execute_result"
    }
   ],
   "source": [
    "# Question2\n",
    "# Write a function that converts a dictionary into a list of keys-values tuples.\n",
    "\n",
    "def dict_to_list(input_dict:dict) -> tuple:\n",
    "    try:\n",
    "        return list(input_dict.items())\n",
    "        \n",
    "  \n",
    "    except Exception as e:\n",
    "        print(e)\n",
    "\n",
    "dict_to_list({\n",
    "  \"D\": 1,\n",
    "  \"B\": 2,\n",
    "  \"C\": 3\n",
    "}) \n"
   ]
  },
  {
   "cell_type": "code",
   "execution_count": 14,
   "metadata": {},
   "outputs": [
    {
     "name": "stdout",
     "output_type": "stream",
     "text": [
      "{'p': 'P', 's': 'S'}\n",
      "{'a': 'A', 'b': 'B', 'c': 'C'}\n",
      "{'a': 'A', 'v': 'V', 'y': 'Y', 'z': 'Z'}\n"
     ]
    }
   ],
   "source": [
    "# Question3\n",
    "# Write a function that creates a dictionary with each (key, value) pair being the (lower case, upper case) versions of a letter, respectively.\n",
    "\n",
    "def mapping(input_list:list) -> dict:\n",
    "    try:\n",
    "        \n",
    "        return {i.lower():i.upper()  for i in input_list}\n",
    "        \n",
    "  \n",
    "    except Exception as e:\n",
    "        print(e)\n",
    "\n",
    "\n",
    "print(mapping([\"p\", \"s\"]) )\n",
    "print(mapping([\"a\", \"b\", \"c\"]))\n",
    "print(mapping([\"a\", \"v\", \"y\", \"z\"]) )\n"
   ]
  },
  {
   "cell_type": "code",
   "execution_count": 15,
   "metadata": {},
   "outputs": [
    {
     "name": "stdout",
     "output_type": "stream",
     "text": [
      "the input string is apples and bananas\n",
      "upplus und bununus\n",
      "the input string is cheese casserole\n",
      "chooso cossorolo\n",
      "the input string is stuffed jalapeno poppers\n",
      "steffed jelepene peppers\n"
     ]
    }
   ],
   "source": [
    "# Question4\n",
    "# Write a function, that replaces all vowels in a string with a specified vowel.\n",
    "\n",
    "def vow_replace(input_str:str, replacement:str) -> str:\n",
    "\n",
    "    try:\n",
    "        input_str = input_str.lower()\n",
    "        print(f\"the input string is {input_str}\")\n",
    "        for i in ['a', 'e', 'i', 'o', 'u']:\n",
    "            input_str = input_str.replace(i, replacement)\n",
    "        return input_str\n",
    "\n",
    "    except Exception as e:\n",
    "        print(e)\n",
    "\n",
    "\n",
    "print(vow_replace(\"apples and bananas\", \"u\"))\n",
    "\n",
    "print(vow_replace(\"cheese casserole\", \"o\"))\n",
    "\n",
    "print(vow_replace(\"stuffed jalapeno poppers\", \"e\"))\n"
   ]
  },
  {
   "cell_type": "code",
   "execution_count": 25,
   "metadata": {},
   "outputs": [
    {
     "name": "stdout",
     "output_type": "stream",
     "text": [
      "To Be oR NoT To Be!\n",
      "THe LiTTLe meRmaiD\n",
      "oH wHaT a BeauTiFuL moRNiNg.\n"
     ]
    }
   ],
   "source": [
    "\n",
    "# Question5\n",
    "# Create a function that takes a string as input and capitalizes a letter if its ASCII code is even and returns its lower case version if its ASCII code is odd.\n",
    "\n",
    "\n",
    "def ascii_capitalize(input_str):\n",
    "    \n",
    "    try:\n",
    "\n",
    "        return   ''.join([i.upper() if ord(i) % 2 == 0 else i.lower() for i in input_str ])\n",
    "\n",
    "\n",
    "    except Exception as e:\n",
    "        print(e)\n",
    "\n",
    "\n",
    "print(ascii_capitalize('to be or not to be!'))\n",
    "\n",
    "print(ascii_capitalize(\"THE LITTLE MERMAID\") )\n",
    "\n",
    "print(ascii_capitalize(\"Oh what a beautiful morning.\"))\n",
    "\n"
   ]
  },
  {
   "cell_type": "code",
   "execution_count": null,
   "metadata": {},
   "outputs": [],
   "source": []
  }
 ],
 "metadata": {
  "kernelspec": {
   "display_name": "base",
   "language": "python",
   "name": "python3"
  },
  "language_info": {
   "codemirror_mode": {
    "name": "ipython",
    "version": 3
   },
   "file_extension": ".py",
   "mimetype": "text/x-python",
   "name": "python",
   "nbconvert_exporter": "python",
   "pygments_lexer": "ipython3",
   "version": "3.9.13"
  },
  "orig_nbformat": 4,
  "vscode": {
   "interpreter": {
    "hash": "d56d7ac4ee4883c35c50b079d388610bdf13d54aa1c1112da169cfd5d54eb276"
   }
  }
 },
 "nbformat": 4,
 "nbformat_minor": 2
}
