{
 "cells": [
  {
   "cell_type": "code",
   "execution_count": 2,
   "metadata": {},
   "outputs": [
    {
     "name": "stdout",
     "output_type": "stream",
     "text": [
      "10 kilometers is equal to 6.21 miles\n"
     ]
    }
   ],
   "source": [
    "#question 1 Write a Python program to convert kilometers to miles?\n",
    "# 1km = 0.62 miles\n",
    "km = 10\n",
    "print(f\"{km} kilometers is equal to {km*0.621} miles\")"
   ]
  },
  {
   "cell_type": "code",
   "execution_count": 8,
   "metadata": {},
   "outputs": [
    {
     "name": "stdout",
     "output_type": "stream",
     "text": [
      "1 celsius is equal to 33.8 Fahrenheit\n"
     ]
    }
   ],
   "source": [
    "#queston 2 Write a Python program to convert Celsius to Fahrenheit?\n",
    "\"\"\"Fahrenheit = (celsius * 9 / 5) + 32 \n",
    "\"\"\"\n",
    "c = 1\n",
    "f = (c * 9 / 5) + 32 \n",
    "print(f\"{c} celsius is equal to {f} Fahrenheit\")"
   ]
  },
  {
   "cell_type": "code",
   "execution_count": 2,
   "metadata": {},
   "outputs": [
    {
     "name": "stdout",
     "output_type": "stream",
     "text": [
      "    October 2022\n",
      "Mo Tu We Th Fr Sa Su\n",
      "                1  2\n",
      " 3  4  5  6  7  8  9\n",
      "10 11 12 13 14 15 16\n",
      "17 18 19 20 21 22 23\n",
      "24 25 26 27 28 29 30\n",
      "31\n",
      "\n"
     ]
    }
   ],
   "source": [
    "#question 3 Write a Python program to display calendar?\n",
    "import calendar\n",
    " \n",
    "year = 2022\n",
    "month = 10\n",
    "print(calendar.month(year, month))\n"
   ]
  },
  {
   "cell_type": "code",
   "execution_count": 41,
   "metadata": {},
   "outputs": [
    {
     "name": "stdout",
     "output_type": "stream",
     "text": [
      "(-2+0j)\n",
      "(-3+0j)\n"
     ]
    }
   ],
   "source": [
    "#question 4 Write a Python program to solve quadratic equation?\n",
    "\"\"\" equation ax^2 + bx + c, (-b**2 +- sqrt(b**2 - 4 * a * c)) / 2 * a  \"\"\"\n",
    "\n",
    "from cmath import sqrt\n",
    "\n",
    "a,b,c = 1,5,6\n",
    "\n",
    "soln = sqrt(b**2 - 4 * a * c)\n",
    "\n",
    "print((-b + soln) / 2 * a)\n",
    "print((-b - soln) / 2 * a)"
   ]
  },
  {
   "cell_type": "code",
   "execution_count": 46,
   "metadata": {},
   "outputs": [
    {
     "name": "stdout",
     "output_type": "stream",
     "text": [
      "a:5 and b:6 before swapping\n",
      "a:6 and b:5 after swapping\n"
     ]
    }
   ],
   "source": [
    "#question 5 Write a Python program to swap two variables without temp variable?\n",
    "a,b = 5,6\n",
    "\n",
    "print(f\"a:{a} and b:{b} before swapping\")\n",
    "a,b = b,a\n",
    "print(f\"a:{a} and b:{b} after swapping\")"
   ]
  },
  {
   "cell_type": "code",
   "execution_count": null,
   "metadata": {},
   "outputs": [],
   "source": []
  }
 ],
 "metadata": {
  "kernelspec": {
   "display_name": "Python 3.10.0 64-bit",
   "language": "python",
   "name": "python3"
  },
  "language_info": {
   "codemirror_mode": {
    "name": "ipython",
    "version": 3
   },
   "file_extension": ".py",
   "mimetype": "text/x-python",
   "name": "python",
   "nbconvert_exporter": "python",
   "pygments_lexer": "ipython3",
   "version": "3.10.0 (tags/v3.10.0:b494f59, Oct  4 2021, 19:00:18) [MSC v.1929 64 bit (AMD64)]"
  },
  "orig_nbformat": 4,
  "vscode": {
   "interpreter": {
    "hash": "369f2c481f4da34e4445cda3fffd2e751bd1c4d706f27375911949ba6bb62e1c"
   }
  }
 },
 "nbformat": 4,
 "nbformat_minor": 2
}
