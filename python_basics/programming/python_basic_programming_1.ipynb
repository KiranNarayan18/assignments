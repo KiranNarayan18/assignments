{
 "cells": [
  {
   "cell_type": "code",
   "execution_count": 1,
   "metadata": {},
   "outputs": [
    {
     "name": "stdout",
     "output_type": "stream",
     "text": [
      "Hello World\n"
     ]
    }
   ],
   "source": [
    "#question 1\n",
    "print(\"Hello World\")"
   ]
  },
  {
   "cell_type": "code",
   "execution_count": 7,
   "metadata": {},
   "outputs": [
    {
     "name": "stdout",
     "output_type": "stream",
     "text": [
      "addition: 4 + 2 = 6\n",
      "division: 4 / 2 = 2.0\n"
     ]
    }
   ],
   "source": [
    "#question 2\n",
    "a,b = 4,2\n",
    "print(f\"addition: {a} + {b} = {a+b}\")\n",
    "print(f\"division: {a} / {b} = {a/b}\")"
   ]
  },
  {
   "cell_type": "code",
   "execution_count": 10,
   "metadata": {},
   "outputs": [
    {
     "name": "stdout",
     "output_type": "stream",
     "text": [
      "area of triangle is 6.0 sqare units \n"
     ]
    }
   ],
   "source": [
    "#question 3\n",
    "\"\"\"let b,h be the base, height of a triangle respectively\n",
    "area of triangle = (1/2) * base * height sqare units\"\"\"\n",
    "\n",
    "b,h = 4, 3 \n",
    "area = (1/2) * b * h\n",
    "print(f\"area of triangle is {area} sqare units\")"
   ]
  },
  {
   "cell_type": "code",
   "execution_count": 20,
   "metadata": {},
   "outputs": [
    {
     "name": "stdout",
     "output_type": "stream",
     "text": [
      "a:2 and b:4 before swapping\n",
      "a:4 and b:2 after swapping\n"
     ]
    }
   ],
   "source": [
    "#question 4\n",
    "a,b = 2, 4\n",
    "print(f\"a:{a} and b:{b} before swapping\")\n",
    "a = a + b\n",
    "b = a - b\n",
    "a = a - b\n",
    "print(f\"a:{a} and b:{b} after swapping\")"
   ]
  },
  {
   "cell_type": "code",
   "execution_count": 19,
   "metadata": {},
   "outputs": [
    {
     "name": "stdout",
     "output_type": "stream",
     "text": [
      "268\n"
     ]
    }
   ],
   "source": [
    "#question 5\n",
    "import random\n",
    "#prints a random number between 1 and 1000\n",
    "print(random.randint(1,1000))"
   ]
  },
  {
   "cell_type": "code",
   "execution_count": null,
   "metadata": {},
   "outputs": [],
   "source": []
  }
 ],
 "metadata": {
  "kernelspec": {
   "display_name": "Python 3.10.0 64-bit",
   "language": "python",
   "name": "python3"
  },
  "language_info": {
   "codemirror_mode": {
    "name": "ipython",
    "version": 3
   },
   "file_extension": ".py",
   "mimetype": "text/x-python",
   "name": "python",
   "nbconvert_exporter": "python",
   "pygments_lexer": "ipython3",
   "version": "3.10.0"
  },
  "orig_nbformat": 4,
  "vscode": {
   "interpreter": {
    "hash": "369f2c481f4da34e4445cda3fffd2e751bd1c4d706f27375911949ba6bb62e1c"
   }
  }
 },
 "nbformat": 4,
 "nbformat_minor": 2
}
