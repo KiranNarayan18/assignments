{
 "cells": [
  {
   "cell_type": "code",
   "execution_count": 1,
   "metadata": {},
   "outputs": [
    {
     "name": "stdout",
     "output_type": "stream",
     "text": [
      "[6, 7, 8, 9, 1]\n"
     ]
    }
   ],
   "source": [
    "# Question1\n",
    "# Write a function that takes a list and a number as arguments. Add the number to the end of the list, then remove the first element of the list. The function should then return the updated list.\n",
    "\n",
    "def next_in_line(input_list:list, n:int) -> list:\n",
    "    try:\n",
    "\n",
    "        input_list.remove(input_list[0])\n",
    "        input_list.append(n)\n",
    "        return input_list\n",
    "\n",
    "    except Exception as e:\n",
    "        print(e)\n",
    "\n",
    "\n",
    "input_list = [5, 6, 7, 8, 9]\n",
    "n = 1\n",
    "\n",
    "print(next_in_line(input_list, n))"
   ]
  },
  {
   "cell_type": "code",
   "execution_count": 5,
   "metadata": {},
   "outputs": [
    {
     "name": "stdout",
     "output_type": "stream",
     "text": [
      "65700\n"
     ]
    }
   ],
   "source": [
    "# Question2\n",
    "# Create the function that takes a list of dictionaries and returns the sum of people's budgets.\n",
    "\n",
    "\n",
    "def get_budgets(input_list) ->  int:\n",
    "    try:\n",
    "\n",
    "        people_budget = sum([i['budget'] for i in input_list])\n",
    "\n",
    "        \n",
    "        return people_budget\n",
    "\n",
    "    except Exception as e:\n",
    "        print(e)\n",
    "\n",
    "\n",
    "list1 = [\n",
    "  { \"name\": \"John\", \"age\": 21, \"budget\": 23000 },\n",
    "  { \"name\": \"Steve\",  \"age\": 32, \"budget\": 40000 },\n",
    "  { \"name\": \"Martin\",  \"age\": 16, \"budget\": 2700 }\n",
    "]\n",
    "\n",
    "print(get_budgets(list1))\n",
    "\n"
   ]
  },
  {
   "cell_type": "code",
   "execution_count": 6,
   "metadata": {},
   "outputs": [
    {
     "name": "stdout",
     "output_type": "stream",
     "text": [
      "ehllo\n"
     ]
    }
   ],
   "source": [
    "# Question3\n",
    "# Create a function that takes a string and returns a string with its letters in alphabetical order.\n",
    "\n",
    "def alphabet_soup(input_str:str) -> str:\n",
    "    try:\n",
    "\n",
    "        res_str = ''.join(sorted(input_str))\n",
    "        \n",
    "        return res_str\n",
    "\n",
    "    except Exception as e:\n",
    "        print(e)\n",
    "\n",
    "\n",
    "input_str = \"hello\"\n",
    "\n",
    "print(alphabet_soup(input_str))"
   ]
  },
  {
   "cell_type": "code",
   "execution_count": 13,
   "metadata": {},
   "outputs": [
    {
     "name": "stdout",
     "output_type": "stream",
     "text": [
      "105.0\n",
      "15399.26\n"
     ]
    }
   ],
   "source": [
    "\n",
    "def compound_interest(p, t, r, n):\n",
    "\n",
    "    try:\n",
    "\n",
    "        res = p * (1 + r/n) ** (n * t)\n",
    "        \n",
    "        return round(res, 2)\n",
    "\n",
    "    except Exception as e:\n",
    "        print(e)\n",
    "\t\n",
    "\n",
    "\n",
    "print(compound_interest(100, 1, 0.05, 1))\n",
    "print(compound_interest(3500, 15, 0.1, 4))\n"
   ]
  },
  {
   "cell_type": "code",
   "execution_count": 7,
   "metadata": {},
   "outputs": [
    {
     "name": "stdout",
     "output_type": "stream",
     "text": [
      "[9, 2, 16]\n"
     ]
    }
   ],
   "source": [
    "# Question5\n",
    "# Write a function that takes a list of elements and returns only the integers.\n",
    "\n",
    "def return_only_integer(input_list:list) -> list:\n",
    "    try:\n",
    "\n",
    "        res_list = [i for i in input_list if isinstance(i, int)]\n",
    "        \n",
    "        return res_list\n",
    "\n",
    "    except Exception as e:\n",
    "        print(e)\n",
    "\n",
    "\n",
    "input_list = [9, 2, \"space\", \"car\", \"lion\", 16]\n",
    "\n",
    "print(return_only_integer(input_list))\n"
   ]
  },
  {
   "cell_type": "code",
   "execution_count": null,
   "metadata": {},
   "outputs": [],
   "source": []
  }
 ],
 "metadata": {
  "kernelspec": {
   "display_name": "base",
   "language": "python",
   "name": "python3"
  },
  "language_info": {
   "codemirror_mode": {
    "name": "ipython",
    "version": 3
   },
   "file_extension": ".py",
   "mimetype": "text/x-python",
   "name": "python",
   "nbconvert_exporter": "python",
   "pygments_lexer": "ipython3",
   "version": "3.9.13"
  },
  "orig_nbformat": 4,
  "vscode": {
   "interpreter": {
    "hash": "d56d7ac4ee4883c35c50b079d388610bdf13d54aa1c1112da169cfd5d54eb276"
   }
  }
 },
 "nbformat": 4,
 "nbformat_minor": 2
}
