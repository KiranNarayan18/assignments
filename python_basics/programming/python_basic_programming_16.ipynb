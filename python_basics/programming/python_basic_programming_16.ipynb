{
 "cells": [
  {
   "cell_type": "code",
   "execution_count": 2,
   "metadata": {},
   "outputs": [
    {
     "name": "stdout",
     "output_type": "stream",
     "text": [
      "in... in... incredible?\n"
     ]
    }
   ],
   "source": [
    "# Question1. \n",
    "# Write a function that stutters a word as if someone is struggling to read it. The first two letters are repeated twice with an ellipsis ... and space after each, and then the word is pronounced with a question mark ?.\n",
    "\n",
    "# Input Format: \n",
    "\n",
    "def stutters_word(word):\n",
    "    try:\n",
    "        first_two_letters = word[0:2]\n",
    "\n",
    "        return (2 * (first_two_letters + '... ')) + word + '?'\n",
    "    \n",
    "    except Exception as e:\n",
    "        print(e)\n",
    "\n",
    "\n",
    "\n",
    "word = input(\"Enter a word: \")\n",
    "\n",
    "print(stutters_word(word))"
   ]
  },
  {
   "cell_type": "code",
   "execution_count": 2,
   "metadata": {},
   "outputs": [
    {
     "name": "stdout",
     "output_type": "stream",
     "text": [
      "the given input is 2\n",
      "114.58\n"
     ]
    }
   ],
   "source": [
    "# Question 2\n",
    "# Create a function that takes an angle in radians and returns the corresponding angle in degrees rounded to one decimal place.\n",
    "\n",
    "def angle_to_degrees(radians:float) -> float:\n",
    "    try:\n",
    "        print(f\"the given input is {radians}\")\n",
    "        \n",
    "        return round(radians * 180 / (3.142), 2)\n",
    "    except Exception as e:\n",
    "        print(e)\n",
    "\n",
    "angle = int(input(\"Enter the angle in degrees: \"))\n",
    "print(angle_to_degrees(angle))\n"
   ]
  },
  {
   "cell_type": "code",
   "execution_count": 1,
   "metadata": {},
   "outputs": [
    {
     "name": "stdout",
     "output_type": "stream",
     "text": [
      "the given input is 5\n"
     ]
    },
    {
     "data": {
      "text/plain": [
       "True"
      ]
     },
     "execution_count": 1,
     "metadata": {},
     "output_type": "execute_result"
    }
   ],
   "source": [
    "# Question 3. \n",
    "# In this challenge, establish if a given integer num is a Curzon number. If 1 plus 2 elevated to num is exactly divisible by 1 plus 2 multiplied by num, then num is a Curzon number.\n",
    "\n",
    "# Given a non-negative integer num, implement a function that returns True if num is a Curzon number, or False otherwise.\n",
    "\n",
    "class Solution:\n",
    "    # @param num, a non-negative integer\n",
    "    # @return a boolean\n",
    "    def isCurzon(self, num) -> bool:        \n",
    "        try:\n",
    "            print(f\"the given input is {num}\")\n",
    "            a =  1 + 2 ** num\n",
    "            b = 1 + 2 * num\n",
    "\n",
    "            if a % b == 0:\n",
    "                return True\n",
    "            return False\n",
    "\n",
    "        except Exception as e:\n",
    "            print(e)\n",
    "\n",
    "\n",
    "num = int(input(\"Enter a non-negative integer: \"))\n",
    "\n",
    "obj1 = Solution()\n",
    "obj1.isCurzon(num)"
   ]
  },
  {
   "cell_type": "code",
   "execution_count": 3,
   "metadata": {},
   "outputs": [
    {
     "name": "stdout",
     "output_type": "stream",
     "text": [
      "the given side of the hexagon is 1.0\n"
     ]
    },
    {
     "data": {
      "text/plain": [
       "2.6"
      ]
     },
     "execution_count": 3,
     "metadata": {},
     "output_type": "execute_result"
    }
   ],
   "source": [
    "# Question 4.\n",
    "# Given the side length x find the area of a hexagon.\n",
    "\n",
    "class area:\n",
    "    def hexagon(self, x:float) -> float:\n",
    "        try:\n",
    "            print(f\"the given side of the hexagon is {x}\")\n",
    "            area_of_hex = (3 * (3 ** 0.5) * x ** 2) / 2\n",
    "\n",
    "            return round(area_of_hex,2)\n",
    "\n",
    "        except Exception as e:\n",
    "            print(e)\n",
    "\n",
    "num = float(input(\"Enter the side of integer: \"))\n",
    "obj1 = area()\n",
    "obj1.hexagon(num)"
   ]
  },
  {
   "cell_type": "code",
   "execution_count": 4,
   "metadata": {},
   "outputs": [
    {
     "data": {
      "text/plain": [
       "5"
      ]
     },
     "execution_count": 4,
     "metadata": {},
     "output_type": "execute_result"
    }
   ],
   "source": [
    "# Question 5. Create a function that returns a base-2 (binary) representation of a base-10 (decimal) string number. To convert is simple: ((2) means base-2 and (10) means base-10) 010101001(2) = 1 + 8 + 32 + 128.\n",
    "\n",
    "# Going from right to left, the value of the most right bit is 1, now from that every bit to the left will be x2 the value, value of an 8 bit binary numbers are (256, 128, 64, 32, 16, 8, 4, 2, 1).\n",
    "\n",
    "def convert(binary):\n",
    "    try:\n",
    "        decimal = 0\n",
    "        for i in range(len(binary)):\n",
    "            if binary[i] == '1':\n",
    "                decimal += 2 ** (len(binary) - i - 1)\n",
    "        return decimal\n",
    "\n",
    "    except Exception as e:\n",
    "        print(e)\n",
    "\n",
    "convert(\"101\")"
   ]
  },
  {
   "cell_type": "code",
   "execution_count": null,
   "metadata": {},
   "outputs": [],
   "source": []
  }
 ],
 "metadata": {
  "kernelspec": {
   "display_name": "base",
   "language": "python",
   "name": "python3"
  },
  "language_info": {
   "codemirror_mode": {
    "name": "ipython",
    "version": 3
   },
   "file_extension": ".py",
   "mimetype": "text/x-python",
   "name": "python",
   "nbconvert_exporter": "python",
   "pygments_lexer": "ipython3",
   "version": "3.9.13 (main, Aug 25 2022, 23:51:50) [MSC v.1916 64 bit (AMD64)]"
  },
  "orig_nbformat": 4,
  "vscode": {
   "interpreter": {
    "hash": "d56d7ac4ee4883c35c50b079d388610bdf13d54aa1c1112da169cfd5d54eb276"
   }
  }
 },
 "nbformat": 4,
 "nbformat_minor": 2
}
