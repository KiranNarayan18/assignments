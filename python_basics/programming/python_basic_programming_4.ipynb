{
 "cells": [
  {
   "cell_type": "code",
   "execution_count": 33,
   "metadata": {},
   "outputs": [
    {
     "data": {
      "text/plain": [
       "120"
      ]
     },
     "execution_count": 33,
     "metadata": {},
     "output_type": "execute_result"
    }
   ],
   "source": [
    "#question 1 Write a Python Program to Find the Factorial of a Number?\n",
    "\n",
    "from functools import reduce\n",
    "n = 5\n",
    "reduce(lambda x,y: x * y , range(1,n+1))\n",
    "\n",
    "    "
   ]
  },
  {
   "cell_type": "code",
   "execution_count": 16,
   "metadata": {},
   "outputs": [
    {
     "name": "stdout",
     "output_type": "stream",
     "text": [
      "2 X 1 = 2\n",
      "2 X 2 = 4\n",
      "2 X 3 = 6\n",
      "2 X 4 = 8\n",
      "2 X 5 = 10\n",
      "2 X 6 = 12\n",
      "2 X 7 = 14\n",
      "2 X 8 = 16\n",
      "2 X 9 = 18\n",
      "2 X 10 = 20\n"
     ]
    }
   ],
   "source": [
    "# question 2 Write a Python Program to Display the multiplication Table?\n",
    "def mulTable(num):\n",
    "    for i in range(1,11):\n",
    "        print(str(num)+\" X \"+str(i)+\" = \"+str(num * i))\n",
    "    \n",
    "mulTable(2)\n",
    "\n",
    "# print(lambda x :[ print(str(x)+\" X \"+str(i)+\" = \"+str(x * i)) for i in range(1,11)])\n",
    "# a(int(input('enter a integer')))"
   ]
  },
  {
   "cell_type": "code",
   "execution_count": 2,
   "metadata": {},
   "outputs": [
    {
     "name": "stdout",
     "output_type": "stream",
     "text": [
      "[0, 1, 1, 2, 3, 5, 8, 13, 21, 34]\n"
     ]
    }
   ],
   "source": [
    "# question 4 Write a Python Program to Print the Fibonacci sequence?\n",
    "n = int(input('enter a number'))\n",
    "result_list = []\n",
    "\n",
    "# [result_list.append(0) if i == 0 else (result_list.append(1) if i == 1 else result_list.append( result_list[-2] + result_list[-1] )) for i in range(n) ]\n",
    "\n",
    "for i in range(n):\n",
    "    if i == 0:        \n",
    "        result_list.append(0)\n",
    "    elif i == 1:\n",
    "        # print(1)\n",
    "        result_list.append(1)        \n",
    "    else:\n",
    "        result_list.append( result_list[-2] + result_list[-1] )\n",
    "print(result_list)\n",
    "        "
   ]
  },
  {
   "cell_type": "code",
   "execution_count": 5,
   "metadata": {},
   "outputs": [
    {
     "name": "stdout",
     "output_type": "stream",
     "text": [
      "Armstrong\n"
     ]
    }
   ],
   "source": [
    "#question 4  Write a Python Program to Check Armstrong Number?\n",
    "def checkArmstrong(n):\n",
    "    num = str(n)\n",
    "    total = sum([int(i) ** int(len(num)) for i in num])\n",
    "    return (True if total == int(num) else False)\n",
    "    \n",
    "    # sum = 0\n",
    "    # for i in str(num):\n",
    "    #     sum += int(i) ** int(len(str(num)))\n",
    "    # if sum == int(num):\n",
    "    #     print('Armstrong')\n",
    "    # else:\n",
    "    #     print('not Armstrong')\n",
    "\n",
    "x = 153\n",
    "\n",
    "if checkArmstrong(x):\n",
    "    print('Armstrong')\n",
    "else:\n",
    "    print('not Armstrong')"
   ]
  },
  {
   "cell_type": "code",
   "execution_count": 6,
   "metadata": {},
   "outputs": [
    {
     "name": "stdout",
     "output_type": "stream",
     "text": [
      "153\n"
     ]
    }
   ],
   "source": [
    "# question 5 write a Python Program to Find Armstrong Number in an Interval?\n",
    "\n",
    "def checkArmstrong(n):\n",
    "    num = str(n)\n",
    "    total = sum([int(i) ** int(len(num)) for i in num])\n",
    "    return (True if total == int(num) else False)\n",
    "\n",
    "\n",
    "start,end = 100, 160\n",
    "\n",
    "for i in range(start, end):\n",
    "    if checkArmstrong(i):\n",
    "        print(i)    \n",
    "        "
   ]
  },
  {
   "cell_type": "code",
   "execution_count": 17,
   "metadata": {},
   "outputs": [
    {
     "name": "stdout",
     "output_type": "stream",
     "text": [
      "55\n"
     ]
    }
   ],
   "source": [
    "#question 6\tWrite a Python Program to Find the Sum of Natural Numbers?\n",
    "num = int(input('enter a number'))\n",
    "print(sum([i for i in range(num+1)]))"
   ]
  },
  {
   "cell_type": "code",
   "execution_count": null,
   "metadata": {},
   "outputs": [],
   "source": []
  },
  {
   "cell_type": "code",
   "execution_count": null,
   "metadata": {},
   "outputs": [],
   "source": []
  }
 ],
 "metadata": {
  "kernelspec": {
   "display_name": "Python 3.10.0 64-bit",
   "language": "python",
   "name": "python3"
  },
  "language_info": {
   "codemirror_mode": {
    "name": "ipython",
    "version": 3
   },
   "file_extension": ".py",
   "mimetype": "text/x-python",
   "name": "python",
   "nbconvert_exporter": "python",
   "pygments_lexer": "ipython3",
   "version": "3.10.0"
  },
  "orig_nbformat": 4,
  "vscode": {
   "interpreter": {
    "hash": "369f2c481f4da34e4445cda3fffd2e751bd1c4d706f27375911949ba6bb62e1c"
   }
  }
 },
 "nbformat": 4,
 "nbformat_minor": 2
}
