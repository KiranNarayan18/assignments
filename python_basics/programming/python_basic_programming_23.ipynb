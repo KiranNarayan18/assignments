{
 "cells": [
  {
   "cell_type": "code",
   "execution_count": 2,
   "metadata": {},
   "outputs": [
    {
     "name": "stdout",
     "output_type": "stream",
     "text": [
      "True\n",
      "False\n",
      "True\n",
      "False\n",
      "True\n"
     ]
    }
   ],
   "source": [
    "# Question 1\n",
    "# Create a function that takes a number as an argument and returns True or False depending on whether the number is symmetrical or not. A number is symmetrical when it is the same as its reverse.\n",
    "\n",
    "def is_symmetrical(num:int) -> bool:\n",
    "    try:\n",
    "        return str(num) == str(num)[::-1]\n",
    "        \n",
    "    except Exception as e:\n",
    "        print(e)\n",
    "        \n",
    "print(is_symmetrical(7227))\n",
    "\n",
    "print(is_symmetrical(12567))\n",
    "\n",
    "print(is_symmetrical(44444444))\n",
    "\n",
    "print(is_symmetrical(9939))\n",
    "\n",
    "print(is_symmetrical(1112111))\n"
   ]
  },
  {
   "cell_type": "code",
   "execution_count": 5,
   "metadata": {},
   "outputs": [
    {
     "name": "stdout",
     "output_type": "stream",
     "text": [
      "6\n",
      "24\n",
      "0\n",
      "-20\n"
     ]
    }
   ],
   "source": [
    "# Question 2\n",
    "# Given a string of numbers separated by a comma and space, return the product of the numbers.\n",
    "\n",
    "# Python3 program to multiply all values in the\n",
    "# list using lambda function and reduce()\n",
    " \n",
    "from functools import reduce\n",
    "\n",
    "def multiply_nums(input_string:list) -> int:\n",
    "    try:\n",
    "        \n",
    "        input_string = input_string.split(\",\") \n",
    "        \n",
    "        input_string = reduce((lambda x, y: int(x) * int(y)), input_string)\n",
    "        return input_string     \n",
    "    except Exception as e:\n",
    "        print(e)\n",
    "        \n",
    "\n",
    "print(multiply_nums(\"2, 3\"))\n",
    "\n",
    "print(multiply_nums(\"1, 2, 3, 4\"))\n",
    "\n",
    "print(multiply_nums(\"54, 75, 453, 0\"))\n",
    "\n",
    "print(multiply_nums(\"10, -2\"))\n",
    "\n",
    "       "
   ]
  },
  {
   "cell_type": "code",
   "execution_count": 2,
   "metadata": {},
   "outputs": [
    {
     "name": "stdout",
     "output_type": "stream",
     "text": [
      "811181\n",
      "416649\n",
      "9414\n"
     ]
    }
   ],
   "source": [
    "# Question 3\n",
    "# Create a function that squares every digit of a number.\n",
    "\n",
    "def square_digits(num):\n",
    "    try:\n",
    "        \n",
    "        num = ''.join([str(int(i) ** 2) for i in str(num)])\n",
    "        \n",
    "        return num\n",
    "                \n",
    "    except Exception as e:\n",
    "        print(e)\n",
    "        \n",
    "        \n",
    "print(square_digits(9119))\n",
    "print(square_digits(2483))\n",
    "print(square_digits(3212))\n"
   ]
  },
  {
   "cell_type": "code",
   "execution_count": 3,
   "metadata": {},
   "outputs": [
    {
     "name": "stdout",
     "output_type": "stream",
     "text": [
      "[1, 3, 5]\n",
      "[4]\n",
      "[5, 7, 8, 9, 10, 15]\n",
      "[1, 2, 3]\n"
     ]
    }
   ],
   "source": [
    "# Question 4\n",
    "# Create a function that sorts a list and removes all duplicate items from it.\n",
    "\n",
    "def setify(num_list:list) -> list:\n",
    "    try:\n",
    "        \n",
    "        num_list = set(num_list)\n",
    "        return sorted(num_list)\n",
    "                \n",
    "    except Exception as e:\n",
    "        print(e)\n",
    "        \n",
    "\n",
    "print(setify([1, 3, 3, 5, 5]))\n",
    "\n",
    "print(setify([4, 4, 4, 4]) )\n",
    "\n",
    "print(setify([5, 7, 8, 9, 10, 15]) )\n",
    "\n",
    "print(setify([3, 3, 3, 2, 1]) )\n"
   ]
  },
  {
   "cell_type": "code",
   "execution_count": 6,
   "metadata": {},
   "outputs": [
    {
     "name": "stdout",
     "output_type": "stream",
     "text": [
      "3.0\n",
      "3.0\n",
      "6.0\n"
     ]
    }
   ],
   "source": [
    "# Question 5\n",
    "# Create a function that returns the mean of all digits.\n",
    "\n",
    "def mean(lst:list) -> float:\n",
    "\n",
    "    try:\n",
    "        lst = [int(i) for i in str(lst)]\n",
    "        return sum(lst) / len(lst)\n",
    "\n",
    "    except Exception as e:\n",
    "        print(e)\n",
    "\n",
    "\n",
    "print(mean(42))\n",
    "\n",
    "print(mean(12345))\n",
    "\n",
    "print(mean(666))\n"
   ]
  },
  {
   "cell_type": "code",
   "execution_count": null,
   "metadata": {},
   "outputs": [],
   "source": []
  }
 ],
 "metadata": {
  "kernelspec": {
   "display_name": "base",
   "language": "python",
   "name": "python3"
  },
  "language_info": {
   "codemirror_mode": {
    "name": "ipython",
    "version": 3
   },
   "file_extension": ".py",
   "mimetype": "text/x-python",
   "name": "python",
   "nbconvert_exporter": "python",
   "pygments_lexer": "ipython3",
   "version": "3.9.13 (main, Aug 25 2022, 23:51:50) [MSC v.1916 64 bit (AMD64)]"
  },
  "orig_nbformat": 4,
  "vscode": {
   "interpreter": {
    "hash": "d56d7ac4ee4883c35c50b079d388610bdf13d54aa1c1112da169cfd5d54eb276"
   }
  }
 },
 "nbformat": 4,
 "nbformat_minor": 2
}
