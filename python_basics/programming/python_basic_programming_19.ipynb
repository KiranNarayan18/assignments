{
 "cells": [
  {
   "cell_type": "code",
   "execution_count": 4,
   "metadata": {},
   "outputs": [
    {
     "name": "stdout",
     "output_type": "stream",
     "text": [
      "hheelllloo  wwoorrlldd!!\n"
     ]
    }
   ],
   "source": [
    "# Question1\n",
    "# Create a function that takes a string and returns a string in which each character is repeated once.\n",
    "\n",
    "def repeat_chars(input_str:str) -> str:\n",
    "    try:\n",
    "        result = [2 * i for i in input_str]\n",
    "        result = ''.join(result)\n",
    "        return result\n",
    "    except Exception as e:\n",
    "        print(e)\n",
    "        \n",
    "input_str = input(\"enter a string\")\n",
    "print(repeat_chars(input_str))\n"
   ]
  },
  {
   "cell_type": "code",
   "execution_count": 12,
   "metadata": {},
   "outputs": [
    {
     "name": "stdout",
     "output_type": "stream",
     "text": [
      "boolean expected\n"
     ]
    }
   ],
   "source": [
    "# Question2\n",
    "# Create a function that reverses a boolean value and returns the string \"boolean expected\" if another variable type is given.\n",
    "\n",
    "\n",
    "def reverse_bool(user_input: bool) -> bool:\n",
    "    try:\n",
    "        if isinstance(user_input, bool):\n",
    "            if user_input:\n",
    "                return False\n",
    "            return True\n",
    "        return \"boolean expected\"\n",
    "    except Exception as e:\n",
    "        print(e)\n",
    "        \n",
    "user_input = \"abc\"\n",
    "print(reverse_bool(user_input))"
   ]
  },
  {
   "cell_type": "code",
   "execution_count": 27,
   "metadata": {},
   "outputs": [
    {
     "data": {
      "text/plain": [
       "0.008"
      ]
     },
     "execution_count": 27,
     "metadata": {},
     "output_type": "execute_result"
    }
   ],
   "source": [
    "# Question3\n",
    "# Create a function that returns the thickness (in meters) of a piece of paper after folding it n number of times. The paper starts off with a thickness of 0.5mm.\n",
    "\n",
    "\n",
    "def check_thickness(no_of_folds:int)->float:\n",
    "    try:\n",
    "       return 0.5 * (2 ** no_of_folds) / 1000\n",
    "    except Exception as e:\n",
    "        print(e)\n",
    "     \n",
    "     \n",
    "check_thickness(4)   "
   ]
  },
  {
   "cell_type": "code",
   "execution_count": 28,
   "metadata": {},
   "outputs": [
    {
     "name": "stdout",
     "output_type": "stream",
     "text": [
      "[1, 3, 5]\n"
     ]
    }
   ],
   "source": [
    "# Question4\n",
    "# Create a function that takes a single string as argument and returns an ordered list containing the indices of all capital letters in the string.\n",
    "\n",
    "\n",
    "def find_caps(user_input:str) -> list:\n",
    "    try:\n",
    "        result = [user_input.index(i) for i in user_input if i.isupper()]\n",
    "        return result\n",
    "    except Exception as e:\n",
    "        print(e)\n",
    "     \n",
    "\n",
    "print(find_caps(\"eDaBiT\"))"
   ]
  },
  {
   "cell_type": "code",
   "execution_count": 32,
   "metadata": {},
   "outputs": [
    {
     "name": "stdout",
     "output_type": "stream",
     "text": [
      "[0, 2, 4, 6, 8]\n"
     ]
    }
   ],
   "source": [
    "# Question5\n",
    "# Using list comprehensions, create a function that finds all even numbers from 1 to the given number.\n",
    "\n",
    "def find_even(n:int) -> list:\n",
    "    try:\n",
    "        result = [i for i in range(0, n, 2)]\n",
    "        return result\n",
    "    except Exception as e:\n",
    "        print(e)\n",
    "     \n",
    "\n",
    "    \n",
    "n = 10\n",
    "print(find_even(n))"
   ]
  },
  {
   "cell_type": "code",
   "execution_count": null,
   "metadata": {},
   "outputs": [],
   "source": []
  }
 ],
 "metadata": {
  "kernelspec": {
   "display_name": "Python 3",
   "language": "python",
   "name": "python3"
  },
  "language_info": {
   "codemirror_mode": {
    "name": "ipython",
    "version": 3
   },
   "file_extension": ".py",
   "mimetype": "text/x-python",
   "name": "python",
   "nbconvert_exporter": "python",
   "pygments_lexer": "ipython3",
   "version": "3.10.0"
  },
  "orig_nbformat": 4,
  "vscode": {
   "interpreter": {
    "hash": "369f2c481f4da34e4445cda3fffd2e751bd1c4d706f27375911949ba6bb62e1c"
   }
  }
 },
 "nbformat": 4,
 "nbformat_minor": 2
}
