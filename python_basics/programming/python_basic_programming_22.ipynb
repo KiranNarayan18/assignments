{
 "cells": [
  {
   "cell_type": "code",
   "execution_count": 1,
   "metadata": {},
   "outputs": [
    {
     "name": "stdout",
     "output_type": "stream",
     "text": [
      "[3, 6, 9]\n"
     ]
    }
   ],
   "source": [
    "# Question 1\n",
    "\n",
    "\n",
    "def list_operation(x:int, y:int, n:int) -> list:\n",
    "    try:\n",
    "        result = [i for i in range(x,y+1) if i % n == 0]\n",
    "        \n",
    "        return result\n",
    "    except Exception as e:\n",
    "        print(e)\n",
    "        \n",
    "\n",
    "print(list_operation(1, 10, 3))\n"
   ]
  },
  {
   "cell_type": "code",
   "execution_count": 2,
   "metadata": {},
   "outputs": [
    {
     "name": "stdout",
     "output_type": "stream",
     "text": [
      "True\n",
      "False\n"
     ]
    }
   ],
   "source": [
    "# Question2\n",
    "# Create a function that takes in two lists and returns True if the second list follows the first list by one element, and False otherwise. In other words, determine if the second list is the first list shifted to the right by 1.\n",
    "\n",
    "def simon_says(list1:list, list2:list) -> bool:\n",
    "    try:\n",
    "        list1 = list1[:-1]\n",
    "        list2 = list2[1:]\n",
    "               \n",
    "        return list1 == list2\n",
    "    \n",
    "    except Exception as e:\n",
    "        print(e)\n",
    "        \n",
    "print(simon_says([1, 2], [5, 1]) )\n",
    "print(simon_says([1, 2], [5, 5]))\n"
   ]
  },
  {
   "cell_type": "code",
   "execution_count": 6,
   "metadata": {},
   "outputs": [
    {
     "name": "stdout",
     "output_type": "stream",
     "text": [
      "ASM\n"
     ]
    }
   ],
   "source": [
    "# Question3\n",
    "# A group of friends have decided to start a secret society. The name will be the first letter of each of their names, sorted in alphabetical order.\n",
    "# Create a function that takes in a list of names and returns the name of the secret society.\n",
    "\n",
    "\n",
    "def society_name(list1:list) -> str:\n",
    "    try:\n",
    "        result = ''.join([i[0] for i in list1])\n",
    "        \n",
    "        return result\n",
    "    except Exception as e:\n",
    "        print(e)\n",
    "        \n",
    "\n",
    "print(society_name([\"Adam\", \"Sarah\", \"Malcolm\"]))"
   ]
  },
  {
   "cell_type": "code",
   "execution_count": 10,
   "metadata": {},
   "outputs": [
    {
     "name": "stdout",
     "output_type": "stream",
     "text": [
      "True\n",
      "False\n",
      "False\n"
     ]
    }
   ],
   "source": [
    "# Question4\n",
    "# An isogram is a word that has no duplicate letters. Create a function that takes a string and returns either True or False depending on whether or not it's an \"isogram\".\n",
    "\n",
    "def is_isogram(input_str:str) -> bool:\n",
    "    try:\n",
    "        input_str = input_str.lower()\n",
    "        result = [x for x in input_str if input_str.count(x) > 1]\n",
    "        if len(result) > 0:\n",
    "            return False\n",
    "        \n",
    "        return True\n",
    "    except Exception as e:\n",
    "        print(e)\n",
    "        \n",
    "        \n",
    "print(is_isogram(\"Algorism\"))\n",
    "\n",
    "print(is_isogram(\"PasSword\")) \n",
    "\n",
    "print(is_isogram(\"Consecutive\")) \n",
    "\n"
   ]
  },
  {
   "cell_type": "code",
   "execution_count": 1,
   "metadata": {},
   "outputs": [
    {
     "name": "stdout",
     "output_type": "stream",
     "text": [
      "True\n",
      "False\n",
      "True\n",
      "True\n"
     ]
    }
   ],
   "source": [
    "# Question5\n",
    "# Create a function that takes a string and returns True or False, depending on whether the characters are in order or not.\n",
    "\n",
    "\n",
    "def is_in_order(input_str:str)->bool:\n",
    "    try:\n",
    "        res_str = ''.join(sorted(input_str))\n",
    "        \n",
    "        return res_str == input_str\n",
    "    \n",
    "    except Exception as e:\n",
    "        print(e)\n",
    "        \n",
    "\n",
    "\n",
    "print(is_in_order(\"abc\"))\n",
    "\n",
    "print(is_in_order(\"edabit\"))\n",
    "\n",
    "print(is_in_order(\"123\"))\n",
    "\n",
    "print(is_in_order(\"xyzz\"))\n"
   ]
  },
  {
   "cell_type": "code",
   "execution_count": null,
   "metadata": {},
   "outputs": [],
   "source": []
  },
  {
   "cell_type": "code",
   "execution_count": null,
   "metadata": {},
   "outputs": [],
   "source": []
  }
 ],
 "metadata": {
  "kernelspec": {
   "display_name": "Python 3",
   "language": "python",
   "name": "python3"
  },
  "language_info": {
   "codemirror_mode": {
    "name": "ipython",
    "version": 3
   },
   "file_extension": ".py",
   "mimetype": "text/x-python",
   "name": "python",
   "nbconvert_exporter": "python",
   "pygments_lexer": "ipython3",
   "version": "3.10.0"
  },
  "orig_nbformat": 4,
  "vscode": {
   "interpreter": {
    "hash": "369f2c481f4da34e4445cda3fffd2e751bd1c4d706f27375911949ba6bb62e1c"
   }
  }
 },
 "nbformat": 4,
 "nbformat_minor": 2
}
