{
 "cells": [
  {
   "cell_type": "code",
   "execution_count": 1,
   "metadata": {},
   "outputs": [
    {
     "name": "stdout",
     "output_type": "stream",
     "text": [
      "55\n"
     ]
    }
   ],
   "source": [
    "# 1.Write a Python program to find sum of elements in list?\n",
    "numbers = [1,2,3,4,5,6,7,8,9,10]\n",
    "total = 0\n",
    "for i in numbers:\n",
    "    total = total + i\n",
    "    \n",
    "print(total)"
   ]
  },
  {
   "cell_type": "code",
   "execution_count": 4,
   "metadata": {},
   "outputs": [
    {
     "name": "stdout",
     "output_type": "stream",
     "text": [
      "24\n"
     ]
    }
   ],
   "source": [
    "# 2.Write a Python program to  Multiply all numbers in the list?\n",
    "numbers = [1, 2, 3, 4]\n",
    "total = 1\n",
    "for i in numbers:\n",
    "    total = total * i\n",
    "    \n",
    "print(total)"
   ]
  },
  {
   "cell_type": "code",
   "execution_count": 7,
   "metadata": {},
   "outputs": [
    {
     "name": "stdout",
     "output_type": "stream",
     "text": [
      "-1\n"
     ]
    }
   ],
   "source": [
    "# 3.Write a Python program to find smallest number in a list?\n",
    "numbers = [1, 2, 3, 4, -1]\n",
    "numbers = list(set(numbers))\n",
    "min_val = numbers[0]\n",
    "for i in numbers:\n",
    "    if i < min_val:\n",
    "        min_val = i\n",
    "        \n",
    "print(min_val)"
   ]
  },
  {
   "cell_type": "code",
   "execution_count": 8,
   "metadata": {},
   "outputs": [
    {
     "name": "stdout",
     "output_type": "stream",
     "text": [
      "4\n"
     ]
    }
   ],
   "source": [
    "# 4.Write a Python program to find largest number in a list?\n",
    "numbers = [1, 2, 3, 4, -1]\n",
    "numbers = list(set(numbers))\n",
    "max_val = numbers[0]\n",
    "for i in numbers:\n",
    "    if i > max_val:\n",
    "        max_val = i\n",
    "        \n",
    "print(max_val)"
   ]
  },
  {
   "cell_type": "code",
   "execution_count": 18,
   "metadata": {},
   "outputs": [
    {
     "name": "stdout",
     "output_type": "stream",
     "text": [
      "3\n"
     ]
    }
   ],
   "source": [
    "# 5.Write a Python program to find second largest number in a list?\n",
    "numbers = [1, 2, 3, 4, -1]\n",
    "\n",
    "largest = max(numbers)\n",
    "numbers.remove(largest)\n",
    "\n",
    "print(max(numbers))"
   ]
  },
  {
   "cell_type": "code",
   "execution_count": 24,
   "metadata": {},
   "outputs": [
    {
     "data": {
      "text/plain": [
       "[11, 10, 9, 8, 7, 6]"
      ]
     },
     "execution_count": 24,
     "metadata": {},
     "output_type": "execute_result"
    }
   ],
   "source": [
    "# 6.\tWrite a Python program to find N largest elements from a list?\n",
    "num = 6\n",
    "numbers = list(range(num*2))\n",
    "numbers = sorted(numbers, reverse=True )\n",
    "numbers[:num]"
   ]
  },
  {
   "cell_type": "code",
   "execution_count": 27,
   "metadata": {},
   "outputs": [
    {
     "data": {
      "text/plain": [
       "[0, 2, 4, 6, 8, 10, 12, 14, 16, 18, 20]"
      ]
     },
     "execution_count": 27,
     "metadata": {},
     "output_type": "execute_result"
    }
   ],
   "source": [
    "# 7.\tWrite a Python program to print even numbers in a list?\n",
    "numbers = range(21)\n",
    "[i for i in numbers if i % 2 == 0]"
   ]
  },
  {
   "cell_type": "code",
   "execution_count": 29,
   "metadata": {},
   "outputs": [
    {
     "data": {
      "text/plain": [
       "[1, 3, 5, 7, 9, 11, 13, 15, 17, 19]"
      ]
     },
     "execution_count": 29,
     "metadata": {},
     "output_type": "execute_result"
    }
   ],
   "source": [
    "# 8.\tWrite a Python program to print odd numbers in a List?\n",
    "numbers = range(21)\n",
    "[i for i in numbers if i % 2 != 0]"
   ]
  },
  {
   "cell_type": "code",
   "execution_count": 32,
   "metadata": {},
   "outputs": [
    {
     "name": "stdout",
     "output_type": "stream",
     "text": [
      "[[1, 2, 3], ['alpha', 'beta', 'gamma']]\n"
     ]
    }
   ],
   "source": [
    "# 9.\tWrite a Python program to Remove empty List from List?\n",
    "nested_list = [[1,2,3], [], ['alpha', 'beta', 'gamma']]\n",
    "for i in nested_list:\n",
    "    if len(i) == 0 and isinstance(i,list) :\n",
    "        nested_list.remove(i)\n",
    "        \n",
    "print(nested_list)"
   ]
  },
  {
   "cell_type": "code",
   "execution_count": 3,
   "metadata": {},
   "outputs": [
    {
     "name": "stdout",
     "output_type": "stream",
     "text": [
      "[0, 1, 2, 3, 4, 5, 6, 7, 8, 9]\n"
     ]
    }
   ],
   "source": [
    "# 10.\tWrite a Python program to Cloning or Copying a list?\n",
    "num_list1 = list(range(10))\n",
    "num_list2 = []\n",
    "\n",
    "num_list2 = num_list1.copy()\n",
    "\n",
    "print(num_list2)"
   ]
  },
  {
   "cell_type": "code",
   "execution_count": 6,
   "metadata": {},
   "outputs": [
    {
     "name": "stdout",
     "output_type": "stream",
     "text": [
      "{0: 1, 1: 1, 2: 2, 3: 1, 4: 1, 5: 2, 6: 1, 7: 1, 8: 1, 9: 3}\n"
     ]
    }
   ],
   "source": [
    "# 11.\tWrite a Python program to Count occurrences of an element in a list?\n",
    "num_list = [0, 1, 2, 2, 3, 4, 5, 5, 6, 7, 8, 9, 9, 9]\n",
    "num_dict = {i:num_list.count(i) for i in set(num_list)}\n",
    "print(num_dict)\n",
    "    \n",
    "\n"
   ]
  },
  {
   "cell_type": "code",
   "execution_count": null,
   "metadata": {},
   "outputs": [],
   "source": []
  }
 ],
 "metadata": {
  "kernelspec": {
   "display_name": "Python 3",
   "language": "python",
   "name": "python3"
  },
  "language_info": {
   "codemirror_mode": {
    "name": "ipython",
    "version": 3
   },
   "file_extension": ".py",
   "mimetype": "text/x-python",
   "name": "python",
   "nbconvert_exporter": "python",
   "pygments_lexer": "ipython3",
   "version": "3.10.0"
  },
  "orig_nbformat": 4,
  "vscode": {
   "interpreter": {
    "hash": "369f2c481f4da34e4445cda3fffd2e751bd1c4d706f27375911949ba6bb62e1c"
   }
  }
 },
 "nbformat": 4,
 "nbformat_minor": 2
}
