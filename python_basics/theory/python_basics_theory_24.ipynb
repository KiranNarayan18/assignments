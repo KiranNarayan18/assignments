{
 "cells": [
  {
   "attachments": {},
   "cell_type": "markdown",
   "metadata": {},
   "source": [
    "1. What is the relationship between def statements and lambda expressions ?\n",
    "\n",
    "    difference between def statements and lambda expressions is that def statements create named functions, while lambda expressions create anonymous functions\n"
   ]
  },
  {
   "attachments": {},
   "cell_type": "markdown",
   "metadata": {},
   "source": [
    "2. What is the benefit of lambda?\n",
    "    - Concise syntax\n",
    "    - Anonymous\n",
    "    - Passed as arguments\n",
    "    - Reduced code complexity"
   ]
  },
  {
   "attachments": {},
   "cell_type": "markdown",
   "metadata": {},
   "source": [
    "3. Compare and contrast map, filter, and reduce.\n",
    "\n",
    "    - map: applies a given function to each item of an iterable and returns an iterator of the results\n",
    "    - filter: returns an iterator that contains only the items from an iterable for which a given function returns True.\n",
    "    - reduce: applies a given function to the items of an iterable in a cumulative way and returns a single value.\n"
   ]
  },
  {
   "attachments": {},
   "cell_type": "markdown",
   "metadata": {},
   "source": [
    "4. What are function annotations, and how are they used?\n",
    "\n",
    "    - Function annotations are a way of adding metadata to the parameters and return value of a function. \n"
   ]
  },
  {
   "attachments": {},
   "cell_type": "markdown",
   "metadata": {},
   "source": [
    "5. What are recursive functions, and how are they used?\n",
    "\n",
    "    - Recursive functions are functions that call themselves during their execution. They are used to solve problems that can be broken down into smaller sub-problems of the same form. \n"
   ]
  },
  {
   "attachments": {},
   "cell_type": "markdown",
   "metadata": {},
   "source": [
    "6. What are some general design guidelines for coding functions?\n",
    "    - Functions should be small and do only one thing. This makes them easier to understand, test, and reuse.\n",
    "    - Functions should have descriptive names that accurately describe what they do.\n",
    "    - Functions should have input parameters and output return values that are well-defined and meaningful.\n",
    "    - Functions should not have side effects (i.e., they should not modify any global state).\n",
    "    - Functions should have appropriate error handling and exception handling.\n",
    "    - Functions should follow the DRY (Don't Repeat Yourself) principle, meaning that duplicate code should be refactored into a separate function."
   ]
  },
  {
   "attachments": {},
   "cell_type": "markdown",
   "metadata": {},
   "source": [
    "7. Name three or more ways that functions can communicate results to a caller.\n",
    "\n",
    "    - Functions can return a value using the return statement. The returned value can be used by the calling code.\n",
    "\n",
    "    - Functions can modify global variables or mutable objects passed as arguments, which can be used by the calling code.\n",
    "\n",
    "    - Functions can print results to the standard output, which can be captured by the calling code."
   ]
  },
  {
   "cell_type": "code",
   "execution_count": null,
   "metadata": {},
   "outputs": [],
   "source": []
  }
 ],
 "metadata": {
  "language_info": {
   "name": "python"
  },
  "orig_nbformat": 4
 },
 "nbformat": 4,
 "nbformat_minor": 2
}
