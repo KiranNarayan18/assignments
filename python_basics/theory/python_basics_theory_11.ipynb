{
 "cells": [
  {
   "attachments": {},
   "cell_type": "markdown",
   "metadata": {},
   "source": [
    "1. Create an assert statement that throws an AssertionError if the variable spam is a negative integer."
   ]
  },
  {
   "cell_type": "code",
   "execution_count": 6,
   "metadata": {},
   "outputs": [
    {
     "ename": "AssertionError",
     "evalue": "The spam variable is a negative integer.",
     "output_type": "error",
     "traceback": [
      "\u001b[1;31m---------------------------------------------------------------------------\u001b[0m",
      "\u001b[1;31mAssertionError\u001b[0m                            Traceback (most recent call last)",
      "Cell \u001b[1;32mIn[6], line 2\u001b[0m\n\u001b[0;32m      1\u001b[0m spam \u001b[39m=\u001b[39m \u001b[39m-\u001b[39m\u001b[39m1\u001b[39m\n\u001b[1;32m----> 2\u001b[0m \u001b[39massert\u001b[39;00m spam \u001b[39m>\u001b[39m\u001b[39m=\u001b[39m \u001b[39m0\u001b[39m, \u001b[39m'\u001b[39m\u001b[39mThe spam variable is a negative integer.\u001b[39m\u001b[39m'\u001b[39m\n",
      "\u001b[1;31mAssertionError\u001b[0m: The spam variable is a negative integer."
     ]
    }
   ],
   "source": [
    "spam = -1\n",
    "assert spam >= 0, 'The spam variable is a negative integer.'"
   ]
  },
  {
   "attachments": {},
   "cell_type": "markdown",
   "metadata": {},
   "source": [
    "2. Write an assert statement that triggers an AssertionError if the variables eggs and bacon contain strings that are the same as each other, even if their cases are different (that is, 'hello' and 'hello' are considered the same, and 'goodbye' and 'GOODbye' are also considered the same).\n"
   ]
  },
  {
   "cell_type": "code",
   "execution_count": 7,
   "metadata": {},
   "outputs": [
    {
     "ename": "AssertionError",
     "evalue": "eggs and bacon should not be the same (case-insensitive)",
     "output_type": "error",
     "traceback": [
      "\u001b[1;31m---------------------------------------------------------------------------\u001b[0m",
      "\u001b[1;31mAssertionError\u001b[0m                            Traceback (most recent call last)",
      "Cell \u001b[1;32mIn[7], line 2\u001b[0m\n\u001b[0;32m      1\u001b[0m eggs, bacon \u001b[39m=\u001b[39m \u001b[39m'\u001b[39m\u001b[39mgoodbye\u001b[39m\u001b[39m'\u001b[39m, \u001b[39m'\u001b[39m\u001b[39mGOODbye\u001b[39m\u001b[39m'\u001b[39m\n\u001b[1;32m----> 2\u001b[0m \u001b[39massert\u001b[39;00m eggs\u001b[39m.\u001b[39mlower() \u001b[39m!=\u001b[39m bacon\u001b[39m.\u001b[39mlower(), \u001b[39m\"\u001b[39m\u001b[39meggs and bacon should not be the same (case-insensitive)\u001b[39m\u001b[39m\"\u001b[39m\n",
      "\u001b[1;31mAssertionError\u001b[0m: eggs and bacon should not be the same (case-insensitive)"
     ]
    }
   ],
   "source": [
    "eggs, bacon = 'goodbye', 'GOODbye'\n",
    "assert eggs.lower() != bacon.lower(), \"eggs and bacon should not be the same (case-insensitive)\"\n"
   ]
  },
  {
   "attachments": {},
   "cell_type": "markdown",
   "metadata": {},
   "source": [
    "3. Create an assert statement that throws an AssertionError every time.\n"
   ]
  },
  {
   "cell_type": "code",
   "execution_count": 8,
   "metadata": {},
   "outputs": [
    {
     "ename": "AssertionError",
     "evalue": "This assertion always fails.",
     "output_type": "error",
     "traceback": [
      "\u001b[1;31m---------------------------------------------------------------------------\u001b[0m",
      "\u001b[1;31mAssertionError\u001b[0m                            Traceback (most recent call last)",
      "Cell \u001b[1;32mIn[8], line 1\u001b[0m\n\u001b[1;32m----> 1\u001b[0m \u001b[39massert\u001b[39;00m \u001b[39mFalse\u001b[39;00m, \u001b[39m'\u001b[39m\u001b[39mThis assertion always fails.\u001b[39m\u001b[39m'\u001b[39m\n",
      "\u001b[1;31mAssertionError\u001b[0m: This assertion always fails."
     ]
    }
   ],
   "source": [
    "assert False, 'This assertion always fails.'\n"
   ]
  },
  {
   "attachments": {},
   "cell_type": "markdown",
   "metadata": {},
   "source": [
    "4. What are the two lines that must be present in your software in order to call logging.debug()?"
   ]
  },
  {
   "cell_type": "code",
   "execution_count": 9,
   "metadata": {},
   "outputs": [],
   "source": [
    "import logging\n",
    "logging.basicConfig(level=logging.DEBUG, format=' %(asctime)s - %(levelname)s - %(message)s')\n"
   ]
  },
  {
   "attachments": {},
   "cell_type": "markdown",
   "metadata": {},
   "source": [
    "5. What are the two lines that your program must have in order to have logging.debug() send a logging message to a file named programLog.txt?\n"
   ]
  },
  {
   "cell_type": "code",
   "execution_count": 10,
   "metadata": {},
   "outputs": [],
   "source": [
    "import logging\n",
    "\n",
    "logging.basicConfig(filename='programLog.txt', level=logging.DEBUG, format='%(asctime)s - %(levelname)s - %(message)s')\n"
   ]
  },
  {
   "attachments": {},
   "cell_type": "markdown",
   "metadata": {},
   "source": [
    "6. What are the five levels of logging?\n",
    "\n",
    "    - DEBUG: Detailed information, typically of interest only when diagnosing problems.\n",
    "\n",
    "    - INFO: General information about what's happening in the program.\n",
    "\n",
    "    - WARNING: An indication that something unexpected happened or indicative of some problem in the near future (e.g., 'disk space low').\n",
    "\n",
    "    - ERROR: Due to a more serious problem, the software has not been able to perform some function.\n",
    "\n",
    "    - CRITICAL: A very serious error, indicating that the program itself may be unable to continue running."
   ]
  },
  {
   "attachments": {},
   "cell_type": "markdown",
   "metadata": {},
   "source": [
    "7. What line of code would you add to your software to disable all logging messages?\n",
    "\n",
    "    logging.disable(logging.CRITICAL)\n"
   ]
  },
  {
   "attachments": {},
   "cell_type": "markdown",
   "metadata": {},
   "source": [
    "8. Why is using logging messages better than using print() to display the same message?\n",
    "\n",
    "    - Logging messages can be easily turned on or off, or set to different levels of severity, without modifying the code. This makes it easier to debug and maintain the code.\n",
    "\n",
    "    - Logging messages can be directed to different outputs, such as console, file, or network stream, by configuring the logger. This allows for more flexible logging options.\n",
    "\n",
    "    - Logging messages can include additional information, such as the time, module, and line number where the message was generated, which can be very helpful in debugging.\n",
    "\n",
    "    - Logging messages can be customized with different formatting options, making it easier to read and understand the message.\n",
    "\n",
    "    - Finally, logging messages can be used to generate alerts or notifications in case of errors or exceptions, which can be very useful in production environments."
   ]
  },
  {
   "attachments": {},
   "cell_type": "markdown",
   "metadata": {},
   "source": [
    "9. What are the differences between the Step Over, Step In, and Step Out buttons in the debugger?\n",
    "\n",
    "        - Step Over: This button allows the debugger to execute the current line of code and then stop at the next line of code. If the current line of code calls a function, the function will be executed without stopping.\n",
    "\n",
    "        - Step In: This button allows the debugger to move to the next line of code and stop, just like the Step Over button. However, if the current line of code calls a function, the debugger will move into the function and stop at the first line of code in the function.\n",
    "\n",
    "        - Step Out: This button allows the debugger to continue execution of the current function until it returns, and then stop at the line of code immediately following the function call. This button is useful when you have stepped into a function with the Step In button and want to return to the calling function."
   ]
  },
  {
   "attachments": {},
   "cell_type": "markdown",
   "metadata": {},
   "source": [
    "10. After you click Continue, when will the debugger stop ?\n",
    "    - the debugger will not stop until it reaches a breakpoint or encounters an error."
   ]
  },
  {
   "attachments": {},
   "cell_type": "markdown",
   "metadata": {},
   "source": [
    "11. What is the concept of a breakpoint?\n",
    "\n",
    "    A breakpoint is a point in the code where the program will pause and wait for the debugger to take over. When a breakpoint is encountered, the debugger will stop the execution of the program and allow the developer to inspect the program state, variables, and perform other debugging tasks"
   ]
  },
  {
   "cell_type": "code",
   "execution_count": null,
   "metadata": {},
   "outputs": [],
   "source": []
  }
 ],
 "metadata": {
  "kernelspec": {
   "display_name": "base",
   "language": "python",
   "name": "python3"
  },
  "language_info": {
   "codemirror_mode": {
    "name": "ipython",
    "version": 3
   },
   "file_extension": ".py",
   "mimetype": "text/x-python",
   "name": "python",
   "nbconvert_exporter": "python",
   "pygments_lexer": "ipython3",
   "version": "3.9.13"
  },
  "orig_nbformat": 4
 },
 "nbformat": 4,
 "nbformat_minor": 2
}
