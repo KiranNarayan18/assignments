{
 "cells": [
  {
   "attachments": {},
   "cell_type": "markdown",
   "metadata": {},
   "source": [
    "1. What advantages do Excel spreadsheets have over CSV spreadsheets?\n",
    "\n",
    "    - Formatting: Excel allows for the use of formatting such as font styles, colors, and borders, while CSV files only contain plain text data.\n",
    "\n",
    "    - Formulas: Excel supports the use of formulas and functions to perform calculations and manipulate data, while CSV files require external tools to perform these operations.\n",
    "\n",
    "    - Multiple sheets: Excel allows for the use of multiple sheets within a single workbook, making it easier to organize and analyze large amounts of data.\n",
    "\n",
    "    - Data validation: Excel allows for the use of data validation rules to ensure data is entered correctly, while CSV files have no built-in data validation features.\n",
    "\n",
    "    - Charts and graphs: Excel allows for the creation of charts and graphs to visually represent data, while CSV files require external tools to create these visualizations."
   ]
  },
  {
   "attachments": {},
   "cell_type": "markdown",
   "metadata": {},
   "source": [
    "2. What do you pass to csv.reader() and csv.writer() to create reader and writer objects?\n"
   ]
  },
  {
   "cell_type": "code",
   "execution_count": null,
   "metadata": {},
   "outputs": [],
   "source": [
    "import csv\n",
    "\n",
    "with open('example.csv') as csv_file:\n",
    "    csv_reader = csv.reader(csv_file)\n",
    "    \n",
    "with open('output.csv', 'w', newline='') as csv_file:\n",
    "    csv_writer = csv.writer(csv_file)\n"
   ]
  },
  {
   "attachments": {},
   "cell_type": "markdown",
   "metadata": {},
   "source": [
    "3. What modes do File objects for reader and writer objects need to be opened in?"
   ]
  },
  {
   "cell_type": "code",
   "execution_count": null,
   "metadata": {},
   "outputs": [],
   "source": [
    "import csv\n",
    "\n",
    "with open('example.csv', 'r') as file:\n",
    "    reader = csv.reader(file)\n",
    "\n",
    "with open('example.csv', 'w', newline='') as file:\n",
    "    writer = csv.writer(file)\n"
   ]
  },
  {
   "attachments": {},
   "cell_type": "markdown",
   "metadata": {},
   "source": [
    "4. What method takes a list argument and writes it to a CSV file?\n",
    "\n",
    "    - writerow() method takes a list argument and writes it to a CSV file."
   ]
  },
  {
   "attachments": {},
   "cell_type": "markdown",
   "metadata": {},
   "source": [
    "5. What do the keyword arguments delimiter and line terminator do?\n",
    "\n",
    "    - The delimiter keyword argument is used to specify the character used to separate fields in a CSV file. By default, it is a comma ,.\n",
    "\n",
    "    - The lineterminator keyword argument is used to specify the character used to terminate a line in a CSV file. By default, it is '\\r\\n'.\n"
   ]
  },
  {
   "attachments": {},
   "cell_type": "markdown",
   "metadata": {},
   "source": [
    "6. What function takes a string of JSON data and returns a Python data structure?\n",
    "\n",
    "     - json.loads() function takes a string of JSON data and returns a Python data structure."
   ]
  },
  {
   "attachments": {},
   "cell_type": "markdown",
   "metadata": {},
   "source": [
    "7. What function takes a Python data structure and returns a string of JSON data?\n",
    "\n",
    "    - json.dumps() function takes a Python data structure and returns a string of JSON data."
   ]
  },
  {
   "cell_type": "code",
   "execution_count": null,
   "metadata": {},
   "outputs": [],
   "source": []
  }
 ],
 "metadata": {
  "language_info": {
   "name": "python"
  },
  "orig_nbformat": 4
 },
 "nbformat": 4,
 "nbformat_minor": 2
}
