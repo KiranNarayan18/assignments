{
 "cells": [
  {
   "attachments": {},
   "cell_type": "markdown",
   "metadata": {},
   "source": [
    "1. To what does a relative path refer?\n",
    "\n",
    "    A relative path specifies the location of a file or directory relative to the location of the program that is accessing it, rather than specifying the exact location of the file or directory on the file system"
   ]
  },
  {
   "attachments": {},
   "cell_type": "markdown",
   "metadata": {},
   "source": [
    "2. What does an absolute path start with your operating system?\n",
    "\n",
    "    An absolute path starts with the root directory of the operating system."
   ]
  },
  {
   "attachments": {},
   "cell_type": "markdown",
   "metadata": {},
   "source": [
    "3. What do the functions os.getcwd() and os.chdir() do?\n",
    "\n",
    "    - os.getcwd() returns the current working directory as a string. \n",
    "    - os.chdir(path) changes the current working directory to the given path"
   ]
  },
  {
   "attachments": {},
   "cell_type": "markdown",
   "metadata": {},
   "source": [
    "4. What are the . and .. folders?\n",
    "\n",
    "    - . refers to the current directory, i.e., the directory you are currently in.\n",
    "\n",
    "    - .. refers to the parent directory, i.e., the directory that contains the current directory."
   ]
  },
  {
   "attachments": {},
   "cell_type": "markdown",
   "metadata": {},
   "source": [
    "5. In C:\\bacon\\eggs\\spam.txt, which part is the dir name, and which part is the base name?\n",
    "\n",
    "    - the directory name is C:\\bacon\\eggs and the base name is spam.txt."
   ]
  },
  {
   "attachments": {},
   "cell_type": "markdown",
   "metadata": {},
   "source": [
    "6. What are the three “mode” arguments that can be passed to the open() function?\n",
    "\n",
    "    - \"r\": read mode - used when the file will only be read\n",
    "    - \"w\": write mode - used when the file will only be written to; overwrites the file if it already exists or creates a new file if it doesn't exist\n",
    "    - \"a\": append mode - used when the file will be written to and the new data should be added to the end of the file rather than overwriting it"
   ]
  },
  {
   "attachments": {},
   "cell_type": "markdown",
   "metadata": {},
   "source": [
    "7. What happens if an existing file is opened in write mode?\n",
    "\n",
    "     the contents of the file are truncated, i.e., all the existing contents are deleted and the file is set to an empty file. If the file does not exist, a new file is created. "
   ]
  },
  {
   "attachments": {},
   "cell_type": "markdown",
   "metadata": {},
   "source": [
    "8. How do you tell the difference between read() and readlines()?\n",
    "    - read() reads the entire file and returns its contents as a single string object. \n",
    "    - readlines() reads the entire file and returns its contents as a list of strings, where each line is an element in the list."
   ]
  },
  {
   "attachments": {},
   "cell_type": "markdown",
   "metadata": {},
   "source": [
    "9. What data structure does a shelf value resemble?\n",
    "\n",
    "    A shelf value in Python resembles a dictionary data structure. It is a persistent, dictionary-like object that stores key-value pairs as bytes on a file. "
   ]
  },
  {
   "cell_type": "code",
   "execution_count": null,
   "metadata": {},
   "outputs": [],
   "source": []
  }
 ],
 "metadata": {
  "language_info": {
   "name": "python"
  },
  "orig_nbformat": 4
 },
 "nbformat": 4,
 "nbformat_minor": 2
}
