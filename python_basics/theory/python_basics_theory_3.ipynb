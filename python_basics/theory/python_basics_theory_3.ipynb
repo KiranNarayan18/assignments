{
 "cells": [
  {
   "attachments": {},
   "cell_type": "markdown",
   "metadata": {},
   "source": [
    "1. Why are functions advantageous to have in your programs?\n"
   ]
  },
  {
   "attachments": {},
   "cell_type": "markdown",
   "metadata": {},
   "source": [
    "Modularity and Reusability: Functions allow you to break down a large program into smaller, more manageable pieces, making the code easier to read and maintain. Functions can be reused in different parts of a program or even in different programs altogether, saving time and effort in coding.\n",
    "\n",
    "Abstraction and Encapsulation: Functions can hide the complexity of the code by providing a simple interface to other parts of the program. This abstraction and encapsulation make it easier to modify or update the code without affecting the rest of the program.\n",
    "\n",
    "Code organization: Functions can be used to group related code together, making it easier to organize and understand the program's structure.\n",
    "\n",
    "Debugging and Testing: Functions can be tested and debugged independently, allowing for easier identification and isolation of errors."
   ]
  },
  {
   "attachments": {},
   "cell_type": "markdown",
   "metadata": {},
   "source": [
    "2. When does the code in a function run: when it's specified or when it's called?\n",
    "\n",
    "    code in a function runs when the function is called"
   ]
  },
  {
   "attachments": {},
   "cell_type": "markdown",
   "metadata": {},
   "source": [
    "3. What statement creates a function?\n",
    "    ```\n",
    "    def function_name():\n",
    "        pass\n",
    "    ```\n",
    "    def creates function\n",
    "    \n"
   ]
  },
  {
   "attachments": {},
   "cell_type": "markdown",
   "metadata": {},
   "source": [
    "4. What is the difference between a function and a function call?\n",
    "    \n",
    "    a function is the definition or declaration of a specific set of instructions, while a function call is the act of using or executing that function in the program."
   ]
  },
  {
   "attachments": {},
   "cell_type": "markdown",
   "metadata": {},
   "source": [
    "5. How many global scopes are there in a Python program? How many local scopes?\n",
    "\n",
    "    there is typically only one global scope. The global scope is the top-level scope of the program and is accessible from anywhere within the program.\n",
    "\n",
    "    the number of local scopes in a Python program can vary depending on the number of function calls and code blocks present in the program"
   ]
  },
  {
   "attachments": {},
   "cell_type": "markdown",
   "metadata": {},
   "source": [
    "6. What happens to variables in a local scope when the function call returns?\n",
    "\n",
    "    any values computed or modified within the local scope can be returned or stored in variables outside the local scope before the function call returns if needed"
   ]
  },
  {
   "attachments": {},
   "cell_type": "markdown",
   "metadata": {},
   "source": [
    "7. What is the concept of a return value? Is it possible to have a return value in an expression?\n",
    "\n",
    "    When a function completes its execution or encounters a \"return\" statement, it can specify a value to be returned. This value can be of any data type or even a complex data structure.\n",
    "\n",
    "    ```\n",
    "    def add(a, b):\n",
    "        return a + b\n",
    "\n",
    "    total = add(2, add(4, 5)) \n",
    "    print(total) \n",
    "\n",
    "    ```\n"
   ]
  },
  {
   "attachments": {},
   "cell_type": "markdown",
   "metadata": {},
   "source": [
    "8. If a function does not have a return statement, what is the return value of a call to that function?\n",
    "\n",
    "    None"
   ]
  },
  {
   "attachments": {},
   "cell_type": "markdown",
   "metadata": {},
   "source": [
    "9. How do you make a function variable refer to the global variable?\n",
    "\n",
    "    global  keyword"
   ]
  },
  {
   "attachments": {},
   "cell_type": "markdown",
   "metadata": {},
   "source": [
    "10. What is the data type of None?\n",
    "\n",
    "    NoneType\n"
   ]
  },
  {
   "attachments": {},
   "cell_type": "markdown",
   "metadata": {},
   "source": [
    "11. What does the sentence import areallyourpetsnamederic do?\n",
    "\n",
    "    it imports areallyourpetsnamederic module\n"
   ]
  },
  {
   "attachments": {},
   "cell_type": "markdown",
   "metadata": {},
   "source": [
    "12. If you had a bacon() feature in a spam module, what would you call it after importing spam?\n",
    "        \n",
    "    spam.bacon()"
   ]
  },
  {
   "attachments": {},
   "cell_type": "markdown",
   "metadata": {},
   "source": [
    "13. What can you do to save a programme from crashing if it encounters an error?\n",
    "\n",
    "    write try exception block\n"
   ]
  },
  {
   "attachments": {},
   "cell_type": "markdown",
   "metadata": {},
   "source": [
    "14. What is the purpose of the try clause? What is the purpose of the except clause?\n",
    "\n",
    "     The code within the try block is executed, and if any exception occurs during its execution, the program flow is transferred to the appropriate except block.\n"
   ]
  },
  {
   "cell_type": "code",
   "execution_count": null,
   "metadata": {},
   "outputs": [],
   "source": []
  }
 ],
 "metadata": {
  "language_info": {
   "name": "python"
  },
  "orig_nbformat": 4
 },
 "nbformat": 4,
 "nbformat_minor": 2
}
