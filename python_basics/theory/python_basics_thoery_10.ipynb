{
 "cells": [
  {
   "attachments": {},
   "cell_type": "markdown",
   "metadata": {},
   "source": [
    "1. How do you distinguish between shutil.copy() and shutil.copytree()?\n",
    "\n",
    "    - shutil.copy(src, dst) copies the file at path src to the file or directory at path dst\n",
    "    - shutil.copytree(src, dst) copies the entire directory tree at path src to a new directory at path dst.\n"
   ]
  },
  {
   "attachments": {},
   "cell_type": "markdown",
   "metadata": {},
   "source": [
    "2. What function is used to rename files??\n",
    "\n",
    "    os.rename('old_file_name.txt', 'new_file_name.txt')"
   ]
  },
  {
   "attachments": {},
   "cell_type": "markdown",
   "metadata": {},
   "source": [
    "3. What is the difference between the delete functions in the send2trash and shutil modules?\n",
    "     - the send2trash module is used when you want to delete files or directories safely and give the user an opportunity to recover them\n",
    "     \n",
    "     - while the shutil module is used when you want to delete files and directories permanently without the possibility of recovery."
   ]
  },
  {
   "attachments": {},
   "cell_type": "markdown",
   "metadata": {},
   "source": [
    "4. ZipFile objects have a close() method just like File objects’ close() method. What ZipFile method is equivalent to File objects’ open() method?\n",
    "\n",
    "    - my_zipfile = ZipFile('my_zipfile.zip', 'w') would create a new ZipFile object named my_zipfile that is opened for writing to a zip file named my_zipfile.zip."
   ]
  },
  {
   "attachments": {},
   "cell_type": "markdown",
   "metadata": {},
   "source": [
    "5. Create a programme that searches a folder tree for files with a certain file extension (such as .pdf or .jpg). Copy these files from whatever location they are in to a new folder."
   ]
  },
  {
   "attachments": {},
   "cell_type": "markdown",
   "metadata": {},
   "source": [
    "```\n",
    "import os\n",
    "import shutil\n",
    "\n",
    "search_folder = 'C:/Users/User/Documents'\n",
    "\n",
    "file_extension = '.pdf'\n",
    "\n",
    "copy_folder = 'C:/Users/User/Desktop/copied_files'\n",
    "\n",
    "if not os.path.exists(copy_folder):\n",
    "    os.makedirs(copy_folder)\n",
    "\n",
    "for foldername, subfolders, filenames in os.walk(search_folder):\n",
    "    for filename in filenames:\n",
    "        if filename.endswith(file_extension):\n",
    "            source_file = os.path.join(foldername, filename)\n",
    "            shutil.copy(source_file, copy_folder)\n",
    "            print(f'Copied {source_file} to {copy_folder}')\n",
    "```"
   ]
  }
 ],
 "metadata": {
  "language_info": {
   "name": "python"
  },
  "orig_nbformat": 4
 },
 "nbformat": 4,
 "nbformat_minor": 2
}
