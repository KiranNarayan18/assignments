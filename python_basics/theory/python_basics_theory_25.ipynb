{
 "cells": [
  {
   "attachments": {},
   "cell_type": "markdown",
   "metadata": {},
   "source": [
    "1. What is the difference between enclosing a list comprehension in square brackets and parentheses?\n",
    "\n",
    "    When a list comprehension is enclosed in square brackets, it returns a list object. On the other hand, when a list comprehension is enclosed in parentheses, it returns a generator object."
   ]
  },
  {
   "attachments": {},
   "cell_type": "markdown",
   "metadata": {},
   "source": [
    "2. What is the relationship between generators and iterators?\n",
    "    \n",
    "    Generators are a type of iterator in Python. An iterator is an object that allows you to iterate over a sequence of values. A generator is a special type of iterator that generates its values on the fly, rather than storing them all in memory at once.\n"
   ]
  },
  {
   "attachments": {},
   "cell_type": "markdown",
   "metadata": {},
   "source": [
    "3. What are the signs that a function is a generator function?\n",
    "    \n",
    "    The yield keyword is used in the function body.\n"
   ]
  },
  {
   "attachments": {},
   "cell_type": "markdown",
   "metadata": {},
   "source": [
    "4. What is the purpose of a yield statement?\n",
    "\n",
    "    The purpose of the yield statement is to allow a generator function to return a series of values to the caller, one at a time, without requiring the entire sequence to be computed and stored in memory at once."
   ]
  },
  {
   "attachments": {},
   "cell_type": "markdown",
   "metadata": {},
   "source": [
    "5. What is the relationship between map calls and list comprehensions? Make a comparison and contrast between the two.\n",
    "\n",
    "    - Map calls apply a function to each element of an iterable and return an iterator that yields the results one at a time. In contrast, list comprehensions construct a new list by evaluating an expression for each item in an iterable.\n",
    "\n",
    "    - List comprehensions can be more readable and expressive than map calls in some cases, especially when the expression being evaluated is complex or involves multiple variables or conditions."
   ]
  },
  {
   "attachments": {},
   "cell_type": "markdown",
   "metadata": {},
   "source": []
  },
  {
   "attachments": {},
   "cell_type": "markdown",
   "metadata": {},
   "source": []
  },
  {
   "attachments": {},
   "cell_type": "markdown",
   "metadata": {},
   "source": []
  },
  {
   "attachments": {},
   "cell_type": "markdown",
   "metadata": {},
   "source": []
  },
  {
   "cell_type": "code",
   "execution_count": null,
   "metadata": {},
   "outputs": [],
   "source": []
  }
 ],
 "metadata": {
  "language_info": {
   "name": "python"
  },
  "orig_nbformat": 4
 },
 "nbformat": 4,
 "nbformat_minor": 2
}
