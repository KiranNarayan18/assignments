{
 "cells": [
  {
   "attachments": {},
   "cell_type": "markdown",
   "metadata": {},
   "source": [
    "1. What is the name of the feature responsible for generating Regex objects?"
   ]
  },
  {
   "cell_type": "code",
   "execution_count": 4,
   "metadata": {},
   "outputs": [
    {
     "name": "stdout",
     "output_type": "stream",
     "text": [
      "hello\n"
     ]
    }
   ],
   "source": [
    "import re\n",
    "\n",
    "pattern = r'hello'\n",
    "\n",
    "regex = re.compile(pattern)\n",
    "\n",
    "match = regex.search('hello world')\n",
    "\n",
    "if match:\n",
    "    print(match.group())\n"
   ]
  },
  {
   "attachments": {},
   "cell_type": "markdown",
   "metadata": {},
   "source": [
    "2. Why do raw strings often appear in Regex objects?\n"
   ]
  },
  {
   "cell_type": "code",
   "execution_count": 5,
   "metadata": {},
   "outputs": [
    {
     "name": "stdout",
     "output_type": "stream",
     "text": [
      "42\n"
     ]
    }
   ],
   "source": [
    "import re\n",
    "\n",
    "pattern = r'\\d+'\n",
    "\n",
    "regex = re.compile(pattern)\n",
    "\n",
    "match = regex.search('The answer is 42.')\n",
    "\n",
    "if match:\n",
    "    print(match.group())\n"
   ]
  },
  {
   "attachments": {},
   "cell_type": "markdown",
   "metadata": {},
   "source": [
    "3. What is the return value of the search() method?\n",
    "\n",
    "    The search() method of a regular expression object in Python returns a match object if it finds a match for the pattern within the given string. If no match is found, it returns None.\n"
   ]
  },
  {
   "attachments": {},
   "cell_type": "markdown",
   "metadata": {},
   "source": [
    "4. From a Match item, how do you get the actual strings that match the pattern?"
   ]
  },
  {
   "cell_type": "code",
   "execution_count": 7,
   "metadata": {},
   "outputs": [
    {
     "name": "stdout",
     "output_type": "stream",
     "text": [
      "123-45-6789\n",
      "123\n",
      "45\n",
      "6789\n"
     ]
    }
   ],
   "source": [
    "import re\n",
    "\n",
    "# Define a regular expression pattern with a group\n",
    "pattern = r'(\\d{3})-(\\d{2})-(\\d{4})'\n",
    "\n",
    "# Compile the pattern into a regular expression object\n",
    "regex = re.compile(pattern)\n",
    "\n",
    "# Use the regular expression object to search for a match in a string\n",
    "match = regex.search('My social security number is 123-45-6789')\n",
    "\n",
    "# Get the entire match\n",
    "print(match.group(0))   # '123-45-6789'\n",
    "\n",
    "# Get the text that matched the first group\n",
    "print(match.group(1))   # '123'\n",
    "\n",
    "# Get the text that matched the second group\n",
    "print(match.group(2))   # '45'\n",
    "\n",
    "# Get the text that matched the third group\n",
    "print(match.group(3))   # '6789'\n"
   ]
  },
  {
   "attachments": {},
   "cell_type": "markdown",
   "metadata": {},
   "source": [
    "5. In the regex which created from the r'(\\d\\d\\d)-(\\d\\d\\d-\\d\\d\\d\\d)', what does group zero cover? Group 2? Group 1?\n",
    "\n",
    "\n",
    "    group zero covers the entire match, including the hyphen between the two groups.\n",
    "\n",
    "    Group 1 covers the first three digits before the hyphen, \n",
    "\n",
    "    group 2 covers the last seven digits separated by the hyphen."
   ]
  },
  {
   "attachments": {},
   "cell_type": "markdown",
   "metadata": {},
   "source": [
    "6. In standard expression syntax, parentheses and intervals have distinct meanings. How can you tell a regex that you want it to fit real parentheses and periods?\n",
    "\n",
    "    regex to match real parentheses and periods as literals, you can use the backslash character \\ to escape them."
   ]
  },
  {
   "attachments": {},
   "cell_type": "markdown",
   "metadata": {},
   "source": [
    "7. The findall() method returns a string list or a list of string tuples. What causes it to return one of the two options?\n"
   ]
  },
  {
   "cell_type": "code",
   "execution_count": 8,
   "metadata": {},
   "outputs": [
    {
     "name": "stdout",
     "output_type": "stream",
     "text": [
      "['over', 'lazy']\n",
      "['over', 'lazy']\n"
     ]
    }
   ],
   "source": [
    "import re\n",
    "\n",
    "text = 'The quick brown fox jumps over the lazy dog.'\n",
    "pattern = r'\\b\\w{4}\\b'\n",
    "\n",
    "matches = re.findall(pattern, text)\n",
    "print(matches) \n",
    "\n",
    "pattern_with_groups = r'(\\b\\w{4}\\b)'\n",
    "matches_with_groups = re.findall(pattern_with_groups, text)\n",
    "print(matches_with_groups) \n"
   ]
  },
  {
   "attachments": {},
   "cell_type": "markdown",
   "metadata": {},
   "source": [
    "8. In standard expressions, what does the | character mean?\n"
   ]
  },
  {
   "cell_type": "code",
   "execution_count": 9,
   "metadata": {},
   "outputs": [
    {
     "name": "stdout",
     "output_type": "stream",
     "text": [
      "['John', 'Jane']\n"
     ]
    }
   ],
   "source": [
    "import re\n",
    "\n",
    "text = \"John went to the store. Jane stayed home.\"\n",
    "pattern = r\"John|Jane\"\n",
    "\n",
    "matches = re.findall(pattern, text)\n",
    "print(matches)   # output: ['John', 'Jane']\n"
   ]
  },
  {
   "attachments": {},
   "cell_type": "markdown",
   "metadata": {},
   "source": [
    "9. In regular expressions, what does the character | stand for?\n",
    "\n",
    "    represents alternation, which means \"or\". It allows you to match either one regular expression or another."
   ]
  },
  {
   "attachments": {},
   "cell_type": "markdown",
   "metadata": {},
   "source": [
    "10. In regular expressions, what is the difference between the + and * characters?"
   ]
  },
  {
   "cell_type": "code",
   "execution_count": 12,
   "metadata": {},
   "outputs": [
    {
     "name": "stdout",
     "output_type": "stream",
     "text": [
      "['abbc']\n",
      "['abbc']\n"
     ]
    }
   ],
   "source": [
    "import re\n",
    "\n",
    "text = \"abbcccdddd\"\n",
    "pattern1 = r\"ab*c\"\n",
    "pattern2 = r\"ab+c\"\n",
    "\n",
    "matches1 = re.findall(pattern1, text)\n",
    "matches2 = re.findall(pattern2, text)\n",
    "\n",
    "print(matches1)   # output: ['abb', 'abc', 'abbc', 'abbbc']\n",
    "print(matches2)   # output: ['abc', 'abbc', 'abbbc']\n"
   ]
  },
  {
   "attachments": {},
   "cell_type": "markdown",
   "metadata": {},
   "source": [
    "11. What is the difference between {4} and {4,5} in regular expression?\n",
    "\n",
    "    {4} specifies that the preceding character or group should appear exactly 4 times in the string.\n",
    "\n",
    "    {4,5} specifies that the preceding character or group should appear at least 4 times and at most 5 times in the string."
   ]
  },
  {
   "attachments": {},
   "cell_type": "markdown",
   "metadata": {},
   "source": [
    "12. What do you mean by the \\d, \\w, and \\s shorthand character classes signify in regular expressions?\n",
    "\n",
    "    \\d: Matches any digit character (0-9).    \n",
    "    \\w: Matches any word character, which includes alphanumeric characters (a-z, A-Z, 0-9) and underscores (_).\n",
    "    \\s: Matches any whitespace character, including spaces, tabs, and newlines."
   ]
  },
  {
   "attachments": {},
   "cell_type": "markdown",
   "metadata": {},
   "source": [
    "13. What do means by \\D, \\W, and \\S shorthand character classes signify in regular expressions?\n",
    "\n",
    "    - \\D matches any non-digit character.    \n",
    "    - \\W matches any non-word character.\n",
    "    - \\S matches any non-whitespace character."
   ]
  },
  {
   "attachments": {},
   "cell_type": "markdown",
   "metadata": {},
   "source": [
    "14. What is the difference between .*? and .*\n",
    "\n",
    "    .* matches any character (except newline character) zero or more times. It is a greedy match, meaning it will try to match as much as possible.\n",
    "\n",
    "    On the other hand, .*? also matches any character (except newline character) zero or more times, but it is a non-greedy match, meaning it will try to match as little as possible."
   ]
  },
  {
   "attachments": {},
   "cell_type": "markdown",
   "metadata": {},
   "source": [
    "15. What is the syntax for matching both numbers and lowercase letters with a character class?\n",
    "\n",
    "    [0-9a-z]"
   ]
  },
  {
   "attachments": {},
   "cell_type": "markdown",
   "metadata": {},
   "source": [
    "16. What is the procedure for making a normal expression in regex case insensitive?\n"
   ]
  },
  {
   "cell_type": "code",
   "execution_count": 13,
   "metadata": {},
   "outputs": [
    {
     "name": "stdout",
     "output_type": "stream",
     "text": [
      "Hello\n"
     ]
    }
   ],
   "source": [
    "import re\n",
    "\n",
    "string = 'Hello World'\n",
    "pattern = re.compile('hello', re.IGNORECASE)\n",
    "\n",
    "result = pattern.search(string)\n",
    "print(result.group())  # Output: Hello\n"
   ]
  },
  {
   "attachments": {},
   "cell_type": "markdown",
   "metadata": {},
   "source": [
    "17. What does the . character normally match? What does it match if re.DOTALL is passed as 2nd argument in re.compile()?\n",
    "\n",
    "    The . character normally matches any character except for a newline character. However, if re.DOTALL is passed as the second argument to re.compile(), the . character will match any character including a newline character. This flag allows the . to match any character in the input string, even if it spans multiple lines.\n"
   ]
  },
  {
   "attachments": {},
   "cell_type": "markdown",
   "metadata": {},
   "source": [
    "18. If numReg = re.compile(r'\\d+'), what will numRegex.sub('X', '11 drummers, 10 pipers, five rings, 4 hen') return?\n",
    "\n",
    "    If `numReg = re.compile(r'\\d+')`, calling `numRegex.sub('X', '11 drummers, 10 pipers, five rings, 4 hen')` will replace all occurrences of one or more digits in the given string with the letter 'X'. The returned string will be: \n",
    "\n",
    "    `'X drummers, X pipers, five rings, X hen'`"
   ]
  },
  {
   "attachments": {},
   "cell_type": "markdown",
   "metadata": {},
   "source": [
    "19. What does passing re.VERBOSE as the 2nd argument to re.compile() allow to do?\n",
    "    \n",
    "    re.VERBOSE  will allow to add whitespace and comments to string passed to re.compile()"
   ]
  },
  {
   "attachments": {},
   "cell_type": "markdown",
   "metadata": {},
   "source": [
    "20. How would you write a regex that match a number with comma for every three digits? It must match the given following:\n",
    "'42'\n",
    "'1,234'\n",
    "'6,368,745'\n",
    "but not the following:\n",
    "'12,34,567' (which has only two digits between the commas)\n",
    "'1234' (which lacks commas)\n"
   ]
  },
  {
   "cell_type": "code",
   "execution_count": 14,
   "metadata": {},
   "outputs": [
    {
     "name": "stdout",
     "output_type": "stream",
     "text": [
      "Output: 42 -> <re.Match object; span=(0, 2), match='42'>\n",
      "Output: 1,234 -> <re.Match object; span=(0, 5), match='1,234'>\n",
      "Output: 6,368,745 -> <re.Match object; span=(0, 9), match='6,368,745'>\n",
      "Output: 12,34,567 -> None\n",
      "Output: 1234 -> None\n"
     ]
    }
   ],
   "source": [
    "import re\n",
    "pattern = r'^\\d{1,3}(,\\d{3})*$'\n",
    "pagex = re.compile(pattern)\n",
    "for ele in ['42','1,234', '6,368,745','12,34,567','1234']:\n",
    "    print('Output:',ele, '->', pagex.search(ele))"
   ]
  },
  {
   "attachments": {},
   "cell_type": "markdown",
   "metadata": {},
   "source": [
    "21. How would you write a regex that matches the full name of someone whose last name is Watanabe? You can assume that the first name that comes before it will always be one word that begins with a capital letter. The regex must match the following:\n",
    "'Haruto Watanabe'\n",
    "'Alice Watanabe'\n",
    "'RoboCop Watanabe'\n",
    "but not the following:\n",
    "'haruto Watanabe' (where the first name is not capitalized)\n",
    "'Mr. Watanabe' (where the preceding word has a nonletter character)\n",
    "'Watanabe' (which has no first name)\n",
    "'Haruto watanabe' (where Watanabe is not capitalized)\n"
   ]
  },
  {
   "cell_type": "code",
   "execution_count": 16,
   "metadata": {},
   "outputs": [
    {
     "data": {
      "text/plain": [
       "'[A-Z][a-zA-Z]*\\\\sWatanabe'"
      ]
     },
     "execution_count": 16,
     "metadata": {},
     "output_type": "execute_result"
    }
   ],
   "source": [
    "r'[A-Z][a-zA-Z]*\\sWatanabe'"
   ]
  },
  {
   "attachments": {},
   "cell_type": "markdown",
   "metadata": {},
   "source": [
    "22. How would you write a regex that matches a sentence where the first word is either Alice, Bob, or Carol; the second word is either eats, pets, or throws; the third word is apples, cats, or baseballs; and the sentence ends with a period? This regex should be case-insensitive. It must match the following:\n",
    "'Alice eats apples.'\n",
    "'Bob pets cats.'\n",
    "'Carol throws baseballs.'\n",
    "'Alice throws Apples.'\n",
    "'BOB EATS CATS.'\n",
    "but not the following:\n",
    "'RoboCop eats apples.'\n",
    "'ALICE THROWS FOOTBALLS.'\n",
    "'Carol eats 7 cats.'\n"
   ]
  },
  {
   "cell_type": "code",
   "execution_count": 17,
   "metadata": {},
   "outputs": [],
   "source": [
    "import re\n",
    "\n",
    "regex = re.compile(r'^(Alice|Bob|Carol)\\s+(eats|pets|throws)\\s+(apples|cats|baseballs)\\.$', re.IGNORECASE)\n"
   ]
  }
 ],
 "metadata": {
  "kernelspec": {
   "display_name": "base",
   "language": "python",
   "name": "python3"
  },
  "language_info": {
   "codemirror_mode": {
    "name": "ipython",
    "version": 3
   },
   "file_extension": ".py",
   "mimetype": "text/x-python",
   "name": "python",
   "nbconvert_exporter": "python",
   "pygments_lexer": "ipython3",
   "version": "3.9.13"
  },
  "orig_nbformat": 4
 },
 "nbformat": 4,
 "nbformat_minor": 2
}
