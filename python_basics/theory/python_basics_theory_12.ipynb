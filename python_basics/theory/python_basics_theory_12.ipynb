{
 "cells": [
  {
   "attachments": {},
   "cell_type": "markdown",
   "metadata": {},
   "source": [
    "1. In what modes should the PdfFileReader() and PdfFileWriter() File objects will be opened?\n",
    "\n",
    "```\n",
    "import PyPDF2\n",
    "\n",
    "pdf_file = open('example.pdf', 'rb')\n",
    "pdf_reader = PyPDF2.PdfFileReader(pdf_file)\n",
    "\n",
    "\n",
    "pdf_output = open('output.pdf', 'wb')\n",
    "pdf_writer = PyPDF2.PdfFileWriter()\n",
    "\n",
    "```\n"
   ]
  },
  {
   "attachments": {},
   "cell_type": "markdown",
   "metadata": {},
   "source": [
    "2. From a PdfFileReader object, how do you get a Page object for page 5?\n",
    "\n",
    "```\n",
    "from PyPDF2 import PdfFileReader\n",
    "\n",
    "pdf_file = open('example.pdf', 'rb')\n",
    "pdf_reader = PdfFileReader(pdf_file)\n",
    "\n",
    "\n",
    "page_5 = pdf_reader.getPage(4)\n",
    "\n",
    "pdf_file.close()\n",
    "```"
   ]
  },
  {
   "attachments": {},
   "cell_type": "markdown",
   "metadata": {},
   "source": [
    "3. What PdfFileReader variable stores the number of pages in the PDF document?\n",
    "\n",
    "    The numPages variable of a PdfFileReader object stores the number of pages in the PDF document."
   ]
  },
  {
   "attachments": {},
   "cell_type": "markdown",
   "metadata": {},
   "source": [
    "4. If a PdfFileReader object’s PDF is encrypted with the password swordfish, what must you do before you can obtain Page objects from it?\n",
    "\n",
    "```\n",
    "import PyPDF2\n",
    "\n",
    "pdf_file = open('encrypted.pdf', 'rb')\n",
    "\n",
    "pdf_reader = PyPDF2.PdfFileReader(pdf_file)\n",
    "\n",
    "pdf_reader.decrypt('swordfish')\n",
    "\n",
    "page = pdf_reader.getPage(0)\n",
    "\n",
    "```"
   ]
  },
  {
   "attachments": {},
   "cell_type": "markdown",
   "metadata": {},
   "source": [
    "5. What methods do you use to rotate a page?\n",
    "\n",
    "```\n",
    "import PyPDF2\n",
    "\n",
    "pdf_file = open('example.pdf', 'rb')\n",
    "\n",
    "pdf_reader = PyPDF2.PdfFileReader(pdf_file)\n",
    "\n",
    "page = pdf_reader.getPage(0)\n",
    "\n",
    "page.rotateClockwise(90)\n",
    "\n",
    "pdf_writer = PyPDF2.PdfFileWriter()\n",
    "\n",
    "pdf_writer.addPage(page)\n",
    "\n",
    "output_file = open('rotated.pdf', 'wb')\n",
    "pdf_writer.write(output_file)\n",
    "\n",
    "pdf_file.close()\n",
    "output_file.close()\n",
    "\n",
    "```\n"
   ]
  },
  {
   "attachments": {},
   "cell_type": "markdown",
   "metadata": {},
   "source": [
    "6. What is the difference between a Run object and a Paragraph object?\n",
    "\n",
    "    -   a Paragraph object is a container for one or more Run objects. A Run object is a contiguous run of text with the same formatting.\n"
   ]
  },
  {
   "attachments": {},
   "cell_type": "markdown",
   "metadata": {},
   "source": [
    "7. How do you obtain a list of Paragraph objects for a Document object that’s stored in a variable named doc?\n",
    "```\n",
    "from docx import Document\n",
    "\n",
    "doc = Document('example.docx')\n",
    "\n",
    "paragraphs = doc.paragraphs\n",
    "\n",
    "for p in paragraphs:\n",
    "    print(p.text)\n",
    "\n",
    "```"
   ]
  },
  {
   "attachments": {},
   "cell_type": "markdown",
   "metadata": {},
   "source": [
    "8. What type of object has bold, underline, italic, strike, and outline variables?\n",
    "\n",
    "    - Run object has bold, underline, italic, strike, and outline variables."
   ]
  },
  {
   "attachments": {},
   "cell_type": "markdown",
   "metadata": {},
   "source": [
    "9. What is the difference between False, True, and None for the bold variable?\n",
    "\n",
    "    - True means the text is bold.\n",
    "    - False means the text is not bold.\n",
    "    - None means the text will inherit the bold setting from the style hierarchy."
   ]
  },
  {
   "attachments": {},
   "cell_type": "markdown",
   "metadata": {},
   "source": [
    "10. How do you create a Document object for a new Word document?\n",
    "\n",
    "```\n",
    "from docx import Document\n",
    "\n",
    "document = Document()\n",
    "```"
   ]
  },
  {
   "attachments": {},
   "cell_type": "markdown",
   "metadata": {},
   "source": [
    "11. How do you add a paragraph with the text 'Hello, there!' to a Document object stored in a variable named doc?\n",
    "\n",
    "```\n",
    "from docx import Document\n",
    "\n",
    "doc = Document()\n",
    "doc.add_paragraph('Hello, there!')\n",
    "\n",
    "```"
   ]
  },
  {
   "attachments": {},
   "cell_type": "markdown",
   "metadata": {},
   "source": [
    "12. What integers represent the levels of headings available in Word documents?\n",
    "\n",
    "    - 0: represents no heading\n",
    "    - 1: represents the highest level of heading\n",
    "    - 2: represents the second-highest level of heading\n",
    "    - 3: represents the third-highest level of heading\n",
    "    - 4: represents the fourth-highest level of heading\n",
    "    - 5: represents the fifth-highest level of heading\n",
    "    - 6: represents the sixth-highest level of heading\n",
    "    - 7: represents the seventh-highest level of heading"
   ]
  },
  {
   "cell_type": "code",
   "execution_count": null,
   "metadata": {},
   "outputs": [],
   "source": []
  }
 ],
 "metadata": {
  "kernelspec": {
   "display_name": "base",
   "language": "python",
   "name": "python3"
  },
  "language_info": {
   "codemirror_mode": {
    "name": "ipython",
    "version": 3
   },
   "file_extension": ".py",
   "mimetype": "text/x-python",
   "name": "python",
   "nbconvert_exporter": "python",
   "pygments_lexer": "ipython3",
   "version": "3.9.13"
  },
  "orig_nbformat": 4
 },
 "nbformat": 4,
 "nbformat_minor": 2
}
