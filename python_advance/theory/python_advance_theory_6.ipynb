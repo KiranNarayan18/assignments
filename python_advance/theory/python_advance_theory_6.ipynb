{
 "cells": [
  {
   "attachments": {},
   "cell_type": "markdown",
   "metadata": {},
   "source": [
    "##### Q1. Describe three applications for exception processing.\n",
    "\n",
    "1. Error handling: Exception processing is commonly used to handle errors that may occur during the execution of a program. For example, if a program attempts to open a file that does not exist, an exception can be raised to alert the program that the file could not be opened and the program can then take appropriate action, such as displaying an error message or trying to open a different file.\n",
    "\n",
    "2. Validation: Exception processing can also be used to validate user input or external data. For example, if a program expects an input to be a number, an exception can be raised if the input is not a number. This allows the program to handle invalid input in a controlled and predictable way.\n",
    "\n",
    "3. Resource management: Exception processing can be used to manage resources, such as memory or file handles. For example, when a program opens a file, an exception can be used to ensure that the file is closed properly even if an error occurs. This helps to prevent resource leaks and ensure that resources are used in an efficient and effective manner."
   ]
  },
  {
   "attachments": {},
   "cell_type": "markdown",
   "metadata": {},
   "source": [
    "##### Q2. What happens if you don't do something extra to treat an exception?\n",
    "\n",
    "If an exception is not handled properly, the program will stop executing and an error message will be displayed. This message will typically include information about the type of exception that was raised, the line of code where the exception occurred, and a stack trace that shows the sequence of function calls leading up to the exception. This can make it difficult to understand what went wrong and how to fix the problem.\n",
    "\n",
    "Additionally, if the exception is not handled, any code that comes after the point where the exception occurred will not be executed. This means that any cleanup or recovery actions that may be necessary will not be performed, which can lead to data loss or other issues.\n",
    "\n",
    "Furthermore,if the exception goes unhandled it will propagate up the call stack, potentially causing the program to crash or terminate. This can make the program unstable and unreliable, and can make it difficult to diagnose and fix bugs."
   ]
  },
  {
   "attachments": {},
   "cell_type": "markdown",
   "metadata": {},
   "source": [
    "##### Q3. What are your options for recovering from an exception in your script?\n",
    "\n",
    "1. Try-Except: This is the most common method for recovering from an exception. The try-except block is used to enclose the code that may raise an exception. If an exception is raised within the try block, the code within the except block will be executed. This allows you to handle the exception and take appropriate action, such as displaying an error message or trying to recover from the error.\n",
    "\n",
    "2. Try-Finally: The try-finally block can be used to ensure that certain actions are always executed, regardless of whether an exception is raised. For example, if a file needs to be closed, a finally block can be used to close the file even if an exception is raised.\n",
    "\n",
    "3. Raise statement: The raise statement can be used to raise an exception. This allows you to handle an exception that occurred within a function and re-raise it to the calling function, so that it can be handled by the calling function.\n",
    "\n",
    "4. Assertions: Assertions are used to test if a certain condition is true and if not, raises an exception.\n",
    "\n",
    "5. Logging: Logging the exception to a file or a system can be used to keep track of the exception that occurred, it could be helpful for debugging.\n",
    "\n",
    "6. Retrying: Retrying the same operation that caused the exception again after a certain period of time."
   ]
  },
  {
   "attachments": {},
   "cell_type": "markdown",
   "metadata": {},
   "source": [
    "##### Q4. Describe two methods for triggering exceptions in your script.\n",
    "\n",
    "1. Raise statement: The raise statement can be used to trigger an exception in a script. This statement can be used to raise a specific exception, such as a ValueError or a FileNotFoundError. For example, you can use the raise statement to raise an exception if a variable is not within a certain range of values or if a file could not be found.\n",
    "\n",
    "3. Assertions: Assertions are used to test if a certain condition is true, and if not, they raise an exception. An assertion is a statement that tests a condition, and raises an AssertionError if the condition is false. This allows you to explicitly test for certain conditions and trigger an exception if they are not met. For example, you can use an assertion to ensure that a variable is not None before using it, and raise an exception if it is None.\n"
   ]
  },
  {
   "attachments": {},
   "cell_type": "markdown",
   "metadata": {},
   "source": [
    "##### Q5. Identify two methods for specifying actions to be executed at termination time, regardless of whether or not an exception exists.\n",
    "\n",
    "1. try-finally: The try-finally block is used to specify actions that should be executed at termination time, regardless of whether an exception exists. The try block contains the code that may raise an exception, and the finally block contains the code that should be executed when the try block completes, whether an exception is raised or not. For example, if a file is opened in the try block, the finally block can be used to close the file, even if an exception is raised.\n",
    "\n",
    "2. using context managers: Python provides a context manager protocol, that can be used to wrap a block of code in a try-finally block automatically, to specify actions that should be executed at termination time, regardless of whether an exception exists. The context manager protocol is implemented through the use of the with statement, and it is often used with file objects or other resources that need to be closed or cleaned up when the block is exited."
   ]
  },
  {
   "cell_type": "markdown",
   "metadata": {},
   "source": []
  },
  {
   "cell_type": "markdown",
   "metadata": {},
   "source": []
  },
  {
   "cell_type": "markdown",
   "metadata": {},
   "source": []
  }
 ],
 "metadata": {
  "language_info": {
   "name": "python"
  },
  "orig_nbformat": 4
 },
 "nbformat": 4,
 "nbformat_minor": 2
}
