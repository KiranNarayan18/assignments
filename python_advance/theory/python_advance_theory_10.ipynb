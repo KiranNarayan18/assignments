{
 "cells": [
  {
   "attachments": {},
   "cell_type": "markdown",
   "metadata": {},
   "source": [
    "##### Q1. What is the difference between __getattr__ and __getattribute__?\n",
    "\n",
    "```\n",
    "class MyClass:\n",
    "    def __getattr__(self, name):\n",
    "        print(\"Attribute not found\")\n",
    "\n",
    "    def __getattribute__(self, name):\n",
    "        print(\"Attribute accessed\")\n",
    "        return object.__getattribute__(self, name)\n",
    "        \n",
    "m = MyClass()\n",
    "m.foo    \n",
    "m.__class__   \n",
    "```"
   ]
  },
  {
   "attachments": {},
   "cell_type": "markdown",
   "metadata": {},
   "source": [
    "##### Q2. What is the difference between properties and descriptors?\n",
    "\n",
    "- Properties are implemented using the @property decorator and its corresponding getter, setter, and deleter methods. Properties allow you to define a computed attribute that looks like an ordinary instance variable, but whose value is computed dynamically based on other instance variables. Properties are usually used to hide the implementation details of an object, while providing a simple interface for accessing and manipulating its attributes.\n",
    "\n",
    "- Descriptors are implemented using the __get__, __set__, and __delete__ methods of a descriptor object. Descriptors allow you to define a computed attribute that is shared by multiple instances of a class, or even by different classes. Descriptors are usually used to define attributes with complex behavior, such as caching or lazy evaluation, that cannot be implemented using simple properties.\n"
   ]
  },
  {
   "attachments": {},
   "cell_type": "markdown",
   "metadata": {},
   "source": [
    "##### Q3. What are the key differences in functionality between __getattr__ and __getattribute__, as well as properties and descriptors?\n",
    "\n",
    "__getattr__ and __getattribute__ are both used to manage attribute access, with the former being called only when the attribute is not found and the latter being called for every attribute access. Properties are used to define custom behavior when an attribute is accessed or set, while descriptors allow programmers to define custom behavior for attribute access, setting, and deletion"
   ]
  }
 ],
 "metadata": {
  "kernelspec": {
   "display_name": "base",
   "language": "python",
   "name": "python3"
  },
  "language_info": {
   "name": "python",
   "version": "3.9.13 (main, Aug 25 2022, 23:51:50) [MSC v.1916 64 bit (AMD64)]"
  },
  "orig_nbformat": 4,
  "vscode": {
   "interpreter": {
    "hash": "d56d7ac4ee4883c35c50b079d388610bdf13d54aa1c1112da169cfd5d54eb276"
   }
  }
 },
 "nbformat": 4,
 "nbformat_minor": 2
}
