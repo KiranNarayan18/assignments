{
 "cells": [
  {
   "attachments": {},
   "cell_type": "markdown",
   "metadata": {},
   "source": [
    "##### Q1. If you have any, what are your choices for increasing the comparison between different figures on the same graph?\n",
    "\n",
    "- Adjust the scale: You can adjust the scale of the y-axis to emphasize differences between the data. For example, you might set the minimum and maximum values of the y-axis to better highlight differences between the data points.\n",
    "\n",
    "- Use different colors or shapes: Using different colors or shapes for different data points can make it easier to distinguish between them. For example, you might use different colors for different lines or different shapes for different data points.\n",
    "\n",
    "- Add labels or annotations: Adding labels or annotations to the graph can help to highlight key features and draw attention to differences between the data. For example, you might add labels to individual data points or use annotations to call out specific trends or patterns in the data.\n",
    "\n",
    "- Use small multiples: Small multiples involve creating multiple graphs, each showing a subset of the data, to make it easier to compare different figures. This technique can be especially useful when you have a large amount of data that would be difficult to visualize on a single graph.\n",
    "\n",
    "- Normalize the data: Normalizing the data can help to emphasize differences between the data by adjusting the scale of the data to a common baseline. For example, you might normalize the data by dividing each data point by the maximum value in the dataset."
   ]
  },
  {
   "attachments": {},
   "cell_type": "markdown",
   "metadata": {},
   "source": [
    "##### Q2. Can you explain the benefit of compound interest over a higher rate of interest that does not compound after reading this chapter?\n",
    "\n",
    "The benefit of compound interest over a higher rate of interest that does not compound is that it allows your money to grow at an accelerated rate over time. This is because with compound interest, the interest earned in each period is added to the principal, so that interest is earned on an increasing amount of money each period. This results in a compounding effect, which leads to exponential growth of your money over time."
   ]
  },
  {
   "attachments": {},
   "cell_type": "markdown",
   "metadata": {},
   "source": [
    "##### Q3. What is a histogram, exactly? Name a numpy method for creating such a graph.\n",
    "A histogram is a graphical representation of the distribution of a dataset. It is a way to visualize the frequency or probability of occurrence of different values in a set of data by grouping the data into \"bins\" and counting the number of data points that fall into each bin\n",
    "\n",
    "```\n",
    "import numpy as np\n",
    "import matplotlib.pyplot as plt\n",
    "\n",
    "data = np.random.normal(size=1000)\n",
    "\n",
    "bin_edges, bin_counts = np.histogram(data, bins=10)\n",
    "\n",
    "plt.hist(data, bins=bin_edges)\n",
    "plt.show()\n",
    "```"
   ]
  },
  {
   "attachments": {},
   "cell_type": "markdown",
   "metadata": {},
   "source": [
    "##### Q4. If necessary, how do you change the aspect ratios between the X and Y axes?\n",
    "\n",
    "```\n",
    "import matplotlib.pyplot as plt\n",
    "\n",
    "# Generate some data\n",
    "x = [1, 2, 3, 4, 5]\n",
    "y = [1, 4, 9, 16, 25]\n",
    "\n",
    "# Plot the data\n",
    "plt.plot(x, y)\n",
    "\n",
    "# Set the aspect ratio to be equal\n",
    "plt.gca().set_aspect('equal')\n",
    "\n",
    "# Show the plot\n",
    "plt.show()\n",
    "\n",
    "```\n"
   ]
  },
  {
   "attachments": {},
   "cell_type": "markdown",
   "metadata": {},
   "source": [
    "##### Q5. Compare and contrast the three types of array multiplication between two numpy arrays: dot product, outer product, and regular multiplication of two numpy arrays.\n",
    "\n",
    "1. Dot product returns a scalar value, while outer product and regular multiplication return arrays.\n",
    "2. Dot product requires that the two arrays have matching dimensions, while outer product and regular multiplication only require that the arrays have the same shape.\n",
    "3. Dot product is a summation of element-wise products, while outer product and regular multiplication are straightforward element-wise operations.\n",
    "4. The dot product is useful for linear algebra operations such as matrix multiplication and calculating projections, while the outer product is useful for calculating correlations and covariance matrices. Regular multiplication is useful for simple element-wise operations such as scaling or modifying an array's values."
   ]
  },
  {
   "attachments": {},
   "cell_type": "markdown",
   "metadata": {},
   "source": [
    "##### Q6. Before you buy a home, which numpy function will you use to measure your monthly mortgage payment?\n",
    "\n",
    "```\n",
    "import numpy as np\n",
    "\n",
    "interest_rate = 0.05 / 12  # 5% annual rate, compounded monthly\n",
    "total_payments = 30 * 12  # 30-year mortgage, 12 payments per year\n",
    "loan_principal = 200000  # $200,000 loan principal\n",
    "\n",
    "monthly_payment = np.pmt(interest_rate, total_payments, loan_principal)\n",
    "\n",
    "print(\"Monthly payment: $\", -monthly_payment)  \n"
   ]
  },
  {
   "attachments": {},
   "cell_type": "markdown",
   "metadata": {},
   "source": [
    "##### Q7. Can string data be stored in numpy arrays? If so, list at least one restriction that applies to this data.\n",
    "\n",
    "yes string data type can be stored in numpy array\n",
    "\n",
    "Numpy arrays allocate a fixed amount of memory for each element in the array. Therefore, the maximum size of each string that can be stored in the array is limited by the amount of memory allocated per element."
   ]
  },
  {
   "cell_type": "markdown",
   "metadata": {},
   "source": []
  },
  {
   "cell_type": "code",
   "execution_count": null,
   "metadata": {},
   "outputs": [],
   "source": []
  }
 ],
 "metadata": {
  "language_info": {
   "name": "python"
  },
  "orig_nbformat": 4
 },
 "nbformat": 4,
 "nbformat_minor": 2
}
