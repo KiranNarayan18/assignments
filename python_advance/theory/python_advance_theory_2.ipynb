{
 "cells": [
  {
   "attachments": {},
   "cell_type": "markdown",
   "metadata": {},
   "source": [
    "##### Q1. What is the relationship between classes and modules?\n",
    "\n",
    "In Python, a module is a file that contains Python code, including definitions of classes, functions, and variables. A class is a blueprint for creating objects (i.e., instances) that have methods and properties.\n",
    "\n",
    "A module can contain one or more classes. Classes are defined in a module, and the module provides a namespace for the class, so that the class name does not conflict with other class names in the program."
   ]
  },
  {
   "attachments": {},
   "cell_type": "markdown",
   "metadata": {},
   "source": [
    "##### Q2. How do you make instances and classes?\n",
    "\n",
    "To create a class in Python, you use the class keyword, followed by the class name, a colon, and the class body. The class body contains the methods and attributes of the class.\n",
    "\n",
    "```\n",
    "class MyClass:\n",
    "    def __init__(self, name):\n",
    "        self.name = name\n",
    "        \n",
    "    def update_name(self, new_name):\n",
    "        self.name = new_name\n",
    "```\n",
    "\n",
    "To create an instance of a class, you call the class name as a function and assign the result to a variable.\n",
    "```\n",
    "my_instance = MyClass(\"John\")\n",
    "```"
   ]
  },
  {
   "attachments": {},
   "cell_type": "markdown",
   "metadata": {},
   "source": [
    "##### Q3. Where and how should be class attributes created?\n",
    "\n",
    "In Python, class attributes are created inside the class definition and should be defined at the top level, outside of any methods. They are shared among all instances of the class and are usually used to store information that is associated with the class as a whole, such as default values for instance attributes or global state for the cla"
   ]
  },
  {
   "attachments": {},
   "cell_type": "markdown",
   "metadata": {},
   "source": [
    "##### Q4. Where and how are instance attributes created?\n",
    "\n",
    "In Python, instance attributes are created inside the class definition, usually in the class constructor method __init__ and they are specific to each instance of the class. They store information that is unique to each instance, such as the state or properties of the object."
   ]
  },
  {
   "attachments": {},
   "cell_type": "markdown",
   "metadata": {},
   "source": [
    "##### Q5. What does the term \"self\" in a Python class mean?\n",
    "\n",
    "The term \"self\" is used to refer to the instance of a class on which a method is being called. It is a convention to use \"self\" as the first parameter of a class's method.\n",
    "It is the instance that is being operated on and it's passed automatically when the method is called on an instance.\n",
    "\n",
    "When you create an instance of a class and call one of its methods, Python automatically passes the instance as the first argument to the method. This argument is typically called \"self\" by convention. Inside the method, \"self\" refers to the instance on which the method is being called."
   ]
  },
  {
   "attachments": {},
   "cell_type": "markdown",
   "metadata": {},
   "source": [
    "##### Q6. How does a Python class handle operator overloading?\n",
    "\n",
    "In Python, operator overloading allows you to define how operators (e.g., +, -, *, /, etc.) work on objects of a class. This allows you to define custom behavior for operators when they are used on instances of your class.\n",
    "\n",
    "To overload an operator, you need to define a special method in your class with a specific name. For example, to overload the + operator, you would define a method named __add__."
   ]
  },
  {
   "attachments": {},
   "cell_type": "markdown",
   "metadata": {},
   "source": [
    "##### Q7. When do you consider allowing operator overloading of your classes?\n",
    "\n",
    "Overloading operators is only necessary in very specific cases. For example, if you have a class that represents a complex number, you might want to overload the addition operator so that it can be used to add two complex numbers together.\n"
   ]
  },
  {
   "attachments": {},
   "cell_type": "markdown",
   "metadata": {},
   "source": [
    "##### Q8. What is the most popular form of operator overloading?\n",
    "\n",
    "The most popular form of operator overloading in Python is the use of special methods (also known as \"magic methods\" or \"dunder methods\") to overload operators. These special methods have names that begin and end with double underscores, such as __add__, __sub__, __mul__, __truediv__, etc."
   ]
  },
  {
   "attachments": {},
   "cell_type": "markdown",
   "metadata": {},
   "source": [
    "##### 9. What are the two most important concepts to grasp in order to comprehend Python OOP code?\n",
    "\n",
    "There are several key concepts in Object-Oriented Programming (OOP) that are important to understand in order to comprehend Python OOP code, but the two most important concepts are:\n",
    "\n",
    "Classes: A class is a blueprint for creating objects (i.e., instances) that have methods and properties. It defines the attributes and behaviors of a certain type of object, and is the fundamental building block of OOP in Python. Understanding how classes are defined, how they inherit from other classes, and how they are used to create objects is crucial for understanding Python OOP code.\n",
    "\n",
    "Objects: An object is an instance of a class, and represents a specific instance of the class's attributes and behaviors. Understanding how objects are created, how they interact with other objects, and how they use the methods and properties defined in a class is crucial for understanding Python OOP code."
   ]
  },
  {
   "cell_type": "markdown",
   "metadata": {},
   "source": []
  }
 ],
 "metadata": {
  "kernelspec": {
   "display_name": "base",
   "language": "python",
   "name": "python3"
  },
  "language_info": {
   "name": "python",
   "version": "3.9.13 (main, Aug 25 2022, 23:51:50) [MSC v.1916 64 bit (AMD64)]"
  },
  "orig_nbformat": 4,
  "vscode": {
   "interpreter": {
    "hash": "d56d7ac4ee4883c35c50b079d388610bdf13d54aa1c1112da169cfd5d54eb276"
   }
  }
 },
 "nbformat": 4,
 "nbformat_minor": 2
}
