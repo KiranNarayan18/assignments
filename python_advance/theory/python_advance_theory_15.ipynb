{
 "cells": [
  {
   "attachments": {},
   "cell_type": "markdown",
   "metadata": {},
   "source": [
    "##### 1.\tWhat are the new features added in Python 3.8 version?\n",
    "\n",
    "- Assignment expressions (the walrus operator)\n",
    "- Positional-only parameters in functions\n",
    "- f-strings now support = for self-documenting expressions and debugging\n",
    "- The \"breakpoint\" function for debugging\n",
    "- New syntax for typed dictionaries\n",
    "- New \"time\" functions for performance measurement and handling of time zones\n",
    "- Improvements to the \"asyncio\" module, including async generators and support for C-accelerated event loops."
   ]
  },
  {
   "attachments": {},
   "cell_type": "markdown",
   "metadata": {},
   "source": [
    "##### 2.\tWhat is monkey patching in Python?\n",
    "\n",
    "Monkey patching in Python refers to the practice of dynamically changing or patching code at runtime, typically in a way that is not intended by the original author. This can be done by directly modifying the code of an existing object or module, or by substituting it with a different implementation. \n"
   ]
  },
  {
   "attachments": {},
   "cell_type": "markdown",
   "metadata": {},
   "source": [
    "##### 3.\tWhat is the difference between a shallow copy and deep copy?\n",
    "\n",
    "Shallow copy only copies the reference to the original object, while a deep copy creates a new object with a new memory location that is independent of the original object."
   ]
  },
  {
   "attachments": {},
   "cell_type": "markdown",
   "metadata": {},
   "source": [
    "##### 4.\tWhat is the maximum possible length of an identifier?\n",
    "\n",
    "79 characters"
   ]
  },
  {
   "cell_type": "code",
   "execution_count": 6,
   "metadata": {},
   "outputs": [
    {
     "name": "stdout",
     "output_type": "stream",
     "text": [
      "1\n",
      "4\n",
      "9\n",
      "16\n",
      "25\n"
     ]
    }
   ],
   "source": [
    "#####5.\tWhat is generator comprehension?\n",
    "\n",
    "# Generator comprehension is created by enclosing an expression in parentheses () and enclosing it in square brackets [], separated by a for loop. \n",
    "gen = (x**2 for x in range(1, 6))\n",
    "for i in gen:\n",
    "    print(i)\n"
   ]
  },
  {
   "cell_type": "code",
   "execution_count": null,
   "metadata": {},
   "outputs": [],
   "source": []
  }
 ],
 "metadata": {
  "kernelspec": {
   "display_name": "Python 3",
   "language": "python",
   "name": "python3"
  },
  "language_info": {
   "codemirror_mode": {
    "name": "ipython",
    "version": 3
   },
   "file_extension": ".py",
   "mimetype": "text/x-python",
   "name": "python",
   "nbconvert_exporter": "python",
   "pygments_lexer": "ipython3",
   "version": "3.9.0"
  },
  "orig_nbformat": 4
 },
 "nbformat": 4,
 "nbformat_minor": 2
}
