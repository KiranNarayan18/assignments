{
 "cells": [
  {
   "attachments": {},
   "cell_type": "markdown",
   "metadata": {},
   "source": [
    "##### Q1. Which two operator overloading methods can you use in your classes to support iteration?\n",
    "\n",
    "The __iter__ method returns an iterator object, which defines a __next__ method that is used to retrieve the next item in the iteration. The __next__ method should raise a StopIteration exception when there are no more items to return."
   ]
  },
  {
   "attachments": {},
   "cell_type": "markdown",
   "metadata": {},
   "source": [
    "##### Q2. In what contexts do the two operator overloading methods manage printing?\n",
    "\n",
    "The __str__ method is used to define a string representation of an object, which is used by the built-in print() function and the str() function. This method should return a string that is a human-readable representation of the object.\n",
    "\n",
    "The __repr__ method is used to define a string representation of an object that is suitable for debugging and development. This method should return a string that is a unambiguous representation of the object. The __repr__ method is also used by the built-in repr() function, the interactive interpreter, and some other places such as documentation generators."
   ]
  },
  {
   "attachments": {},
   "cell_type": "markdown",
   "metadata": {},
   "source": [
    "##### Q3. In a class, how do you intercept slice operations?\n",
    "\n",
    "The __getitem__ method is called when an object is indexed using square brackets []. The method should accept a single argument, which is the index or slice, and should return the corresponding item or slice.\n",
    "\n",
    "The __setitem__ method is called when an object is indexed using square brackets [] and assigned a value. The method should accept two arguments: the index or slice, and the value to be assigned."
   ]
  },
  {
   "attachments": {},
   "cell_type": "markdown",
   "metadata": {},
   "source": [
    "##### Q4. In a class, how do you capture in-place addition?\n",
    "\n",
    "The __iadd__ method is called when an object is used with the \"+=\" operator. The method should accept a single argument, which is the value that is being added to the object, and should return the result of the operation."
   ]
  },
  {
   "attachments": {},
   "cell_type": "markdown",
   "metadata": {},
   "source": [
    "##### Q5. When is it appropriate to use operator overloading?\n",
    "\n",
    "Operator overloading is a feature of some programming languages, including Python, that allows operators (such as +, -, *, etc.) to have different meanings depending on the context in which they are used. It is appropriate to use operator overloading when you want to define a new class that behaves like a built-in type, or when you want to make your code more readable and natural."
   ]
  },
  {
   "cell_type": "markdown",
   "metadata": {},
   "source": []
  },
  {
   "cell_type": "markdown",
   "metadata": {},
   "source": []
  }
 ],
 "metadata": {
  "language_info": {
   "name": "python"
  },
  "orig_nbformat": 4
 },
 "nbformat": 4,
 "nbformat_minor": 2
}
