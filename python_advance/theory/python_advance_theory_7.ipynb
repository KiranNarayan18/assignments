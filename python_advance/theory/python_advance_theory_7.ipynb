{
 "cells": [
  {
   "attachments": {},
   "cell_type": "markdown",
   "metadata": {},
   "source": [
    "##### Q1. What is the purpose of the try statement?\n",
    "\n",
    "The try statement allows you to attempt to execute a block of code and then handle any exceptions that may be raised while running that code. If an exception occurs, the try statement allows you to gracefully handle the exception and take appropriate action, such as logging the error, displaying an error message, or retrying the operation.\n",
    "\n"
   ]
  },
  {
   "attachments": {},
   "cell_type": "markdown",
   "metadata": {},
   "source": [
    "##### Q2. What are the two most popular try statement variations?\n",
    "\n",
    "try-except: The try-except statement is used to catch and handle specific exceptions that may occur during the execution of the try block. \n",
    "\n",
    "try-finally: The try-finally statement is used to ensure that a block of code is always executed, regardless of whether an exception is raised or not.\n"
   ]
  },
  {
   "attachments": {},
   "cell_type": "markdown",
   "metadata": {},
   "source": [
    "##### Q3. What is the purpose of the raise statement?\n",
    "\n",
    "The raise statement is typically used when a certain condition is not met, or when an error occurs during the execution of a code block. When an exception is raised, Python immediately stops executing the current code block and starts looking for an exception handler that can handle the raised exception. If no exception handler is found, the program terminates and the exception message is displayed to the user.\n"
   ]
  },
  {
   "attachments": {},
   "cell_type": "markdown",
   "metadata": {},
   "source": [
    "##### Q4. What does the assert statement do, and what other statement is it like?\n",
    "The assert statement is similar to the if statement in that it allows you to check a condition and take action based on the result. However, the assert statement is more commonly used for debugging and testing purposes, where you want to ensure that certain conditions are met during the execution of your code.\n"
   ]
  },
  {
   "attachments": {},
   "cell_type": "markdown",
   "metadata": {},
   "source": [
    "##### Q5. What is the purpose of the with/as argument, and what other statement is it like?\n",
    "\n",
    "When the with statement is executed, the context manager's __enter__() method is called to acquire the resource, and its return value is assigned to the target variable. Then the code in the body of the with statement is executed, and finally the context manager's __exit__() method is called to release the resource, even if an exception is raised in the body."
   ]
  },
  {
   "cell_type": "markdown",
   "metadata": {},
   "source": []
  }
 ],
 "metadata": {
  "language_info": {
   "name": "python"
  },
  "orig_nbformat": 4
 },
 "nbformat": 4,
 "nbformat_minor": 2
}
