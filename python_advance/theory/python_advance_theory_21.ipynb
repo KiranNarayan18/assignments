{
 "cells": [
  {
   "attachments": {},
   "cell_type": "markdown",
   "metadata": {},
   "source": [
    "##### Q1. What is a probability distribution, exactly? If the values are meant to be random, how can you predict them at all?\n",
    "\n",
    "A probability distribution is a function that describes the likelihood of different outcomes or events in a random process. In other words, it tells us how probable it is to observe different values of a random variable.\n",
    "\n",
    "Even though the values of a random variable are unpredictable, the probability distribution provides us with information about the likelihood of different outcomes. This allows us to make predictions about the behavior of the random variable over many trials or observations"
   ]
  },
  {
   "attachments": {},
   "cell_type": "markdown",
   "metadata": {},
   "source": [
    "##### Q2. Is there a distinction between true random numbers and pseudo-random numbers, if there is one? Why are the latter considered “good enough”?\n",
    "\n",
    "Yes, there is a distinction between true random numbers and pseudo-random numbers.\n",
    "\n",
    "Pseudo-random numbers are considered \"good enough\" for many applications because they exhibit statistical properties that are similar to true random numbers, such as uniform distribution, independence, and unpredictability."
   ]
  },
  {
   "attachments": {},
   "cell_type": "markdown",
   "metadata": {},
   "source": [
    "##### Q3. What are the two main factors that influence the behaviour of a \"normal\" probability distribution?\n",
    "\n",
    "1. Mean\n",
    "2. Standard Deviation\n"
   ]
  },
  {
   "attachments": {},
   "cell_type": "markdown",
   "metadata": {},
   "source": [
    "##### Q4. Provide a real-life example of a normal distribution.\n",
    "\n",
    "average human heights"
   ]
  },
  {
   "attachments": {},
   "cell_type": "markdown",
   "metadata": {},
   "source": [
    "##### Q5. In the short term, how can you expect a probability distribution to behave? What do you think will happen as the number of trials grows?\n",
    "\n",
    "In short term probability distribution is un-predictable\n",
    "\n",
    "In general, as the number of trials increases, the probability distribution becomes more tightly clustered around its expected values, and the variability of the results decreases. This is why larger sample sizes are generally preferred in statistical analysis, as they provide more reliable estimates of the underlying probabilities or parameters."
   ]
  },
  {
   "attachments": {},
   "cell_type": "markdown",
   "metadata": {},
   "source": [
    "##### Q6. What kind of object can be shuffled by using random.shuffle?\n",
    "\n",
    "list and tuple"
   ]
  },
  {
   "attachments": {},
   "cell_type": "markdown",
   "metadata": {},
   "source": [
    "##### Q7. Describe the math package's general categories of functions.\n",
    "\n",
    "1. `math.ceil` round up to the nearest integer\n",
    "2. `math.floor` round down to the nearest integer\n",
    "3. `math.fabs` absolute value\n",
    "4. `math.pow` raise a number to a power\n",
    "5. `math.pi` the value of π\n",
    "6. `math.pow` raise a number to a power"
   ]
  },
  {
   "attachments": {},
   "cell_type": "markdown",
   "metadata": {},
   "source": [
    "##### Q8. What is the relationship between exponentiation and logarithms?\n",
    "\n",
    "Exponentiation and logarithms are inverse operations of each other"
   ]
  },
  {
   "attachments": {},
   "cell_type": "markdown",
   "metadata": {},
   "source": [
    "##### Q9. What are the three logarithmic functions that Python supports?\n",
    "\n",
    "1. `log10(x)`: This function returns the base-10 logarithm of x.\n",
    "\n",
    "2. `log2(x)`: This function returns the base-2 logarithm of x.\n",
    "\n",
    "3. `log(x, base)`: This function returns the logarithm of x to the given base"
   ]
  },
  {
   "cell_type": "markdown",
   "metadata": {},
   "source": []
  },
  {
   "cell_type": "markdown",
   "metadata": {},
   "source": []
  },
  {
   "cell_type": "code",
   "execution_count": null,
   "metadata": {},
   "outputs": [],
   "source": []
  }
 ],
 "metadata": {
  "language_info": {
   "name": "python"
  },
  "orig_nbformat": 4
 },
 "nbformat": 4,
 "nbformat_minor": 2
}
