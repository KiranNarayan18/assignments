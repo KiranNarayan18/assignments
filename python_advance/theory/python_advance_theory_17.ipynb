{
 "cells": [
  {
   "attachments": {},
   "cell_type": "markdown",
   "metadata": {},
   "source": [
    "##### Q1. Explain the difference between greedy and non-greedy syntax with visual terms in as few words as possible. What is the bare minimum effort required to transform a greedy pattern into a non-greedy one? What characters or characters can you introduce or change?\n",
    "\n",
    "Greedy syntax attempts to match as much input as possible while still allowing the overall pattern to match, while non-greedy (or lazy) syntax matches as little input as possible. To make a greedy pattern non-greedy, you can add a \"?\" after the repetition operator (+ or ) to create a lazy version of the pattern. "
   ]
  },
  {
   "cell_type": "markdown",
   "metadata": {},
   "source": [
    "##### Q2. When exactly does greedy versus non-greedy make a difference?  What if you're looking for a non-greedy match but the only one available is greedy?\n",
    "\n",
    "Greedy versus non-greedy matching makes a difference when there are multiple occurrences of the same pattern within a string, and you only want to match the first occurrence (or a specific occurrence). Greedy matching will match as much as possible, while non-greedy matching will match as little as possible.\n",
    "\n",
    "If you need a non-greedy match, but the only one available is greedy, you can use a workaround such as adding a lookahead assertion to the pattern.\n"
   ]
  },
  {
   "attachments": {},
   "cell_type": "markdown",
   "metadata": {},
   "source": [
    "##### Q3. In a simple match of a string, which looks only for one match and does not do any replacement, is the use of a nontagged group likely to make any practical difference?\n",
    "\n",
    "In a simple match of a string that only looks for one match and does not do any replacement, the use of a nontagged group is unlikely to make any practical difference. A nontagged group is a group of parentheses that do not contain a tag (a question mark followed by one of several letters). These groups are used to group part of a pattern together, but they do not capture the matched text. Since they do not capture any text, using a nontagged group instead of a regular group (which does capture the matched text) is not likely to have any impact on the outcome of a simple string match."
   ]
  },
  {
   "cell_type": "markdown",
   "metadata": {},
   "source": [
    "##### Q4. Describe a scenario in which using a nontagged category would have a significant impact on the program's outcomes.\n",
    "\n",
    "A scenario in which using a nontagged category would have a significant impact on the program's outcomes is when working with large text files and performing multiple search and replace operations. If the regular expression pattern includes multiple tagged categories, the Python regular expression engine will capture and store every match. This can result in an excessive amount of memory usage, causing the program to slow down or even crash if the text file is very large. By using nontagged categories instead, the regular expression engine will skip capturing and storing the matches, resulting in faster and more memory-efficient processing."
   ]
  },
  {
   "cell_type": "markdown",
   "metadata": {},
   "source": [
    "##### Q5. Unlike a normal regex pattern, a look-ahead condition does not consume the characters it examines. Describe a situation in which this could make a difference in the results of your programme.\n",
    "\n",
    "Consider a scenario where you want to find all occurrences of a word that are followed by a specific punctuation mark, but you do not want to include the punctuation mark in the match. If you use a normal regex pattern to find the word followed by the punctuation mark, the punctuation mark would be consumed by the match, and you would have to remove it afterwards. However, by using a look-ahead condition, you can examine the character after the word without consuming it, and only include the word in the match. This can save time and make the code more efficient, especially if you are working with large datasets.\n"
   ]
  },
  {
   "cell_type": "markdown",
   "metadata": {},
   "source": [
    "##### Q6. In standard expressions, what is the difference between positive look-ahead and negative look-ahead?\n",
    "\n",
    "The main difference between the two is that positive look-ahead checks for the presence of a pattern, while negative look-ahead checks for the absence of a pattern."
   ]
  },
  {
   "cell_type": "code",
   "execution_count": 12,
   "metadata": {},
   "outputs": [
    {
     "name": "stdout",
     "output_type": "stream",
     "text": [
      "John\n",
      "Doe\n"
     ]
    }
   ],
   "source": [
    "##### Q7. What is the benefit of referring to groups by name rather than by number in a standard expression?\n",
    "\n",
    "\"\"\"\n",
    "- Improved code readability: Using group names makes the pattern more understandable, especially when there are multiple groups.\n",
    "\n",
    "- Flexibility: If the pattern changes and the order of groups changes, referring to groups by name will not break the code.\n",
    "\n",
    "- Self-documenting code: The names of the groups help to document what the code is doing, making it easier for others to read and understand the code.\n",
    "\n",
    "- Reduced maintenance: If the pattern changes, it is easier to update the code because you only need to change the name, rather than every reference to the group number.\"\"\"\n",
    "\n",
    "import re\n",
    "\n",
    "pattern = r'(?P<first_name>\\w+) (?P<last_name>\\w+)'\n",
    "\n",
    "match = re.match(pattern, 'John Doe')\n",
    "\n",
    "print(match.group('first_name')) \n",
    "print(match.group('last_name')) \n",
    "\n"
   ]
  },
  {
   "cell_type": "code",
   "execution_count": 14,
   "metadata": {},
   "outputs": [
    {
     "name": "stdout",
     "output_type": "stream",
     "text": [
      "['cow', 'moon']\n"
     ]
    }
   ],
   "source": [
    "##### Q8. Can you identify repeated items within a target string using named groups, as in \"The cow jumped over the moon\"?\n",
    "\n",
    "import re\n",
    "\n",
    "string = \"The cow cow jumped over the moon moon\"\n",
    "pattern = r'(?P<word>\\b\\w+\\b)\\s+(?P=word)'\n",
    "matches = re.findall(pattern, string)\n",
    "\n",
    "print(matches) \n"
   ]
  },
  {
   "cell_type": "markdown",
   "metadata": {},
   "source": [
    "##### Q9. When parsing a string, what is at least one thing that the Scanner interface does for you that the re.findall feature does not?\n",
    "\n",
    "The Scanner interface is used for parsing text data, and it provides more fine-grained control over the parsing process than the re.findall feature. One thing that Scanner interface does for you that re.findall does not is that it allows you to specify the delimiter pattern that separates the different tokens in the input string"
   ]
  },
  {
   "cell_type": "markdown",
   "metadata": {},
   "source": [
    "##### Q10. Does a scanner object have to be named scanner?\n",
    "\n",
    "No, a scanner object does not have to be named scanner. You can name it whatever you like, as long as the name you choose follows the rules for variable names in Python."
   ]
  },
  {
   "cell_type": "code",
   "execution_count": null,
   "metadata": {},
   "outputs": [],
   "source": []
  }
 ],
 "metadata": {
  "kernelspec": {
   "display_name": "Python 3",
   "language": "python",
   "name": "python3"
  },
  "language_info": {
   "codemirror_mode": {
    "name": "ipython",
    "version": 3
   },
   "file_extension": ".py",
   "mimetype": "text/x-python",
   "name": "python",
   "nbconvert_exporter": "python",
   "pygments_lexer": "ipython3",
   "version": "3.9.16"
  },
  "orig_nbformat": 4,
  "vscode": {
   "interpreter": {
    "hash": "b53f8db218d8926f392992436089d4ad081a92e1d45171ec7cd9ba30c6b0c9a1"
   }
  }
 },
 "nbformat": 4,
 "nbformat_minor": 2
}
