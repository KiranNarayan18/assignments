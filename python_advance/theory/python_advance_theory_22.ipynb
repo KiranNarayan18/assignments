{
 "cells": [
  {
   "attachments": {},
   "cell_type": "markdown",
   "metadata": {},
   "source": [
    "##### Q1. What are the benefits of the built-in array package, if any?\n",
    "\n",
    "- Efficient memory usage\n",
    "- Fast element access\n",
    "- Fast array operations\n",
    "- Interoperability with other languages\n",
    "\n",
    "the array package can be a useful tool for working with homogeneous data in Python, especially when performance and memory efficiency are important"
   ]
  },
  {
   "attachments": {},
   "cell_type": "markdown",
   "metadata": {},
   "source": [
    "##### Q2. What are some of the array package's limitations?\n",
    "\n",
    "1. Limited functionality: The array package provides a limited set of functions for manipulating arrays, compared to more advanced data structures like NumPy arrays. For example, arrays cannot be reshaped, transposed, or sliced in the same way as NumPy arrays.\n",
    "\n",
    "2. Limited data types: The array package supports only a limited set of data types, such as integers, floating-point numbers, and characters. This means that it may not be suitable for all types of data.\n",
    "\n",
    "3. No vectorized operations: The array package does not provide vectorized operations like NumPy arrays, which can perform operations on entire arrays at once. Instead, operations on arrays must be performed element-wise using loops or list comprehensions.\n",
    "\n",
    "4. No support for multidimensional arrays: The array package only supports one-dimensional arrays, which can limit its usefulness for certain applications."
   ]
  },
  {
   "attachments": {},
   "cell_type": "markdown",
   "metadata": {},
   "source": [
    "##### Q3. Describe the main differences between the array and numpy packages.\n",
    "\n",
    "- Data types: NumPy supports a much wider range of data types than array, including complex numbers, Booleans, and arbitrary-length integers. array supports only a limited set of data types, such as integers, floating-point numbers, and characters.\n",
    "\n",
    "- Multidimensional arrays: NumPy supports multidimensional arrays, which can have any number of dimensions and can be sliced and reshaped in various ways. array only supports one-dimensional arrays.\n",
    "\n",
    "- Vectorized operations: NumPy provides vectorized operations that can perform operations on entire arrays at once, which can be much faster than element-wise operations. array does not provide vectorized operations.\n",
    "\n",
    "- Indexing and slicing: NumPy provides more advanced indexing and slicing capabilities than array, including fancy indexing and Boolean indexing.\n",
    "\n",
    "- Performance: NumPy is generally faster than array, especially for large arrays and complex operations, due to its optimized C-based implementation."
   ]
  },
  {
   "attachments": {},
   "cell_type": "markdown",
   "metadata": {},
   "source": [
    "##### Q4. Explain the distinctions between the empty, ones, and zeros functions.\n",
    "\n",
    "- empty: The empty function creates a new array of a specified shape, but the elements in the array are uninitialized and can contain any values. This is useful when you need to create an array with a specific shape, but you don't care about the initial values.\n",
    "\n",
    "- zeros: The zeros function creates a new array of a specified shape, with all elements initialized to 0. This is useful when you need to create an array of a specific size and initialize all the elements to the same value.\n",
    "\n",
    "- ones: The ones function creates a new array of a specified shape, with all elements initialized to 1. This is useful when you need to create an array of a specific size and initialize all the elements to a specific value.\n"
   ]
  },
  {
   "attachments": {},
   "cell_type": "markdown",
   "metadata": {},
   "source": [
    "##### Q5. In the fromfunction function, which is used to construct new arrays, what is the role of the callable argument?\n",
    "\n",
    "The fromfunction function in NumPy is used to construct a new array from a given function. The role of the callable argument is to provide the function that generates the values for the new array.\n"
   ]
  },
  {
   "attachments": {},
   "cell_type": "markdown",
   "metadata": {},
   "source": [
    "##### Q6. What happens when a numpy array is combined with a single-value operand (a scalar, such as an int or a floating-point value) through addition, as in the expression A + n?\n",
    "\n",
    "When a NumPy array is combined with a single-value operand (a scalar) through addition, each element of the array is added with the scalar value."
   ]
  },
  {
   "attachments": {},
   "cell_type": "markdown",
   "metadata": {},
   "source": [
    "##### Q7. Can array-to-scalar operations use combined operation-assign operators (such as += or *=)? What is the outcome?\n",
    "\n",
    "Yes, NumPy supports combined operation-assign operators (such as += or *=) for array-to-scalar operations.\n",
    "\n",
    "When such an operation is performed, each element in the array is operated on by the scalar value, and the result is assigned back to the same array.\n"
   ]
  },
  {
   "attachments": {},
   "cell_type": "markdown",
   "metadata": {},
   "source": [
    "##### Q8. Does a numpy array contain fixed-length strings? What happens if you allocate a longer string to one of these arrays?\n",
    "\n",
    "- Yes, a NumPy array can contain fixed-length strings using the dtype argument of the array constructor or the astype() method.\n",
    "\n",
    "- If we try to allocate a longer string to one of the elements in this array, NumPy will automatically truncate the string to the specified length\n"
   ]
  },
  {
   "attachments": {},
   "cell_type": "markdown",
   "metadata": {},
   "source": [
    "##### Q9. What happens when you combine two numpy arrays using an operation like addition (+) or multiplication (*)? What are the conditions for combining two numpy arrays?\n",
    "\n",
    "When you combine two NumPy arrays using an operation like addition (+) or multiplication (*), the arrays are combined element-wise. That is, the operation is performed on each corresponding pair of elements in the arrays, and the result is a new array of the same shape as the original arrays."
   ]
  },
  {
   "attachments": {},
   "cell_type": "markdown",
   "metadata": {},
   "source": [
    "##### Q10. What is the best way to use a Boolean array to mask another array?\n",
    "\n",
    "The best way to use a Boolean array to mask another array in NumPy is to use the Boolean array as an index for the original array. This will return a new array that contains only the elements from the original array that correspond to True values in the Boolean array.\n"
   ]
  },
  {
   "attachments": {},
   "cell_type": "markdown",
   "metadata": {},
   "source": [
    "##### Q11. What are three different ways to get the standard deviation of a wide collection of data using both standard Python and its packages? Sort the three of them by how quickly they execute.\n",
    "\n",
    "```\n",
    "import numpy as np\n",
    "\n",
    "data = np.array([1, 2, 3, 4, 5])\n",
    "std_dev = np.std(data)\n",
    "print(std_dev)\n",
    "\n",
    "\n",
    "import statistics\n",
    "\n",
    "data = [1, 2, 3, 4, 5]\n",
    "std_dev = statistics.stdev(data)\n",
    "print(std_dev)\n",
    "\n",
    "\n",
    "data = [1, 2, 3, 4, 5]\n",
    "mean = sum(data) / len(data)\n",
    "variance = sum((x - mean) ** 2 for x in data) / len(data)\n",
    "std_dev = variance ** 0.5\n",
    "print(std_dev)\n",
    "\n",
    "```"
   ]
  },
  {
   "attachments": {},
   "cell_type": "markdown",
   "metadata": {},
   "source": [
    "##### Q12. What is the dimensionality of a Boolean mask-generated array?\n",
    "\n",
    "The dimensionality of a Boolean mask-generated array is the same as the dimensionality of the array that was used to generate the mask. That is, if the original array is 1-dimensional, the Boolean mask-generated array will also be 1-dimensional; if the original array is 2-dimensional, the Boolean mask-generated array will also be 2-dimensional, and so on."
   ]
  },
  {
   "cell_type": "markdown",
   "metadata": {},
   "source": []
  },
  {
   "cell_type": "code",
   "execution_count": null,
   "metadata": {},
   "outputs": [],
   "source": []
  }
 ],
 "metadata": {
  "language_info": {
   "name": "python"
  },
  "orig_nbformat": 4
 },
 "nbformat": 4,
 "nbformat_minor": 2
}
