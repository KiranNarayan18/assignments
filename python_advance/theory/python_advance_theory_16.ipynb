{
 "cells": [
  {
   "cell_type": "markdown",
   "metadata": {},
   "source": [
    "##### Q1. What is the benefit of regular expressions?\n",
    "\n",
    "Regular expressions provide a concise and flexible way to search, match, and manipulate text. They allow for complex pattern matching and extraction of specific information from text data. This can be useful in a wide range of applications, such as data cleaning, text processing, web scraping, and natural language processing.\n"
   ]
  },
  {
   "cell_type": "markdown",
   "metadata": {},
   "source": [
    "##### Q2. Describe the difference between the effects of \"(ab)c+\" and \"a(bc)+.\" Which of these, if any, is the unqualified pattern \"abc+\"?\n",
    "\n",
    "Both (ab)c+ and a(bc)+ are valid patterns. the difference between both these patterns is in (ab)c+ ab is group whereas in a(bc)+ bc is a group.\n"
   ]
  },
  {
   "attachments": {},
   "cell_type": "markdown",
   "metadata": {},
   "source": [
    "##### Q3. How much do you need to use the following sentence while using regular expressions?\n",
    "import re\n",
    "\n",
    "The import re statement is necessary to use regular expressions in Python, as it imports the re module, which provides various functions and methods for working with regular expressions\n"
   ]
  },
  {
   "cell_type": "markdown",
   "metadata": {},
   "source": [
    "##### 4. Which characters have special significance in square brackets when expressing a range, and under what circumstances?\n",
    "\n",
    "The Characters .,*,?,^,or,(), have a special signiface when used with square brackets. They need not be be explicitly escaped by \\ as in case of pattern texts in a raw string.\n"
   ]
  },
  {
   "cell_type": "markdown",
   "metadata": {},
   "source": [
    "##### Q5. How does compiling a regular-expression object benefit you?\n",
    "\n",
    "Compiling a regular expression object can improve the performance of the matching process, especially when you need to use the same pattern multiple times. The compiled object can be reused across different strings without having to recompile the pattern each time, which can be a significant time saver.\n"
   ]
  },
  {
   "cell_type": "code",
   "execution_count": 9,
   "metadata": {},
   "outputs": [
    {
     "name": "stdout",
     "output_type": "stream",
     "text": [
      "Match found!\n",
      "Matched string: 2023-03-03\n",
      "Year: 2023\n",
      "Month: 03\n",
      "Day: 03\n",
      "Starting index: 9\n",
      "Ending index: 19\n"
     ]
    }
   ],
   "source": [
    "##### Q6. What are some examples of how to use the match object returned by re.match and re.search?\n",
    "\n",
    "import re\n",
    "\n",
    "pattern = r'(\\d+)-(\\d+)-(\\d+)'\n",
    "date_str = 'Today is 2023-03-03.'\n",
    "\n",
    "match = re.search(pattern, date_str)\n",
    "\n",
    "if match:\n",
    "    print(\"Match found!\")\n",
    "    print(\"Matched string:\", match.group())\n",
    "    print(\"Year:\", match.group(1))\n",
    "    print(\"Month:\", match.group(2))\n",
    "    print(\"Day:\", match.group(3))\n",
    "    print(\"Starting index:\", match.start())\n",
    "    print(\"Ending index:\", match.end())\n",
    "else:\n",
    "    print(\"No match found.\")\n"
   ]
  },
  {
   "cell_type": "markdown",
   "metadata": {},
   "source": [
    "##### Q7. What is the difference between using a vertical bar (|) as an alteration and using square brackets as a character set?\n",
    "\n",
    "The vertical bar (|) in a regular expression is used as an alteration operator and matches any of the expressions separated by it. For example, the pattern \"cat|dog\" matches either \"cat\" or \"dog\".\n",
    "\n",
    "On the other hand, square brackets ([]) are used to define a character set and match any one character in the set. For example, the pattern \"[cd]og\" matches either \"cog\" or \"dog\"."
   ]
  },
  {
   "cell_type": "markdown",
   "metadata": {},
   "source": [
    "##### Q8. In regular-expression search patterns, why is it necessary to use the raw-string indicator (r)? In   replacement strings?\n",
    "\n",
    "It's necessary to use the raw-string indicator (r) in regular-expression search patterns because regular expressions often contain backslashes, which are used to escape special characters.\n",
    "\n",
    "Similarly, using the raw-string indicator (r) in replacement strings prevents backslashes from being interpreted as escape characters, ensuring that they are treated as literal characters instead."
   ]
  },
  {
   "cell_type": "code",
   "execution_count": null,
   "metadata": {},
   "outputs": [],
   "source": []
  }
 ],
 "metadata": {
  "kernelspec": {
   "display_name": "Python 3",
   "language": "python",
   "name": "python3"
  },
  "language_info": {
   "codemirror_mode": {
    "name": "ipython",
    "version": 3
   },
   "file_extension": ".py",
   "mimetype": "text/x-python",
   "name": "python",
   "nbconvert_exporter": "python",
   "pygments_lexer": "ipython3",
   "version": "3.9.0"
  },
  "orig_nbformat": 4
 },
 "nbformat": 4,
 "nbformat_minor": 2
}
