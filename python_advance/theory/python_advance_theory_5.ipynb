{
 "cells": [
  {
   "attachments": {},
   "cell_type": "markdown",
   "metadata": {},
   "source": [
    "##### Q1. What is the meaning of multiple inheritance?\n",
    "\n",
    "Multiple inheritance is a feature of some object-oriented programming languages that allows a class to inherit from more than one superclass or parent class. This means that a class can have multiple direct base classes, rather than just one.\n",
    "\n",
    "In multiple inheritance, a class can inherit properties and methods from multiple classes and use them as if they were defined in the class itself. This allows the class to have multiple characteristics and behaviors, which can be useful in some situations."
   ]
  },
  {
   "attachments": {},
   "cell_type": "markdown",
   "metadata": {},
   "source": [
    "##### Q2. What is the concept of delegation?\n",
    "\n",
    "Delegation is a design pattern in object-oriented programming that allows an object to delegate some of its responsibilities to another object. The object that receives the delegated responsibilities is called a \"delegate\" or \"helper\" object.\n",
    "\n",
    "In delegation, an object (the \"delegator\") has a reference to another object (the \"delegate\"), and it forwards method calls or requests to the delegate object. The delegator object can also add additional behavior or logic around the delegation, such as error handling or logging.\n",
    "\n",
    "```\n",
    "class Delegator:\n",
    "    def __init__(self):\n",
    "        self._delegate = Delegate()\n",
    "\n",
    "    def some_method(self):\n",
    "        self._delegate.do_something()\n",
    "```"
   ]
  },
  {
   "attachments": {},
   "cell_type": "markdown",
   "metadata": {},
   "source": [
    "##### Q3. What is the concept of composition?\n",
    "\n",
    "Composition is a design pattern in object-oriented programming that allows an object to be composed of other objects, rather than inheriting from them. Composition allows an object to reuse functionality by containing other objects, rather than inheriting from them.\n",
    "\n",
    "In composition, an object (the \"composite\") has a reference to one or more other objects (the \"components\"), and it uses the functionality of these objects to perform its own tasks. The composite object can add additional behavior or logic around the functionality it receives from the components.\n",
    "\n",
    "```\n",
    "class Engine:\n",
    "    def start(self):\n",
    "        print(\"Engine started\")\n",
    "\n",
    "class Car:\n",
    "    def __init__(self):\n",
    "        self._engine = Engine()\n",
    "\n",
    "    def start(self):\n",
    "        self._engine.start()\n",
    "        print(\"Car started\")\n",
    "```"
   ]
  },
  {
   "attachments": {},
   "cell_type": "markdown",
   "metadata": {},
   "source": [
    "##### Q4. What are bound methods and how do we use them?\n",
    "\n",
    "In Python, a bound method is a method that is \"bound\" to an object, meaning it has a reference to the object it belongs to. A bound method is an instance of the method class, it is created when you access a method on an instance of a class.\n",
    "\n",
    "A bound method can be called like a regular function, but it has access to the state (attributes) of the object it belongs to. When a bound method is called, it is passed the object it belongs to as its first argument (often called self)"
   ]
  },
  {
   "attachments": {},
   "cell_type": "markdown",
   "metadata": {},
   "source": [
    "#####  Q5. What is the purpose of pseudoprivate attributes?\n",
    "\n",
    "Pseudoprivate attributes in Python are attributes that are intended to be used only within the class or module they are defined in. They are not truly private, as they can still be accessed and modified from outside the class or module, but they are intended to indicate that they should not be used or modified by external code. The purpose of pseudoprivate attributes is to provide a way to encapsulate and protect the internal state of a class or module, and to prevent external code from accidentally or intentionally modifying or accessing the class or module's internal state in an unintended way.\n"
   ]
  }
 ],
 "metadata": {
  "kernelspec": {
   "display_name": "Python 3",
   "language": "python",
   "name": "python3"
  },
  "language_info": {
   "name": "python",
   "version": "3.9.13 (tags/v3.9.13:6de2ca5, May 17 2022, 16:36:42) [MSC v.1929 64 bit (AMD64)]"
  },
  "orig_nbformat": 4,
  "vscode": {
   "interpreter": {
    "hash": "e401b62511f9ac830a1a3ec85a6ca6e4aaea69a064350894c508de4e962cd38c"
   }
  }
 },
 "nbformat": 4,
 "nbformat_minor": 2
}
