{
 "cells": [
  {
   "attachments": {},
   "cell_type": "markdown",
   "metadata": {},
   "source": [
    "##### Q1. Compare and contrast the float and Decimal classes' benefits and drawbacks.\n",
    "\n",
    "Both the float and decimal types store numerical values in Python.\n",
    "\n",
    "Use floats when convenience and speed matter. A float gives you an approximation of the number you declare.\n",
    "\n",
    "Use decimals when precision matters. Decimals can suffer from their own precision issues, but generally, decimals are more precise than floats. The performance difference between float and decimal, with Python 3, is not outlandish, and in my experience, the precision benefits of a decimal outweigh the performance benefits of a float."
   ]
  },
  {
   "attachments": {},
   "cell_type": "markdown",
   "metadata": {},
   "source": [
    "##### Q2. Decimal('1.200') and Decimal('1.2') are two objects to consider. In what sense are these the same object? Are these just two ways of representing the exact same value, or do they correspond to different internal states?\n",
    "\n",
    "The Decimal('1.200') and Decimal('1.2') objects represent the same mathematical value, but they are not the same object in memory. They correspond to different internal states because they have different decimal representations.\n"
   ]
  },
  {
   "attachments": {},
   "cell_type": "markdown",
   "metadata": {},
   "source": [
    "##### Q3. What happens if the equality of Decimal('1.200') and Decimal('1.2') is checked?\n",
    "```\n",
    "from decimal import Decimal\n",
    "print(Decimal('1.200') == Decimal('1.2'))\n",
    "\n",
    ">>True\n",
    "```\n"
   ]
  },
  {
   "attachments": {},
   "cell_type": "markdown",
   "metadata": {},
   "source": [
    "##### Q4. Why is it preferable to start a Decimal object with a string rather than a floating-point value?\n",
    "\n",
    "Floating-point value is converted to Decimal format. Decimal can store float value with absolute precision. But when float value is given as Decimal object,it first has to be converted from floating point value which might already have rounding error.\n",
    "\n",
    "Hence it is preferable to start a Decimal object with a string.\n"
   ]
  },
  {
   "attachments": {},
   "cell_type": "markdown",
   "metadata": {},
   "source": [
    "##### Q5. In an arithmetic phrase, how simple is it to combine Decimal objects with integers?\n",
    "```\n",
    "from decimal import Decimal\n",
    "x = Decimal('10.5')\n",
    "y = 2\n",
    "z = x + y\n",
    "print(z)\n",
    "\n",
    "12.5\n",
    "\n",
    "```"
   ]
  },
  {
   "attachments": {},
   "cell_type": "markdown",
   "metadata": {},
   "source": [
    "##### Q6. Can Decimal objects and floating-point values be combined easily?\n",
    "```\n",
    "from decimal import Decimal\n",
    "x = Decimal('0.1')\n",
    "y = 1.23\n",
    "z = x + y\n",
    "print(z)\n",
    "\n",
    "1.33\n",
    "```"
   ]
  },
  {
   "attachments": {},
   "cell_type": "markdown",
   "metadata": {},
   "source": [
    "##### Q7. Using the Fraction class but not the Decimal class, give an example of a quantity that can be expressed with absolute precision.\n",
    "```\n",
    "from fractions import Fraction\n",
    "x = Fraction(2, 5)\n",
    "print(x)\n",
    "\n",
    "2/5\n",
    "```"
   ]
  },
  {
   "attachments": {},
   "cell_type": "markdown",
   "metadata": {},
   "source": [
    "##### Q8. Describe a quantity that can be accurately expressed by the Decimal or Fraction classes but not by a floating-point value.\n",
    "\n",
    "A common example of a quantity that can be accurately expressed by the Decimal or Fraction classes but not by a floating-point value is 0.1. Since 0.1 cannot be represented exactly as a binary fraction, it results in rounding errors when represented as a floating-point value. However, Decimal and Fraction classes can accurately represent 0.1 with arbitrary precision."
   ]
  },
  {
   "attachments": {},
   "cell_type": "markdown",
   "metadata": {},
   "source": [
    "##### Q9.Consider the following two fraction objects: Fraction(1, 2) and Fraction(1, 2). (5, 10). Is the internal state of these two objects the same? Why do you think that is?\n",
    "```\n",
    "from fractions import Fraction\n",
    "x = Fraction(1, 2)\n",
    "y = Fraction(5, 10)\n",
    "print(x == y)\n",
    "\n",
    "True\n",
    "```\n",
    "Both are reduced to 1/2\n"
   ]
  },
  {
   "attachments": {},
   "cell_type": "markdown",
   "metadata": {},
   "source": [
    "##### Q10. How do the Fraction class and the integer type (int) relate to each other? Containment or inheritance?  \n",
    "\n",
    "The Fraction class and the integer type (int) are related to each other through containment, not inheritance."
   ]
  },
  {
   "cell_type": "markdown",
   "metadata": {},
   "source": []
  },
  {
   "cell_type": "code",
   "execution_count": null,
   "metadata": {},
   "outputs": [],
   "source": []
  },
  {
   "cell_type": "code",
   "execution_count": null,
   "metadata": {},
   "outputs": [],
   "source": []
  }
 ],
 "metadata": {
  "kernelspec": {
   "display_name": "Python 3",
   "language": "python",
   "name": "python3"
  },
  "language_info": {
   "codemirror_mode": {
    "name": "ipython",
    "version": 3
   },
   "file_extension": ".py",
   "mimetype": "text/x-python",
   "name": "python",
   "nbconvert_exporter": "python",
   "pygments_lexer": "ipython3",
   "version": "3.9.16"
  },
  "orig_nbformat": 4,
  "vscode": {
   "interpreter": {
    "hash": "b53f8db218d8926f392992436089d4ad081a92e1d45171ec7cd9ba30c6b0c9a1"
   }
  }
 },
 "nbformat": 4,
 "nbformat_minor": 2
}
