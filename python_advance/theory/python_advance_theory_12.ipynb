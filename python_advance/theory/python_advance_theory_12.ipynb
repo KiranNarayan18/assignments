{
 "cells": [
  {
   "attachments": {},
   "cell_type": "markdown",
   "metadata": {},
   "source": [
    "##### Q1. Does assigning a value to a string's indexed character violate Python's string immutability?\n",
    "\n",
    "Yes, assigning a value to a string's indexed character violates Python's string immutability because Python strings are immutable, meaning their contents cannot be modified after they are created."
   ]
  },
  {
   "attachments": {},
   "cell_type": "markdown",
   "metadata": {},
   "source": [
    "##### Q2. Does using the += operator to concatenate strings violate Python's string immutability? Why or why not?\n",
    "\n",
    "No, using the += operator to concatenate strings does not violate Python's string immutability. When += is used to concatenate two strings, a new string object is created to store the concatenated string, and the original string objects remain unchanged. The += operation then rebinds the variable that previously referred to the original string object to the new string object that stores the concatenated string."
   ]
  },
  {
   "attachments": {},
   "cell_type": "markdown",
   "metadata": {},
   "source": [
    "##### Q3. In Python, how many different ways are there to index a character?\n",
    "\n",
    "```\n",
    "my_string = \"Hello World\"\n",
    "print(my_string[0])  # Output: \"H\"\n",
    "print(my_string[6])  # Output: \"W\"\n",
    "```\n"
   ]
  },
  {
   "attachments": {},
   "cell_type": "markdown",
   "metadata": {},
   "source": [
    "##### Q4. What is the relationship between indexing and slicing?\n",
    "\n",
    "Indexing refers to selecting a single element from a sequence such as a string, list, or tuple by using its position or index.\n",
    "```\n",
    "my_list = [1, 2, 3, 4]\n",
    "first_element = my_list[0]\n",
    "```\n",
    "\n",
    "Slicing, on the other hand, refers to selecting a portion of a sequence by specifying a range of indices. Slicing allows you to extract a subset of elements from a sequence, and it returns a new sequence that includes the elements within the specified range.\n",
    "\n",
    "```\n",
    "my_list = [1, 2, 3, 4]\n",
    "first_three_elements = my_list[0:3]\n",
    "```\n"
   ]
  },
  {
   "attachments": {},
   "cell_type": "markdown",
   "metadata": {},
   "source": [
    "##### Q5. What is an indexed character's exact data type? What is the data form of a slicing-generated substring?\n",
    "\n",
    "An indexed character in Python is of type string, while a slicing-generated substring is also of type string.\n",
    "\n",
    "```\n",
    "string = \"hello world\"\n",
    "indexed_char = string[0]\n",
    "substring = string[0:5]\n",
    "\n",
    "print(type(indexed_char))  # <class 'str'>\n",
    "print(type(substring))  # <class 'str'>\n",
    "``\n"
   ]
  },
  {
   "attachments": {},
   "cell_type": "markdown",
   "metadata": {},
   "source": [
    "##### Q6. What is the relationship between string and character \"types\" in Python?\n",
    "\n",
    "String is a collection of characters, where each character is a Unicode character, represented by a string of length 1."
   ]
  },
  {
   "attachments": {},
   "cell_type": "markdown",
   "metadata": {},
   "source": [
    "##### Q7. Identify at least two operators and one method that allow you to combine one or more smaller strings to create a larger string.\n",
    "\n",
    "```\n",
    "string1 = \"Hello\"\n",
    "string2 = \"World\"\n",
    "result = string1 + \" \" + string2\n",
    "print(result) # Output: Hello World\n",
    "\n",
    "\n",
    "string = \"spam\"\n",
    "result = string * 3\n",
    "print(result) # Output: spamspamspam\n",
    "\n",
    "```"
   ]
  },
  {
   "attachments": {},
   "cell_type": "markdown",
   "metadata": {},
   "source": [
    "##### Q8. What is the benefit of first checking the target string with in or not in before using the index method to find a substring?\n",
    "\n",
    "The in or not in checks whether the substring is present in the target string or not and returns a boolean value accordingly. If the substring is present, then the index method can be safely used to find the index of the substring and can avoid raising an error when the substring is not present in the target string.\n"
   ]
  },
  {
   "attachments": {},
   "cell_type": "markdown",
   "metadata": {},
   "source": [
    "##### Q9. Which operators and built-in string methods produce simple Boolean (true/false) results?\n",
    "\n",
    "- in and not in: These operators return True if a substring is found in the given string, and False otherwise.\n",
    "- startswith(): This method returns True if the given string starts with the specified substring, and False otherwise.\n",
    "- endswith(): This method returns True if the given string ends with the specified substring, and False otherwise.\n",
    "- isalpha(): This method returns True if all characters in the string are alphabetic, and False otherwise.\n",
    "- isdigit(): This method returns True if all characters in the string are digits, and False otherwise.\n",
    "- islower(): This method returns True if all alphabetic characters in the string are lowercase, and False otherwise.\n",
    "- isupper(): This method returns True if all alphabetic characters in the string are uppercase, and False otherwise.\n",
    "- isspace(): This method returns True if all characters in the string are whitespace, and False otherwise.\n",
    "\n",
    "```\n",
    "s = \"Hello World\"\n",
    "print('World' in s) # Output: True\n",
    "print('world' in s) # Output: False (case sensitive)\n",
    "\n",
    "print('Java' not in s) # Output: True\n",
    "print('World' not in s) # Output: False\n",
    "\n",
    "print(s.startswith('Hello')) # Output: True\n",
    "print(s.startswith('World')) # Output: False\n",
    "\n",
    "print(s.endswith('World')) # Output: True\n",
    "print(s.endswith('Hello')) # Output: False\n",
    "```"
   ]
  },
  {
   "cell_type": "markdown",
   "metadata": {},
   "source": []
  },
  {
   "cell_type": "markdown",
   "metadata": {},
   "source": []
  },
  {
   "cell_type": "markdown",
   "metadata": {},
   "source": []
  },
  {
   "cell_type": "markdown",
   "metadata": {},
   "source": []
  },
  {
   "cell_type": "code",
   "execution_count": null,
   "metadata": {},
   "outputs": [],
   "source": []
  }
 ],
 "metadata": {
  "kernelspec": {
   "display_name": "base",
   "language": "python",
   "name": "python3"
  },
  "language_info": {
   "name": "python",
   "version": "3.9.13 (main, Aug 25 2022, 23:51:50) [MSC v.1916 64 bit (AMD64)]"
  },
  "orig_nbformat": 4,
  "vscode": {
   "interpreter": {
    "hash": "d56d7ac4ee4883c35c50b079d388610bdf13d54aa1c1112da169cfd5d54eb276"
   }
  }
 },
 "nbformat": 4,
 "nbformat_minor": 2
}
