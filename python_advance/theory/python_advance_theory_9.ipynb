{
 "cells": [
  {
   "attachments": {},
   "cell_type": "markdown",
   "metadata": {},
   "source": [
    "##### Q1. In Python 3.X, what are the names and functions of string object types?\n",
    "\n",
    "- str: This is the most commonly used string object type in Python. It represents a sequence of Unicode characters, which means that it can represent characters from any language or symbol in the world.\n",
    "\n",
    "- bytes: This represents a sequence of bytes, which can be used to represent binary data such as images or audio files. The bytes object type is immutable, meaning that it cannot be changed once it is created.\n",
    "\n",
    "- bytearray: This is similar to the bytes object type, but it is mutable, meaning that it can be changed after it is created."
   ]
  },
  {
   "attachments": {},
   "cell_type": "markdown",
   "metadata": {},
   "source": [
    "##### Q2. How do the string forms in Python 3.X vary in terms of operations?\n",
    "\n",
    "- str: The str type is the most commonly used string type in Python. It is a sequence of Unicode characters and supports all the basic string operations, such as concatenation, slicing, indexing, and formatting. Additionally, it also supports many advanced string operations, such as regular expressions, text manipulation, and encoding/decoding.\n",
    "\n",
    "- bytes: The bytes type represents a sequence of bytes and is used to represent binary data such as images or audio files. Since bytes are a sequence of integers, the bytes type supports many of the same operations as the str type, such as indexing and slicing. However, it does not support string formatting or other advanced string operations.\n",
    "\n",
    "- bytearray: The bytearray type is similar to the bytes type, but it is mutable, meaning that it can be changed after it is created. Like the bytes type, it supports many of the same operations as the str type, but does not support string formatting or other advanced string operations."
   ]
  },
  {
   "attachments": {},
   "cell_type": "markdown",
   "metadata": {},
   "source": [
    "##### Q3. In 3.X, how do you put non-ASCII Unicode characters in a string?\n",
    "```\n",
    "# Using Unicode escape sequence\n",
    "hello = \"\\u4F60\\u597D\"\n",
    "print(hello) # Output: 你好\n",
    "\n",
    "# Using UTF-8 encoding\n",
    "hello = b'\\xe4\\xbd\\xa0\\xe5\\xa5\\xbd'\n",
    "print(hello.decode('utf-8')) # Output: 你好\n",
    "```\n",
    "\n"
   ]
  },
  {
   "attachments": {},
   "cell_type": "markdown",
   "metadata": {},
   "source": [
    "##### Q4. In Python 3.X, what are the key differences between text-mode and binary-mode files?\n",
    "\n",
    "Text-mode files: Text-mode files are used for reading and writing text data, and they are opened in text mode by default. When you open a file in text mode, Python automatically handles the encoding and decoding of the text data, so you don't have to worry about it. Text-mode files are represented by the 't' character in the mode string when opening the file.\n",
    "\n",
    "\n",
    "Binary-mode files: Binary-mode files are used for reading and writing binary data, such as images or audio files. When you open a file in binary mode, Python does not perform any encoding or decoding of the data, so it is important to handle the data correctly. Binary-mode files are represented by the 'b' character in the mode string when opening the file.\n"
   ]
  },
  {
   "attachments": {},
   "cell_type": "markdown",
   "metadata": {},
   "source": [
    "##### Q5. How can you interpret a Unicode text file containing text encoded in a different encoding than your platform's default?\n",
    "```\n",
    "with open('my_file.txt', encoding='iso-8859-1') as file:\n",
    "    content = file.read()\n",
    "```"
   ]
  },
  {
   "attachments": {},
   "cell_type": "markdown",
   "metadata": {},
   "source": [
    "##### Q6. What is the best way to make a Unicode text file in a particular encoding format?\n",
    "```\n",
    "with open('myfile.txt', mode='w', encoding='utf-8') as file:\n",
    "    file.write('Hello, world!')\n",
    "```\n"
   ]
  },
  {
   "attachments": {},
   "cell_type": "markdown",
   "metadata": {},
   "source": [
    "##### Q7. What qualifies ASCII text as a form of Unicode text?\n",
    "\n",
    "The ASCII character set is a subset of the Unicode character set and consists of 128 characters, including uppercase and lowercase letters, digits, punctuation marks, and control characters. The ASCII characters are assigned code points ranging from 0 to 127 in the Unicode character set.\n"
   ]
  },
  {
   "attachments": {},
   "cell_type": "markdown",
   "metadata": {},
   "source": [
    "##### Q8. How much of an effect does the change in string types in Python 3.X have on your code?\n",
    "\n",
    "- Unicode by default: In Python 3.X, all strings are Unicode by default, which means that they can represent any character from any language. This is a major change from Python 2.X, where there were two types of strings: ASCII strings and Unicode strings.\n",
    "\n",
    "- Different string literals: In Python 3.X, the syntax for string literals has changed slightly. You now use either single quotes ('...') or double quotes (\"...\") for string literals, but you cannot use a mix of both. In Python 2.X, you could use either single or double quotes interchangeably.\n",
    "\n",
    "- Different string operations: Some string operations have changed in Python 3.X. For example, the str() function now returns a Unicode string instead of a byte string. The % operator for string formatting has also been replaced with the str.format() method.\n",
    "\n",
    "- Binary mode: In Python 3.X, binary data and text data are handled separately, whereas in Python 2.X, they were handled the same way. This means that if you are reading or writing binary data, you need to use binary mode ('rb' or 'wb'), whereas if you are reading or writing text data, you need to use text mode ('rt' or 'wt')."
   ]
  },
  {
   "cell_type": "code",
   "execution_count": null,
   "metadata": {},
   "outputs": [],
   "source": []
  }
 ],
 "metadata": {
  "kernelspec": {
   "display_name": "base",
   "language": "python",
   "name": "python3"
  },
  "language_info": {
   "name": "python",
   "version": "3.9.13 (main, Aug 25 2022, 23:51:50) [MSC v.1916 64 bit (AMD64)]"
  },
  "orig_nbformat": 4,
  "vscode": {
   "interpreter": {
    "hash": "d56d7ac4ee4883c35c50b079d388610bdf13d54aa1c1112da169cfd5d54eb276"
   }
  }
 },
 "nbformat": 4,
 "nbformat_minor": 2
}
