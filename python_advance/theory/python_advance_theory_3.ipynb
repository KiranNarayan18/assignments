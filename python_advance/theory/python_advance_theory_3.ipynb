{
 "cells": [
  {
   "attachments": {},
   "cell_type": "markdown",
   "metadata": {},
   "source": [
    "##### 1. What is the concept of an abstract superclass?\n",
    "\n",
    "An abstract superclass is a class that cannot be instantiated and is typically used as a base class for other classes that inherit its properties and methods. It is typically used to define a common interface or set of behaviors that will be shared by all subclasses. An abstract class can have both abstract and non-abstract methods (abstract methods are methods that do not have a body and must be overridden by subclasses). Subclasses of an abstract class must provide an implementation for all abstract methods declared in the superclass."
   ]
  },
  {
   "attachments": {},
   "cell_type": "markdown",
   "metadata": {},
   "source": [
    "##### 2. What happens when a class statement's top level contains a basic assignment statement?\n",
    "\n",
    "When a class statement's top level contains a basic assignment statement, it creates an instance variable within the class with the specified name and assigns it the value specified in the assignment statement. The instance variable can then be accessed and modified by methods within the class."
   ]
  },
  {
   "attachments": {},
   "cell_type": "markdown",
   "metadata": {},
   "source": [
    "##### 3. Why does a class need to manually call a superclass's __init__ method?\n",
    "\n",
    "When a class inherits from a superclass, the subclass's __init__ method overrides the superclass's __init__ method. If the subclass's __init__ method does not call the superclass's __init__ method, the superclass's initialization code will not be executed and the object's state will not be properly set up.\n",
    "\n",
    "By calling the superclass's __init__ method, the subclass can ensure that the superclass's initialization code is executed, setting up the object's state as expected, and then the subclass can perform additional initialization steps that are specific to the subclass.\n"
   ]
  },
  {
   "attachments": {},
   "cell_type": "markdown",
   "metadata": {},
   "source": [
    "##### 4. How can you augment, instead of completely replacing, an inherited method?\n",
    "You can augment an inherited method by defining a new method with the same name in the subclass and calling the superclass's method to perform its original functionality.\n",
    "\n",
    "class SuperClass:\n",
    "    def inherited_method(self, arg1):\n",
    "        print(arg1)\n",
    "\n",
    "class SubClass(SuperClass):\n",
    "    def inherited_method(self, arg1):\n",
    "        super().inherited_method(arg1)\n",
    ".\n"
   ]
  },
  {
   "attachments": {},
   "cell_type": "markdown",
   "metadata": {},
   "source": [
    "##### 5. How is the local scope of a class different from that of a function?\n",
    "\n",
    "The local scope of a class is different from that of a function in a few ways:\n",
    "\n",
    "Lifetime: The local scope of a class is created when the class is defined and persists for the lifetime of the program, whereas the local scope of a function is created each time the function is called and is destroyed when the function returns.\n",
    "\n",
    "Accessibility: The local scope of a class is accessible to all methods within the class, whereas the local scope of a function is only accessible within the function's code block.\n",
    "\n",
    "Variables: Variables defined within the local scope of a class are known as class variables, and they are shared among all instances of the class, whereas variables defined within the local scope of a function are known as local variables and are only accessible within the function.\n",
    "\n",
    "Instance Variables: Class also has the ability to define instance variables, which are unique to each instance of the class and are accessible within the class methods. They are defined within the __init__ method or by using the self keyword within the class.\n",
    "\n",
    "Inheritance: A class can have a hierarchy of inheritance, a subclass can inherit properties and methods from its superclass and can also add or override them. While a function does not have the ability to inherit anything.\n",
    "\n",
    "In summary, the local scope of a class is a broader concept, it's created once and shared among all class methods and instances, while a function's local scope is created each time the function is called, and its variables are not accessible outside of the function."
   ]
  },
  {
   "cell_type": "markdown",
   "metadata": {},
   "source": []
  },
  {
   "cell_type": "markdown",
   "metadata": {},
   "source": []
  },
  {
   "cell_type": "markdown",
   "metadata": {},
   "source": []
  }
 ],
 "metadata": {
  "language_info": {
   "name": "python"
  },
  "orig_nbformat": 4
 },
 "nbformat": 4,
 "nbformat_minor": 2
}
