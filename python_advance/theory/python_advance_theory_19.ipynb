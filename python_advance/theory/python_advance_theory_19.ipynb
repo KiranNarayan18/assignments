{
 "cells": [
  {
   "attachments": {},
   "cell_type": "markdown",
   "metadata": {},
   "source": [
    "##### Q1. Define the relationship between a class and its instances. Is it a one-to-one or a one-to-many partnership, for example?\n",
    "\n",
    "A class is a blueprint or template that defines the attributes and methods of an object. An instance, on the other hand, is a specific occurrence of an object created from a class.\n",
    "\n",
    "The relationship between a class and its instances is a one-to-many partnership. "
   ]
  },
  {
   "attachments": {},
   "cell_type": "markdown",
   "metadata": {},
   "source": [
    "##### Q2. What kind of data is held only in an instance?\n",
    "\n",
    "Instance variables hold data that is specific to an instance of a class. This means that each instance has its own copy of the instance variables and their values, which can be different for each instance."
   ]
  },
  {
   "attachments": {},
   "cell_type": "markdown",
   "metadata": {},
   "source": [
    "##### Q3. What kind of knowledge is stored in a class?\n",
    "\n",
    " It defines the structure and behavior of objects that will be created from it. The attributes of a class can be shared among all instances of that class, whereas the attributes of an instance are unique to that specific instance. "
   ]
  },
  {
   "attachments": {},
   "cell_type": "markdown",
   "metadata": {},
   "source": [
    "##### Q4. What exactly is a method, and how is it different from a regular function?\n",
    "\n",
    " A method is a function that belongs to an object, usually an instance of a class. Methods are similar to regular functions, but they are defined within a class and have access to the object's data (i.e., instance variables) and methods.\n",
    "\n",
    "One key difference between a method and a regular function is that a method is called on an instance of a class and is therefore bound to that instance. This means that the first argument passed to the method is always the instance itself, conventionally named self. In contrast, a regular function is not bound to any instance or class and can be called from anywhere in the code, with any arguments that are appropriate for the function's signature\n"
   ]
  },
  {
   "cell_type": "code",
   "execution_count": 1,
   "metadata": {},
   "outputs": [
    {
     "name": "stdout",
     "output_type": "stream",
     "text": [
      "Fido\n",
      "3\n",
      "Labrador Retriever\n",
      "Woof! I am a dog.\n"
     ]
    }
   ],
   "source": [
    "##### Q5. Is inheritance supported in Python, and if so, what is the syntax?\n",
    "\n",
    "# yes python supports inheritance\n",
    "\n",
    "class Animal:\n",
    "    def __init__(self, name, age):\n",
    "        self.name = name\n",
    "        self.age = age\n",
    "\n",
    "    def speak(self):\n",
    "        print(\"I am an animal.\")\n",
    "\n",
    "class Dog(Animal):\n",
    "    def __init__(self, name, age, breed):\n",
    "        super().__init__(name, age)\n",
    "        self.breed = breed\n",
    "\n",
    "    def speak(self):\n",
    "        print(\"Woof! I am a dog.\")\n",
    "\n",
    "my_dog = Dog(\"Fido\", 3, \"Labrador Retriever\")\n",
    "print(my_dog.name)  \n",
    "print(my_dog.age) \n",
    "print(my_dog.breed) \n",
    "my_dog.speak()  \n",
    "\n",
    "\n"
   ]
  },
  {
   "attachments": {},
   "cell_type": "markdown",
   "metadata": {},
   "source": [
    "##### Q6. How much encapsulation (making instance or class variables private) does Python support?\n",
    "\n",
    "Python does not provide true encapsulation in the sense that access to private or protected variables can still be achieved by using special name mangling. This means that private and protected variables can be accessed from outside the class by modifying their names. "
   ]
  },
  {
   "attachments": {},
   "cell_type": "markdown",
   "metadata": {},
   "source": [
    "##### Q7. How do you distinguish between a class variable and an instance variable?\n",
    "\n",
    "- A class variable is declared within the class block, but outside of any method, using the class name, while an instance variable is declared inside a method or the constructor, using the self keyword.\n",
    "- Class variables can be accessed using the class name, while instance variables can only be accessed using an instance of the class.\n",
    "- Class variables have a global scope within the class, while instance variables have a local scope to the instance."
   ]
  },
  {
   "attachments": {},
   "cell_type": "markdown",
   "metadata": {},
   "source": [
    "##### Q8. When, if ever, can self be included in a class's method definitions?\n",
    "\n",
    "self is a conventionally used parameter name that refers to the instance of the class that the method is being called on. Therefore, self is included in almost all class method definitions, except for class methods that are defined as @staticmethod or @classmethod, which do not have access to the instance of the class."
   ]
  },
  {
   "attachments": {},
   "cell_type": "markdown",
   "metadata": {},
   "source": [
    "##### Q9. What is the difference between the _ _add_ _ and the _ _radd_ _ methods?\n",
    "\n",
    "__add__ is a method that defines the behavior of the + operator when the left operand is an instance of the class.   \n",
    "   \n",
    "__radd__, on the other hand, is used when the left operand is not an instance of the class, but the right operand is."
   ]
  },
  {
   "attachments": {},
   "cell_type": "markdown",
   "metadata": {},
   "source": [
    "##### Q10. When is it necessary to use a reflection method? When do you not need it, even though you support the operation in question?\n",
    "\n",
    "A reflection method is used to implement certain operations, such as checking if an object has a certain attribute, or accessing an object's attributes by name. Reflection methods allow Python code to examine and manipulate objects at runtime, even if the objects were not known at compile time."
   ]
  },
  {
   "cell_type": "markdown",
   "metadata": {},
   "source": [
    "##### Q11. What is the _ _iadd_ _ method called?\n",
    "\n",
    "The __iadd__ method is called the \"in-place addition\" method. It is used when the += operator is used on an object of a class."
   ]
  },
  {
   "cell_type": "markdown",
   "metadata": {},
   "source": [
    "##### Q12. Is the _ _init_ _ method inherited by subclasses? What do you do if you need to customize its behavior within a subclass?\n",
    "\n",
    "Yes, the __init__ method is inherited by subclasses. If you need to customize its behavior within a subclass, you can override it by defining a new __init__ method in the subclass. "
   ]
  }
 ],
 "metadata": {
  "kernelspec": {
   "display_name": "Python 3",
   "language": "python",
   "name": "python3"
  },
  "language_info": {
   "codemirror_mode": {
    "name": "ipython",
    "version": 3
   },
   "file_extension": ".py",
   "mimetype": "text/x-python",
   "name": "python",
   "nbconvert_exporter": "python",
   "pygments_lexer": "ipython3",
   "version": "3.9.16"
  },
  "orig_nbformat": 4,
  "vscode": {
   "interpreter": {
    "hash": "b53f8db218d8926f392992436089d4ad081a92e1d45171ec7cd9ba30c6b0c9a1"
   }
  }
 },
 "nbformat": 4,
 "nbformat_minor": 2
}
