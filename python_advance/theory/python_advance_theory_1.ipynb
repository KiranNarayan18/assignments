{
 "cells": [
  {
   "attachments": {},
   "cell_type": "markdown",
   "metadata": {},
   "source": [
    "##### Q1. What is the purpose of Python's OOP?\n",
    "\n",
    "Object-oriented Programming (OOPs) is a programming paradigm that uses objects and classes in programming. It aims to implement real-world entities like inheritance, polymorphisms, encapsulation, etc. in the programming. The main concept of OOPs is to bind the data and the functions that work on that together as a single unit so that no other part of the code can access this data."
   ]
  },
  {
   "attachments": {},
   "cell_type": "markdown",
   "metadata": {},
   "source": [
    "##### Q2. Where does an inheritance search look for an attribute?\n",
    "\n",
    "Python searches for an attribute in an upward tree of attributes. Tt first searches for the attribute in its instance and then looks in the class it is generated from, to all super classes listed in its class header."
   ]
  },
  {
   "attachments": {},
   "cell_type": "markdown",
   "metadata": {},
   "source": [
    "##### Q3. How do you distinguish between a class object and an instance object?\n",
    "\n",
    "A class object is a blueprint for creating instances of the class, while an instance object is a specific instance of a class that has its own unique state. In Python, a class is defined using the \"class\" keyword, and an instance is created by calling the class name as a function. For example:\n",
    "\n",
    "```\n",
    "class MyClass:\n",
    "    pass\n",
    "\n",
    "my_instance = MyClass()\n",
    "```\n",
    "\n",
    "In this example, \"MyClass\" is a class object and \"my_instance\" is an instance object."
   ]
  },
  {
   "attachments": {},
   "cell_type": "markdown",
   "metadata": {},
   "source": [
    "##### Q4. What makes the first argument in a class’s method function special?\n",
    "\n",
    "In Python, the first argument in a class method is typically named \"self\". This argument represents the instance of the class on which the method is called. It gives the method access to the attributes and methods of the class and allows the method to modify the state of the instance."
   ]
  },
  {
   "attachments": {},
   "cell_type": "markdown",
   "metadata": {},
   "source": [
    "##### Q5. What is the purpose of the __init__ method?\n",
    "\n",
    "In Python, the `__init__` method is a special method that is automatically called when an instance of a class is created. It is used to initialize the attributes of the class and set them to their default values. It is also known as a constructor.\n",
    "\n",
    "The `__init__` method has the special name `__init__` (double underscores before and after the word init) and it has to have the first parameter as self which refers to the instance of the class.\n"
   ]
  },
  {
   "attachments": {},
   "cell_type": "markdown",
   "metadata": {},
   "source": [
    "##### Q6. What is the process for creating a class instance?\n",
    "\n",
    "1. Define a class: A class is defined using the \"class\" keyword, followed by the class name, a colon, and the class body. The class body contains the methods and attributes of the class.\n",
    "\n",
    "2. Create an instance: An instance of a class is created by calling the class name as a function. This is done by passing any required arguments to the class constructor (the __init__ method) and assigning the result to a variable.\n",
    "\n",
    "3. Initialize the instance: When an instance is created, the __init__ method is called automatically. This method is used to initialize the attributes of the class and set them to their default values. If the class does not define an __init__ method, then the instance will be created with no initial values for its attributes.\n",
    "\n"
   ]
  },
  {
   "attachments": {},
   "cell_type": "markdown",
   "metadata": {},
   "source": [
    "##### Q7. What is the process for creating a class?\n",
    "\n",
    "1. Define the class: A class is defined using the \"class\" keyword, followed by the class name, a colon, and the class body. The class body contains the methods and attributes of the class.\n",
    "\n",
    "2. Define the class methods and attributes: Inside the class body, you can define the methods and attributes that the class will have. Methods are functions that are associated with the class and can be called on instances of the class. Attributes are variables that store data associated with the class.\n",
    "\n",
    "3. Define the constructor: The constructor is a special method called __init__ which is called when an instance of the class is created. It is used to initialize the attributes of the class and set them to their default values.\n",
    "\n",
    "4. Create instances of the class: Once the class is defined, you can create instances of the class by calling the class name as a function, passing any required arguments to the class constructor."
   ]
  },
  {
   "attachments": {},
   "cell_type": "markdown",
   "metadata": {},
   "source": [
    "##### Q8. How would you define the superclasses of a class?\n",
    "\n",
    "In Python, a class can have one or more superclasses, also known as base classes. A class that inherits from one or more superclasses is called a subclass. The process of creating a subclass and defining its superclasses is called inheritance.\n",
    "\n",
    "To define the superclasses of a class, you use the class definition and the (parent_class1, parent_class2, ...) syntax, where the parent_class is the name of the superclass.\n"
   ]
  },
  {
   "cell_type": "markdown",
   "metadata": {},
   "source": []
  },
  {
   "cell_type": "markdown",
   "metadata": {},
   "source": []
  },
  {
   "cell_type": "code",
   "execution_count": null,
   "metadata": {},
   "outputs": [],
   "source": []
  }
 ],
 "metadata": {
  "kernelspec": {
   "display_name": "base",
   "language": "python",
   "name": "python3"
  },
  "language_info": {
   "name": "python",
   "version": "3.9.13 (main, Aug 25 2022, 23:51:50) [MSC v.1916 64 bit (AMD64)]"
  },
  "orig_nbformat": 4,
  "vscode": {
   "interpreter": {
    "hash": "d56d7ac4ee4883c35c50b079d388610bdf13d54aa1c1112da169cfd5d54eb276"
   }
  }
 },
 "nbformat": 4,
 "nbformat_minor": 2
}
