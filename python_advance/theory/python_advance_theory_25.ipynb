{
 "cells": [
  {
   "attachments": {},
   "cell_type": "markdown",
   "metadata": {},
   "source": [
    "##### Q1. What is the distinction between a numpy array and a pandas data frame? Is there a way to convert between the two if there is?\n",
    "\n",
    "The fundamental distinction between a numpy array and a pandas dataframe is that numpy arrays are homogeneous, whereas pandas dataframes are heterogeneous. Numpy arrays are a collection of elements of the same data type, such as integers or floats, arranged in a grid of rows and columns. In contrast, a pandas dataframe is a two-dimensional labelled data structure with columns of varying data types, such as integers, floats, strings, or even other dataframes."
   ]
  },
  {
   "attachments": {},
   "cell_type": "markdown",
   "metadata": {},
   "source": [
    "##### Q2. What can go wrong when an user enters in a stock-ticker symbol, and how do you handle it?\n",
    "- Invalid input\n",
    "- No data available\n",
    "- Missing data\n",
    "- Data accuracy\n",
    "\n",
    "\n",
    "To handle these issues, it's important to validate user input and implement error-handling mechanisms that alert the user if any issues arise. Additionally, it may be helpful to use data cleaning and filtering techniques to remove missing or inaccurate data. Furthermore, it's a good idea to provide users with options to choose from a list of available ticker symbols to avoid invalid input."
   ]
  },
  {
   "attachments": {},
   "cell_type": "markdown",
   "metadata": {},
   "source": [
    "##### Q3. Identify some of the plotting techniques that are used to produce a stock-market chart.\n",
    "\n",
    "- Line charts\n",
    "- Candlestick charts\n",
    "- Bar charts\n",
    "- Area charts\n",
    "- Point and figure charts\n",
    "- Renko charts"
   ]
  },
  {
   "attachments": {},
   "cell_type": "markdown",
   "metadata": {},
   "source": [
    "##### Q4. Why is it essential to print a legend on a stock market chart?\n",
    "\n",
    "It is important to print a legend on a stock market chart because it helps in identifying the various elements of the chart, such as lines or bars, and the data they represent. The legend typically lists the symbols, colors, or patterns used in the chart, along with a label or description of what they represent. "
   ]
  },
  {
   "attachments": {},
   "cell_type": "markdown",
   "metadata": {},
   "source": [
    "##### Q5. What is the best way to limit the length of a pandas data frame to less than a year?\n",
    "\n",
    "```\n",
    "import pandas as pd\n",
    "import numpy as np\n",
    "\n",
    "dates = pd.date_range('2022-01-01', periods=365)\n",
    "df = pd.DataFrame(np.random.randn(365, 4), index=dates, columns=list('ABCD'))\n",
    "\n",
    "last_year = pd.Timestamp('today') - pd.Timedelta(days=365)\n",
    "df = df[df.index >= last_year]\n"
   ]
  },
  {
   "attachments": {},
   "cell_type": "markdown",
   "metadata": {},
   "source": [
    "##### Q6. What is the definition of a 180-day moving average?\n",
    "\n",
    "A 180-day moving average is a technical analysis indicator that calculates the average price of a stock over the previous 180 trading days. It is a widely used metric in finance that helps to smooth out short-term fluctuations in price and to identify longer-term trends. \n",
    "\n",
    "To calculate a 180-day moving average, the closing price of the stock for the last 180 trading days is summed and then divided by 180. This process is repeated each day, using the most recent 180 days of data, to create a continuous series of 180-day moving average values.\n"
   ]
  },
  {
   "attachments": {},
   "cell_type": "markdown",
   "metadata": {},
   "source": [
    "##### Q7. Did the chapter's final example use \"indirect\" importing? If so, how exactly do you do it?\n"
   ]
  },
  {
   "cell_type": "markdown",
   "metadata": {},
   "source": []
  },
  {
   "cell_type": "code",
   "execution_count": null,
   "metadata": {},
   "outputs": [],
   "source": []
  }
 ],
 "metadata": {
  "language_info": {
   "name": "python"
  },
  "orig_nbformat": 4
 },
 "nbformat": 4,
 "nbformat_minor": 2
}
